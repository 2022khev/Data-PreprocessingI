{
 "cells": [
  {
   "cell_type": "code",
   "execution_count": 1,
   "id": "d5908d76",
   "metadata": {},
   "outputs": [
    {
     "data": {
      "text/html": [
       "<div>\n",
       "<style scoped>\n",
       "    .dataframe tbody tr th:only-of-type {\n",
       "        vertical-align: middle;\n",
       "    }\n",
       "\n",
       "    .dataframe tbody tr th {\n",
       "        vertical-align: top;\n",
       "    }\n",
       "\n",
       "    .dataframe thead th {\n",
       "        text-align: right;\n",
       "    }\n",
       "</style>\n",
       "<table border=\"1\" class=\"dataframe\">\n",
       "  <thead>\n",
       "    <tr style=\"text-align: right;\">\n",
       "      <th></th>\n",
       "      <th>Date</th>\n",
       "    </tr>\n",
       "  </thead>\n",
       "  <tbody>\n",
       "    <tr>\n",
       "      <th>0</th>\n",
       "      <td>2021-01-01</td>\n",
       "    </tr>\n",
       "    <tr>\n",
       "      <th>1</th>\n",
       "      <td>2021-01-02</td>\n",
       "    </tr>\n",
       "    <tr>\n",
       "      <th>2</th>\n",
       "      <td>2021-01-03</td>\n",
       "    </tr>\n",
       "    <tr>\n",
       "      <th>3</th>\n",
       "      <td>2021-01-04</td>\n",
       "    </tr>\n",
       "    <tr>\n",
       "      <th>4</th>\n",
       "      <td>2021-01-05</td>\n",
       "    </tr>\n",
       "  </tbody>\n",
       "</table>\n",
       "</div>"
      ],
      "text/plain": [
       "         Date\n",
       "0  2021-01-01\n",
       "1  2021-01-02\n",
       "2  2021-01-03\n",
       "3  2021-01-04\n",
       "4  2021-01-05"
      ]
     },
     "execution_count": 1,
     "metadata": {},
     "output_type": "execute_result"
    }
   ],
   "source": [
    "import pandas as pd\n",
    "\n",
    "dt = pd.DataFrame(['2021-01-01','2021-01-02','2021-01-03','2021-01-04','2021-01-05','2021-01-06','2021-01-07',\n",
    "'2021-01-08','2021-01-09','2021-01-10','2021-01-11','2021-01-12','2021-01-13','2021-01-14','2021-01-15',\n",
    "'2021-01-16','2021-01-17','2021-01-18','2021-01-18','2021-01-19','2021-01-20','2021-01-21','2021-01-22',\n",
    "'2021-01-23','2021-01-24','2021-01-25','2021-01-26','2021-01-27','2021-01-28','2021-01-29','2021-01-30',\n",
    "'2021-01-31'],columns = [\"Date\"])\n",
    "dt.head()"
   ]
  },
  {
   "cell_type": "code",
   "execution_count": 2,
   "id": "23c01a5b",
   "metadata": {},
   "outputs": [
    {
     "name": "stdout",
     "output_type": "stream",
     "text": [
      "<class 'pandas.core.frame.DataFrame'>\n",
      "RangeIndex: 32 entries, 0 to 31\n",
      "Data columns (total 1 columns):\n",
      " #   Column  Non-Null Count  Dtype \n",
      "---  ------  --------------  ----- \n",
      " 0   Date    32 non-null     object\n",
      "dtypes: object(1)\n",
      "memory usage: 384.0+ bytes\n"
     ]
    }
   ],
   "source": [
    "dt.info()"
   ]
  },
  {
   "cell_type": "code",
   "execution_count": 3,
   "id": "3f867639",
   "metadata": {},
   "outputs": [
    {
     "data": {
      "text/plain": [
       "0    2021-01-01\n",
       "1    2021-01-02\n",
       "2    2021-01-03\n",
       "3    2021-01-04\n",
       "4    2021-01-05\n",
       "5    2021-01-06\n",
       "6    2021-01-07\n",
       "7    2021-01-08\n",
       "8    2021-01-09\n",
       "9    2021-01-10\n",
       "10   2021-01-11\n",
       "11   2021-01-12\n",
       "12   2021-01-13\n",
       "13   2021-01-14\n",
       "14   2021-01-15\n",
       "15   2021-01-16\n",
       "16   2021-01-17\n",
       "17   2021-01-18\n",
       "18   2021-01-18\n",
       "19   2021-01-19\n",
       "20   2021-01-20\n",
       "21   2021-01-21\n",
       "22   2021-01-22\n",
       "23   2021-01-23\n",
       "24   2021-01-24\n",
       "25   2021-01-25\n",
       "26   2021-01-26\n",
       "27   2021-01-27\n",
       "28   2021-01-28\n",
       "29   2021-01-29\n",
       "30   2021-01-30\n",
       "31   2021-01-31\n",
       "Name: Date, dtype: datetime64[ns]"
      ]
     },
     "execution_count": 3,
     "metadata": {},
     "output_type": "execute_result"
    }
   ],
   "source": [
    "pd.to_datetime(dt['Date'])                     "
   ]
  },
  {
   "cell_type": "code",
   "execution_count": 4,
   "id": "ee5819cf",
   "metadata": {},
   "outputs": [],
   "source": [
    "dt['Date'] = pd.to_datetime(dt['Date'])"
   ]
  },
  {
   "cell_type": "code",
   "execution_count": 5,
   "id": "6c62cc86",
   "metadata": {},
   "outputs": [
    {
     "data": {
      "text/plain": [
       "Date    datetime64[ns]\n",
       "dtype: object"
      ]
     },
     "execution_count": 5,
     "metadata": {},
     "output_type": "execute_result"
    }
   ],
   "source": [
    "dt.dtypes"
   ]
  },
  {
   "cell_type": "code",
   "execution_count": 6,
   "id": "01a4b953",
   "metadata": {},
   "outputs": [
    {
     "data": {
      "text/plain": [
       "0     2021\n",
       "1     2021\n",
       "2     2021\n",
       "3     2021\n",
       "4     2021\n",
       "5     2021\n",
       "6     2021\n",
       "7     2021\n",
       "8     2021\n",
       "9     2021\n",
       "10    2021\n",
       "11    2021\n",
       "12    2021\n",
       "13    2021\n",
       "14    2021\n",
       "15    2021\n",
       "16    2021\n",
       "17    2021\n",
       "18    2021\n",
       "19    2021\n",
       "20    2021\n",
       "21    2021\n",
       "22    2021\n",
       "23    2021\n",
       "24    2021\n",
       "25    2021\n",
       "26    2021\n",
       "27    2021\n",
       "28    2021\n",
       "29    2021\n",
       "30    2021\n",
       "31    2021\n",
       "Name: Date, dtype: int64"
      ]
     },
     "execution_count": 6,
     "metadata": {},
     "output_type": "execute_result"
    }
   ],
   "source": [
    "dt[\"Date\"].dt.year"
   ]
  },
  {
   "cell_type": "code",
   "execution_count": 7,
   "id": "b41dfd36",
   "metadata": {},
   "outputs": [
    {
     "data": {
      "text/plain": [
       "0     1\n",
       "1     1\n",
       "2     1\n",
       "3     1\n",
       "4     1\n",
       "5     1\n",
       "6     1\n",
       "7     1\n",
       "8     1\n",
       "9     1\n",
       "10    1\n",
       "11    1\n",
       "12    1\n",
       "13    1\n",
       "14    1\n",
       "15    1\n",
       "16    1\n",
       "17    1\n",
       "18    1\n",
       "19    1\n",
       "20    1\n",
       "21    1\n",
       "22    1\n",
       "23    1\n",
       "24    1\n",
       "25    1\n",
       "26    1\n",
       "27    1\n",
       "28    1\n",
       "29    1\n",
       "30    1\n",
       "31    1\n",
       "Name: Date, dtype: int64"
      ]
     },
     "execution_count": 7,
     "metadata": {},
     "output_type": "execute_result"
    }
   ],
   "source": [
    "dt[\"Date\"].dt.month"
   ]
  },
  {
   "cell_type": "code",
   "execution_count": 8,
   "id": "c3d3c4b4",
   "metadata": {},
   "outputs": [
    {
     "data": {
      "text/plain": [
       "0      1\n",
       "1      2\n",
       "2      3\n",
       "3      4\n",
       "4      5\n",
       "5      6\n",
       "6      7\n",
       "7      8\n",
       "8      9\n",
       "9     10\n",
       "10    11\n",
       "11    12\n",
       "12    13\n",
       "13    14\n",
       "14    15\n",
       "15    16\n",
       "16    17\n",
       "17    18\n",
       "18    18\n",
       "19    19\n",
       "20    20\n",
       "21    21\n",
       "22    22\n",
       "23    23\n",
       "24    24\n",
       "25    25\n",
       "26    26\n",
       "27    27\n",
       "28    28\n",
       "29    29\n",
       "30    30\n",
       "31    31\n",
       "Name: Date, dtype: int64"
      ]
     },
     "execution_count": 8,
     "metadata": {},
     "output_type": "execute_result"
    }
   ],
   "source": [
    "dt[\"Date\"].dt.day"
   ]
  },
  {
   "cell_type": "code",
   "execution_count": 9,
   "id": "a17501bf",
   "metadata": {},
   "outputs": [
    {
     "data": {
      "text/html": [
       "<div>\n",
       "<style scoped>\n",
       "    .dataframe tbody tr th:only-of-type {\n",
       "        vertical-align: middle;\n",
       "    }\n",
       "\n",
       "    .dataframe tbody tr th {\n",
       "        vertical-align: top;\n",
       "    }\n",
       "\n",
       "    .dataframe thead th {\n",
       "        text-align: right;\n",
       "    }\n",
       "</style>\n",
       "<table border=\"1\" class=\"dataframe\">\n",
       "  <thead>\n",
       "    <tr style=\"text-align: right;\">\n",
       "      <th></th>\n",
       "      <th>M</th>\n",
       "    </tr>\n",
       "  </thead>\n",
       "  <tbody>\n",
       "    <tr>\n",
       "      <th>0</th>\n",
       "      <td>Friday</td>\n",
       "    </tr>\n",
       "    <tr>\n",
       "      <th>1</th>\n",
       "      <td>Saturday</td>\n",
       "    </tr>\n",
       "    <tr>\n",
       "      <th>2</th>\n",
       "      <td>Sunday</td>\n",
       "    </tr>\n",
       "    <tr>\n",
       "      <th>3</th>\n",
       "      <td>Monday</td>\n",
       "    </tr>\n",
       "    <tr>\n",
       "      <th>4</th>\n",
       "      <td>Tuesday</td>\n",
       "    </tr>\n",
       "    <tr>\n",
       "      <th>5</th>\n",
       "      <td>Wednesday</td>\n",
       "    </tr>\n",
       "    <tr>\n",
       "      <th>6</th>\n",
       "      <td>Thursday</td>\n",
       "    </tr>\n",
       "    <tr>\n",
       "      <th>7</th>\n",
       "      <td>Friday</td>\n",
       "    </tr>\n",
       "    <tr>\n",
       "      <th>8</th>\n",
       "      <td>Saturday</td>\n",
       "    </tr>\n",
       "    <tr>\n",
       "      <th>9</th>\n",
       "      <td>Sunday</td>\n",
       "    </tr>\n",
       "    <tr>\n",
       "      <th>10</th>\n",
       "      <td>Monday</td>\n",
       "    </tr>\n",
       "    <tr>\n",
       "      <th>11</th>\n",
       "      <td>Tuesday</td>\n",
       "    </tr>\n",
       "    <tr>\n",
       "      <th>12</th>\n",
       "      <td>Wednesday</td>\n",
       "    </tr>\n",
       "    <tr>\n",
       "      <th>13</th>\n",
       "      <td>Thursday</td>\n",
       "    </tr>\n",
       "    <tr>\n",
       "      <th>14</th>\n",
       "      <td>Friday</td>\n",
       "    </tr>\n",
       "    <tr>\n",
       "      <th>15</th>\n",
       "      <td>Saturday</td>\n",
       "    </tr>\n",
       "    <tr>\n",
       "      <th>16</th>\n",
       "      <td>Sunday</td>\n",
       "    </tr>\n",
       "    <tr>\n",
       "      <th>17</th>\n",
       "      <td>Monday</td>\n",
       "    </tr>\n",
       "    <tr>\n",
       "      <th>18</th>\n",
       "      <td>Monday</td>\n",
       "    </tr>\n",
       "    <tr>\n",
       "      <th>19</th>\n",
       "      <td>Tuesday</td>\n",
       "    </tr>\n",
       "    <tr>\n",
       "      <th>20</th>\n",
       "      <td>Wednesday</td>\n",
       "    </tr>\n",
       "    <tr>\n",
       "      <th>21</th>\n",
       "      <td>Thursday</td>\n",
       "    </tr>\n",
       "    <tr>\n",
       "      <th>22</th>\n",
       "      <td>Friday</td>\n",
       "    </tr>\n",
       "    <tr>\n",
       "      <th>23</th>\n",
       "      <td>Saturday</td>\n",
       "    </tr>\n",
       "    <tr>\n",
       "      <th>24</th>\n",
       "      <td>Sunday</td>\n",
       "    </tr>\n",
       "    <tr>\n",
       "      <th>25</th>\n",
       "      <td>Monday</td>\n",
       "    </tr>\n",
       "    <tr>\n",
       "      <th>26</th>\n",
       "      <td>Tuesday</td>\n",
       "    </tr>\n",
       "    <tr>\n",
       "      <th>27</th>\n",
       "      <td>Wednesday</td>\n",
       "    </tr>\n",
       "    <tr>\n",
       "      <th>28</th>\n",
       "      <td>Thursday</td>\n",
       "    </tr>\n",
       "    <tr>\n",
       "      <th>29</th>\n",
       "      <td>Friday</td>\n",
       "    </tr>\n",
       "    <tr>\n",
       "      <th>30</th>\n",
       "      <td>Saturday</td>\n",
       "    </tr>\n",
       "    <tr>\n",
       "      <th>31</th>\n",
       "      <td>Sunday</td>\n",
       "    </tr>\n",
       "  </tbody>\n",
       "</table>\n",
       "</div>"
      ],
      "text/plain": [
       "            M\n",
       "0      Friday\n",
       "1    Saturday\n",
       "2      Sunday\n",
       "3      Monday\n",
       "4     Tuesday\n",
       "5   Wednesday\n",
       "6    Thursday\n",
       "7      Friday\n",
       "8    Saturday\n",
       "9      Sunday\n",
       "10     Monday\n",
       "11    Tuesday\n",
       "12  Wednesday\n",
       "13   Thursday\n",
       "14     Friday\n",
       "15   Saturday\n",
       "16     Sunday\n",
       "17     Monday\n",
       "18     Monday\n",
       "19    Tuesday\n",
       "20  Wednesday\n",
       "21   Thursday\n",
       "22     Friday\n",
       "23   Saturday\n",
       "24     Sunday\n",
       "25     Monday\n",
       "26    Tuesday\n",
       "27  Wednesday\n",
       "28   Thursday\n",
       "29     Friday\n",
       "30   Saturday\n",
       "31     Sunday"
      ]
     },
     "execution_count": 9,
     "metadata": {},
     "output_type": "execute_result"
    }
   ],
   "source": [
    "l = [k.day_name() for k in dt['Date']]\n",
    "pd.DataFrame(l,columns= ['M'])"
   ]
  },
  {
   "cell_type": "code",
   "execution_count": 10,
   "id": "3f86d7de",
   "metadata": {},
   "outputs": [
    {
     "data": {
      "text/html": [
       "<div>\n",
       "<style scoped>\n",
       "    .dataframe tbody tr th:only-of-type {\n",
       "        vertical-align: middle;\n",
       "    }\n",
       "\n",
       "    .dataframe tbody tr th {\n",
       "        vertical-align: top;\n",
       "    }\n",
       "\n",
       "    .dataframe thead th {\n",
       "        text-align: right;\n",
       "    }\n",
       "</style>\n",
       "<table border=\"1\" class=\"dataframe\">\n",
       "  <thead>\n",
       "    <tr style=\"text-align: right;\">\n",
       "      <th></th>\n",
       "      <th>Date</th>\n",
       "      <th>Year</th>\n",
       "      <th>Month</th>\n",
       "      <th>Day</th>\n",
       "      <th>Day_name</th>\n",
       "    </tr>\n",
       "  </thead>\n",
       "  <tbody>\n",
       "    <tr>\n",
       "      <th>0</th>\n",
       "      <td>2021-01-01</td>\n",
       "      <td>2021</td>\n",
       "      <td>1</td>\n",
       "      <td>1</td>\n",
       "      <td>Friday</td>\n",
       "    </tr>\n",
       "    <tr>\n",
       "      <th>1</th>\n",
       "      <td>2021-01-02</td>\n",
       "      <td>2021</td>\n",
       "      <td>1</td>\n",
       "      <td>2</td>\n",
       "      <td>Saturday</td>\n",
       "    </tr>\n",
       "    <tr>\n",
       "      <th>2</th>\n",
       "      <td>2021-01-03</td>\n",
       "      <td>2021</td>\n",
       "      <td>1</td>\n",
       "      <td>3</td>\n",
       "      <td>Sunday</td>\n",
       "    </tr>\n",
       "    <tr>\n",
       "      <th>3</th>\n",
       "      <td>2021-01-04</td>\n",
       "      <td>2021</td>\n",
       "      <td>1</td>\n",
       "      <td>4</td>\n",
       "      <td>Monday</td>\n",
       "    </tr>\n",
       "    <tr>\n",
       "      <th>4</th>\n",
       "      <td>2021-01-05</td>\n",
       "      <td>2021</td>\n",
       "      <td>1</td>\n",
       "      <td>5</td>\n",
       "      <td>Tuesday</td>\n",
       "    </tr>\n",
       "    <tr>\n",
       "      <th>5</th>\n",
       "      <td>2021-01-06</td>\n",
       "      <td>2021</td>\n",
       "      <td>1</td>\n",
       "      <td>6</td>\n",
       "      <td>Wednesday</td>\n",
       "    </tr>\n",
       "    <tr>\n",
       "      <th>6</th>\n",
       "      <td>2021-01-07</td>\n",
       "      <td>2021</td>\n",
       "      <td>1</td>\n",
       "      <td>7</td>\n",
       "      <td>Thursday</td>\n",
       "    </tr>\n",
       "    <tr>\n",
       "      <th>7</th>\n",
       "      <td>2021-01-08</td>\n",
       "      <td>2021</td>\n",
       "      <td>1</td>\n",
       "      <td>8</td>\n",
       "      <td>Friday</td>\n",
       "    </tr>\n",
       "    <tr>\n",
       "      <th>8</th>\n",
       "      <td>2021-01-09</td>\n",
       "      <td>2021</td>\n",
       "      <td>1</td>\n",
       "      <td>9</td>\n",
       "      <td>Saturday</td>\n",
       "    </tr>\n",
       "    <tr>\n",
       "      <th>9</th>\n",
       "      <td>2021-01-10</td>\n",
       "      <td>2021</td>\n",
       "      <td>1</td>\n",
       "      <td>10</td>\n",
       "      <td>Sunday</td>\n",
       "    </tr>\n",
       "    <tr>\n",
       "      <th>10</th>\n",
       "      <td>2021-01-11</td>\n",
       "      <td>2021</td>\n",
       "      <td>1</td>\n",
       "      <td>11</td>\n",
       "      <td>Monday</td>\n",
       "    </tr>\n",
       "    <tr>\n",
       "      <th>11</th>\n",
       "      <td>2021-01-12</td>\n",
       "      <td>2021</td>\n",
       "      <td>1</td>\n",
       "      <td>12</td>\n",
       "      <td>Tuesday</td>\n",
       "    </tr>\n",
       "    <tr>\n",
       "      <th>12</th>\n",
       "      <td>2021-01-13</td>\n",
       "      <td>2021</td>\n",
       "      <td>1</td>\n",
       "      <td>13</td>\n",
       "      <td>Wednesday</td>\n",
       "    </tr>\n",
       "    <tr>\n",
       "      <th>13</th>\n",
       "      <td>2021-01-14</td>\n",
       "      <td>2021</td>\n",
       "      <td>1</td>\n",
       "      <td>14</td>\n",
       "      <td>Thursday</td>\n",
       "    </tr>\n",
       "    <tr>\n",
       "      <th>14</th>\n",
       "      <td>2021-01-15</td>\n",
       "      <td>2021</td>\n",
       "      <td>1</td>\n",
       "      <td>15</td>\n",
       "      <td>Friday</td>\n",
       "    </tr>\n",
       "    <tr>\n",
       "      <th>15</th>\n",
       "      <td>2021-01-16</td>\n",
       "      <td>2021</td>\n",
       "      <td>1</td>\n",
       "      <td>16</td>\n",
       "      <td>Saturday</td>\n",
       "    </tr>\n",
       "    <tr>\n",
       "      <th>16</th>\n",
       "      <td>2021-01-17</td>\n",
       "      <td>2021</td>\n",
       "      <td>1</td>\n",
       "      <td>17</td>\n",
       "      <td>Sunday</td>\n",
       "    </tr>\n",
       "    <tr>\n",
       "      <th>17</th>\n",
       "      <td>2021-01-18</td>\n",
       "      <td>2021</td>\n",
       "      <td>1</td>\n",
       "      <td>18</td>\n",
       "      <td>Monday</td>\n",
       "    </tr>\n",
       "    <tr>\n",
       "      <th>18</th>\n",
       "      <td>2021-01-18</td>\n",
       "      <td>2021</td>\n",
       "      <td>1</td>\n",
       "      <td>18</td>\n",
       "      <td>Monday</td>\n",
       "    </tr>\n",
       "    <tr>\n",
       "      <th>19</th>\n",
       "      <td>2021-01-19</td>\n",
       "      <td>2021</td>\n",
       "      <td>1</td>\n",
       "      <td>19</td>\n",
       "      <td>Tuesday</td>\n",
       "    </tr>\n",
       "    <tr>\n",
       "      <th>20</th>\n",
       "      <td>2021-01-20</td>\n",
       "      <td>2021</td>\n",
       "      <td>1</td>\n",
       "      <td>20</td>\n",
       "      <td>Wednesday</td>\n",
       "    </tr>\n",
       "    <tr>\n",
       "      <th>21</th>\n",
       "      <td>2021-01-21</td>\n",
       "      <td>2021</td>\n",
       "      <td>1</td>\n",
       "      <td>21</td>\n",
       "      <td>Thursday</td>\n",
       "    </tr>\n",
       "    <tr>\n",
       "      <th>22</th>\n",
       "      <td>2021-01-22</td>\n",
       "      <td>2021</td>\n",
       "      <td>1</td>\n",
       "      <td>22</td>\n",
       "      <td>Friday</td>\n",
       "    </tr>\n",
       "    <tr>\n",
       "      <th>23</th>\n",
       "      <td>2021-01-23</td>\n",
       "      <td>2021</td>\n",
       "      <td>1</td>\n",
       "      <td>23</td>\n",
       "      <td>Saturday</td>\n",
       "    </tr>\n",
       "    <tr>\n",
       "      <th>24</th>\n",
       "      <td>2021-01-24</td>\n",
       "      <td>2021</td>\n",
       "      <td>1</td>\n",
       "      <td>24</td>\n",
       "      <td>Sunday</td>\n",
       "    </tr>\n",
       "    <tr>\n",
       "      <th>25</th>\n",
       "      <td>2021-01-25</td>\n",
       "      <td>2021</td>\n",
       "      <td>1</td>\n",
       "      <td>25</td>\n",
       "      <td>Monday</td>\n",
       "    </tr>\n",
       "    <tr>\n",
       "      <th>26</th>\n",
       "      <td>2021-01-26</td>\n",
       "      <td>2021</td>\n",
       "      <td>1</td>\n",
       "      <td>26</td>\n",
       "      <td>Tuesday</td>\n",
       "    </tr>\n",
       "    <tr>\n",
       "      <th>27</th>\n",
       "      <td>2021-01-27</td>\n",
       "      <td>2021</td>\n",
       "      <td>1</td>\n",
       "      <td>27</td>\n",
       "      <td>Wednesday</td>\n",
       "    </tr>\n",
       "    <tr>\n",
       "      <th>28</th>\n",
       "      <td>2021-01-28</td>\n",
       "      <td>2021</td>\n",
       "      <td>1</td>\n",
       "      <td>28</td>\n",
       "      <td>Thursday</td>\n",
       "    </tr>\n",
       "    <tr>\n",
       "      <th>29</th>\n",
       "      <td>2021-01-29</td>\n",
       "      <td>2021</td>\n",
       "      <td>1</td>\n",
       "      <td>29</td>\n",
       "      <td>Friday</td>\n",
       "    </tr>\n",
       "    <tr>\n",
       "      <th>30</th>\n",
       "      <td>2021-01-30</td>\n",
       "      <td>2021</td>\n",
       "      <td>1</td>\n",
       "      <td>30</td>\n",
       "      <td>Saturday</td>\n",
       "    </tr>\n",
       "    <tr>\n",
       "      <th>31</th>\n",
       "      <td>2021-01-31</td>\n",
       "      <td>2021</td>\n",
       "      <td>1</td>\n",
       "      <td>31</td>\n",
       "      <td>Sunday</td>\n",
       "    </tr>\n",
       "  </tbody>\n",
       "</table>\n",
       "</div>"
      ],
      "text/plain": [
       "         Date  Year  Month  Day   Day_name\n",
       "0  2021-01-01  2021      1    1     Friday\n",
       "1  2021-01-02  2021      1    2   Saturday\n",
       "2  2021-01-03  2021      1    3     Sunday\n",
       "3  2021-01-04  2021      1    4     Monday\n",
       "4  2021-01-05  2021      1    5    Tuesday\n",
       "5  2021-01-06  2021      1    6  Wednesday\n",
       "6  2021-01-07  2021      1    7   Thursday\n",
       "7  2021-01-08  2021      1    8     Friday\n",
       "8  2021-01-09  2021      1    9   Saturday\n",
       "9  2021-01-10  2021      1   10     Sunday\n",
       "10 2021-01-11  2021      1   11     Monday\n",
       "11 2021-01-12  2021      1   12    Tuesday\n",
       "12 2021-01-13  2021      1   13  Wednesday\n",
       "13 2021-01-14  2021      1   14   Thursday\n",
       "14 2021-01-15  2021      1   15     Friday\n",
       "15 2021-01-16  2021      1   16   Saturday\n",
       "16 2021-01-17  2021      1   17     Sunday\n",
       "17 2021-01-18  2021      1   18     Monday\n",
       "18 2021-01-18  2021      1   18     Monday\n",
       "19 2021-01-19  2021      1   19    Tuesday\n",
       "20 2021-01-20  2021      1   20  Wednesday\n",
       "21 2021-01-21  2021      1   21   Thursday\n",
       "22 2021-01-22  2021      1   22     Friday\n",
       "23 2021-01-23  2021      1   23   Saturday\n",
       "24 2021-01-24  2021      1   24     Sunday\n",
       "25 2021-01-25  2021      1   25     Monday\n",
       "26 2021-01-26  2021      1   26    Tuesday\n",
       "27 2021-01-27  2021      1   27  Wednesday\n",
       "28 2021-01-28  2021      1   28   Thursday\n",
       "29 2021-01-29  2021      1   29     Friday\n",
       "30 2021-01-30  2021      1   30   Saturday\n",
       "31 2021-01-31  2021      1   31     Sunday"
      ]
     },
     "execution_count": 10,
     "metadata": {},
     "output_type": "execute_result"
    }
   ],
   "source": [
    "dat = []\n",
    "dt['Year'] = dt['Date'].dt.year\n",
    "dt['Month'] = dt['Date'].dt.month\n",
    "dt['Day'] = dt['Date'].dt.day\n",
    "\n",
    "for i in dt['Date']:\n",
    "    dat.append(i.day_name())\n",
    "dt[\"Day_name\"] = pd.DataFrame(dat)\n",
    "dt"
   ]
  },
  {
   "cell_type": "code",
   "execution_count": 11,
   "id": "7c2c8e58",
   "metadata": {},
   "outputs": [
    {
     "data": {
      "text/plain": [
       "Day_name\n",
       "Friday       5\n",
       "Monday       5\n",
       "Saturday     5\n",
       "Sunday       5\n",
       "Thursday     4\n",
       "Tuesday      4\n",
       "Wednesday    4\n",
       "Name: Month, dtype: int64"
      ]
     },
     "execution_count": 11,
     "metadata": {},
     "output_type": "execute_result"
    }
   ],
   "source": [
    "dt.groupby(['Day_name'])['Month'].size()"
   ]
  },
  {
   "cell_type": "code",
   "execution_count": 12,
   "id": "50fb10b8",
   "metadata": {},
   "outputs": [
    {
     "data": {
      "text/plain": [
       "Timestamp('2021-01-04 00:00:00')"
      ]
     },
     "execution_count": 12,
     "metadata": {},
     "output_type": "execute_result"
    }
   ],
   "source": [
    "dt.loc[3,'Date']"
   ]
  },
  {
   "cell_type": "code",
   "execution_count": 13,
   "id": "e86c4180",
   "metadata": {},
   "outputs": [
    {
     "data": {
      "text/plain": [
       "'Thursday'"
      ]
     },
     "execution_count": 13,
     "metadata": {},
     "output_type": "execute_result"
    }
   ],
   "source": [
    "dt.loc[21,'Date'].day_name()"
   ]
  },
  {
   "cell_type": "code",
   "execution_count": 14,
   "id": "fdc23e7b",
   "metadata": {},
   "outputs": [
    {
     "data": {
      "text/plain": [
       "'January'"
      ]
     },
     "execution_count": 14,
     "metadata": {},
     "output_type": "execute_result"
    }
   ],
   "source": [
    "dt.loc[21,'Date'].month_name()"
   ]
  },
  {
   "cell_type": "code",
   "execution_count": 15,
   "id": "91e3978d",
   "metadata": {},
   "outputs": [
    {
     "data": {
      "text/plain": [
       "0        Friday\n",
       "1      Saturday\n",
       "2        Sunday\n",
       "3        Monday\n",
       "4       Tuesday\n",
       "5     Wednesday\n",
       "6      Thursday\n",
       "7        Friday\n",
       "8      Saturday\n",
       "9        Sunday\n",
       "10       Monday\n",
       "11      Tuesday\n",
       "12    Wednesday\n",
       "13     Thursday\n",
       "14       Friday\n",
       "15     Saturday\n",
       "16       Sunday\n",
       "17       Monday\n",
       "18       Monday\n",
       "19      Tuesday\n",
       "20    Wednesday\n",
       "21     Thursday\n",
       "22       Friday\n",
       "23     Saturday\n",
       "24       Sunday\n",
       "25       Monday\n",
       "26      Tuesday\n",
       "27    Wednesday\n",
       "28     Thursday\n",
       "29       Friday\n",
       "30     Saturday\n",
       "31       Sunday\n",
       "Name: Date, dtype: object"
      ]
     },
     "execution_count": 15,
     "metadata": {},
     "output_type": "execute_result"
    }
   ],
   "source": [
    "dt['Date'].map(lambda d: d.day_name())"
   ]
  },
  {
   "cell_type": "code",
   "execution_count": 16,
   "id": "bded3e99",
   "metadata": {},
   "outputs": [
    {
     "data": {
      "text/plain": [
       "0     False\n",
       "1     False\n",
       "2     False\n",
       "3     False\n",
       "4      True\n",
       "5     False\n",
       "6     False\n",
       "7     False\n",
       "8     False\n",
       "9     False\n",
       "10    False\n",
       "11     True\n",
       "12    False\n",
       "13    False\n",
       "14    False\n",
       "15    False\n",
       "16    False\n",
       "17    False\n",
       "18    False\n",
       "19     True\n",
       "20    False\n",
       "21    False\n",
       "22    False\n",
       "23    False\n",
       "24    False\n",
       "25    False\n",
       "26     True\n",
       "27    False\n",
       "28    False\n",
       "29    False\n",
       "30    False\n",
       "31    False\n",
       "Name: Date, dtype: bool"
      ]
     },
     "execution_count": 16,
     "metadata": {},
     "output_type": "execute_result"
    }
   ],
   "source": [
    "dt['Date'].map(lambda d: d.day_name())=='Tuesday'"
   ]
  },
  {
   "cell_type": "code",
   "execution_count": 17,
   "id": "9365dbd3",
   "metadata": {},
   "outputs": [
    {
     "data": {
      "text/html": [
       "<div>\n",
       "<style scoped>\n",
       "    .dataframe tbody tr th:only-of-type {\n",
       "        vertical-align: middle;\n",
       "    }\n",
       "\n",
       "    .dataframe tbody tr th {\n",
       "        vertical-align: top;\n",
       "    }\n",
       "\n",
       "    .dataframe thead th {\n",
       "        text-align: right;\n",
       "    }\n",
       "</style>\n",
       "<table border=\"1\" class=\"dataframe\">\n",
       "  <thead>\n",
       "    <tr style=\"text-align: right;\">\n",
       "      <th></th>\n",
       "      <th>Date</th>\n",
       "      <th>Year</th>\n",
       "      <th>Month</th>\n",
       "      <th>Day</th>\n",
       "      <th>Day_name</th>\n",
       "    </tr>\n",
       "  </thead>\n",
       "  <tbody>\n",
       "    <tr>\n",
       "      <th>4</th>\n",
       "      <td>2021-01-05</td>\n",
       "      <td>2021</td>\n",
       "      <td>1</td>\n",
       "      <td>5</td>\n",
       "      <td>Tuesday</td>\n",
       "    </tr>\n",
       "    <tr>\n",
       "      <th>11</th>\n",
       "      <td>2021-01-12</td>\n",
       "      <td>2021</td>\n",
       "      <td>1</td>\n",
       "      <td>12</td>\n",
       "      <td>Tuesday</td>\n",
       "    </tr>\n",
       "    <tr>\n",
       "      <th>19</th>\n",
       "      <td>2021-01-19</td>\n",
       "      <td>2021</td>\n",
       "      <td>1</td>\n",
       "      <td>19</td>\n",
       "      <td>Tuesday</td>\n",
       "    </tr>\n",
       "    <tr>\n",
       "      <th>26</th>\n",
       "      <td>2021-01-26</td>\n",
       "      <td>2021</td>\n",
       "      <td>1</td>\n",
       "      <td>26</td>\n",
       "      <td>Tuesday</td>\n",
       "    </tr>\n",
       "  </tbody>\n",
       "</table>\n",
       "</div>"
      ],
      "text/plain": [
       "         Date  Year  Month  Day Day_name\n",
       "4  2021-01-05  2021      1    5  Tuesday\n",
       "11 2021-01-12  2021      1   12  Tuesday\n",
       "19 2021-01-19  2021      1   19  Tuesday\n",
       "26 2021-01-26  2021      1   26  Tuesday"
      ]
     },
     "execution_count": 17,
     "metadata": {},
     "output_type": "execute_result"
    }
   ],
   "source": [
    "dt[dt['Date'].map(lambda d: d.day_name())=='Tuesday']"
   ]
  },
  {
   "cell_type": "code",
   "execution_count": 18,
   "id": "193e8fab",
   "metadata": {},
   "outputs": [
    {
     "data": {
      "text/plain": [
       "(4, 5)"
      ]
     },
     "execution_count": 18,
     "metadata": {},
     "output_type": "execute_result"
    }
   ],
   "source": [
    "dt[dt['Date'].map(lambda d: d.day_name())=='Tuesday'].shape"
   ]
  },
  {
   "cell_type": "code",
   "execution_count": 19,
   "id": "9adc3388",
   "metadata": {},
   "outputs": [],
   "source": [
    "import time"
   ]
  },
  {
   "cell_type": "code",
   "execution_count": 20,
   "id": "73291679",
   "metadata": {},
   "outputs": [
    {
     "data": {
      "text/plain": [
       "1675367876.1416185"
      ]
     },
     "execution_count": 20,
     "metadata": {},
     "output_type": "execute_result"
    }
   ],
   "source": [
    "time.time()"
   ]
  },
  {
   "cell_type": "code",
   "execution_count": 21,
   "id": "219d6fbf",
   "metadata": {},
   "outputs": [
    {
     "data": {
      "text/plain": [
       "'Thu Feb  2 22:57:56 2023'"
      ]
     },
     "execution_count": 21,
     "metadata": {},
     "output_type": "execute_result"
    }
   ],
   "source": [
    "time.ctime()"
   ]
  },
  {
   "cell_type": "code",
   "execution_count": 22,
   "id": "8b6907a9",
   "metadata": {},
   "outputs": [
    {
     "data": {
      "text/plain": [
       "1675367876.0"
      ]
     },
     "execution_count": 22,
     "metadata": {},
     "output_type": "execute_result"
    }
   ],
   "source": [
    "a =time.localtime()\n",
    "b= time.mktime(a)\n",
    "b"
   ]
  },
  {
   "cell_type": "code",
   "execution_count": 23,
   "id": "d88b26dd",
   "metadata": {},
   "outputs": [
    {
     "data": {
      "text/plain": [
       "'Thu Feb  2 22:57:56 2023'"
      ]
     },
     "execution_count": 23,
     "metadata": {},
     "output_type": "execute_result"
    }
   ],
   "source": [
    "c= time.asctime(a)\n",
    "c"
   ]
  },
  {
   "cell_type": "code",
   "execution_count": 24,
   "id": "7104d9dc",
   "metadata": {},
   "outputs": [
    {
     "name": "stdout",
     "output_type": "stream",
     "text": [
      "Help on built-in function strftime in module time:\n",
      "\n",
      "strftime(...)\n",
      "    strftime(format[, tuple]) -> string\n",
      "    \n",
      "    Convert a time tuple to a string according to a format specification.\n",
      "    See the library reference manual for formatting codes. When the time tuple\n",
      "    is not present, current time as returned by localtime() is used.\n",
      "    \n",
      "    Commonly used format codes:\n",
      "    \n",
      "    %Y  Year with century as a decimal number.\n",
      "    %m  Month as a decimal number [01,12].\n",
      "    %d  Day of the month as a decimal number [01,31].\n",
      "    %H  Hour (24-hour clock) as a decimal number [00,23].\n",
      "    %M  Minute as a decimal number [00,59].\n",
      "    %S  Second as a decimal number [00,61].\n",
      "    %z  Time zone offset from UTC.\n",
      "    %a  Locale's abbreviated weekday name.\n",
      "    %A  Locale's full weekday name.\n",
      "    %b  Locale's abbreviated month name.\n",
      "    %B  Locale's full month name.\n",
      "    %c  Locale's appropriate date and time representation.\n",
      "    %I  Hour (12-hour clock) as a decimal number [01,12].\n",
      "    %p  Locale's equivalent of either AM or PM.\n",
      "    \n",
      "    Other codes may be available on your platform.  See documentation for\n",
      "    the C library strftime function.\n",
      "\n"
     ]
    }
   ],
   "source": [
    "help(time.strftime)"
   ]
  },
  {
   "cell_type": "code",
   "execution_count": 25,
   "id": "a642f268",
   "metadata": {},
   "outputs": [
    {
     "data": {
      "text/plain": [
       "'02/02/2023'"
      ]
     },
     "execution_count": 25,
     "metadata": {},
     "output_type": "execute_result"
    }
   ],
   "source": [
    "time.strftime(\"%m/%d/%Y\")"
   ]
  },
  {
   "cell_type": "code",
   "execution_count": 26,
   "id": "2930e3c8",
   "metadata": {},
   "outputs": [
    {
     "data": {
      "text/plain": [
       "time.struct_time(tm_year=2019, tm_mon=8, tm_mday=8, tm_hour=0, tm_min=0, tm_sec=0, tm_wday=3, tm_yday=220, tm_isdst=-1)"
      ]
     },
     "execution_count": 26,
     "metadata": {},
     "output_type": "execute_result"
    }
   ],
   "source": [
    "y= \"08 August 2019\"\n",
    "s = time.strptime(y,\"%d %B %Y\")\n",
    "s"
   ]
  },
  {
   "cell_type": "code",
   "execution_count": 27,
   "id": "192cd9b0",
   "metadata": {},
   "outputs": [],
   "source": [
    "import datetime"
   ]
  },
  {
   "cell_type": "code",
   "execution_count": 28,
   "id": "0f929b14",
   "metadata": {},
   "outputs": [
    {
     "name": "stdout",
     "output_type": "stream",
     "text": [
      "2019-06-07 04:30:54.000678\n"
     ]
    }
   ],
   "source": [
    "print(datetime.datetime(2019,6,7,4,30,54,678))"
   ]
  },
  {
   "cell_type": "code",
   "execution_count": 29,
   "id": "94ad1a4d",
   "metadata": {},
   "outputs": [],
   "source": [
    "v =datetime.datetime.now()"
   ]
  },
  {
   "cell_type": "code",
   "execution_count": 30,
   "id": "87872e22",
   "metadata": {},
   "outputs": [
    {
     "data": {
      "text/plain": [
       "2023"
      ]
     },
     "execution_count": 30,
     "metadata": {},
     "output_type": "execute_result"
    }
   ],
   "source": [
    "v.year"
   ]
  },
  {
   "cell_type": "code",
   "execution_count": 31,
   "id": "5838ccf0",
   "metadata": {},
   "outputs": [
    {
     "data": {
      "text/plain": [
       "2"
      ]
     },
     "execution_count": 31,
     "metadata": {},
     "output_type": "execute_result"
    }
   ],
   "source": [
    "v.month"
   ]
  },
  {
   "cell_type": "code",
   "execution_count": 32,
   "id": "2477da79",
   "metadata": {},
   "outputs": [
    {
     "data": {
      "text/plain": [
       "22"
      ]
     },
     "execution_count": 32,
     "metadata": {},
     "output_type": "execute_result"
    }
   ],
   "source": [
    "v.hour"
   ]
  },
  {
   "cell_type": "code",
   "execution_count": 33,
   "id": "6288b8d4",
   "metadata": {},
   "outputs": [
    {
     "data": {
      "text/plain": [
       "datetime.date(2023, 7, 5)"
      ]
     },
     "execution_count": 33,
     "metadata": {},
     "output_type": "execute_result"
    }
   ],
   "source": [
    "datetime.date(2023,7,5)"
   ]
  },
  {
   "cell_type": "code",
   "execution_count": 34,
   "id": "a4f4bd57",
   "metadata": {},
   "outputs": [
    {
     "data": {
      "text/plain": [
       "datetime.time(3, 45, 23)"
      ]
     },
     "execution_count": 34,
     "metadata": {},
     "output_type": "execute_result"
    }
   ],
   "source": [
    "datetime.time(3,45,23)"
   ]
  },
  {
   "cell_type": "code",
   "execution_count": 35,
   "id": "376fec8a",
   "metadata": {},
   "outputs": [
    {
     "name": "stdout",
     "output_type": "stream",
     "text": [
      "-10 days, 0:00:00\n",
      "<class 'datetime.timedelta'>\n"
     ]
    }
   ],
   "source": [
    "b1 = datetime.timedelta(days=20)\n",
    "b2 = datetime.timedelta(days=30)\n",
    "b3= b1-b2\n",
    "print(b3)\n",
    "print(type(b3))"
   ]
  },
  {
   "cell_type": "code",
   "execution_count": null,
   "id": "b1e5b8d0",
   "metadata": {},
   "outputs": [],
   "source": []
  },
  {
   "cell_type": "code",
   "execution_count": 36,
   "id": "b092d37d",
   "metadata": {},
   "outputs": [],
   "source": [
    "import datetime"
   ]
  },
  {
   "cell_type": "code",
   "execution_count": 37,
   "id": "66424a4b",
   "metadata": {},
   "outputs": [
    {
     "data": {
      "text/plain": [
       "['MAXYEAR',\n",
       " 'MINYEAR',\n",
       " '__all__',\n",
       " '__builtins__',\n",
       " '__cached__',\n",
       " '__doc__',\n",
       " '__file__',\n",
       " '__loader__',\n",
       " '__name__',\n",
       " '__package__',\n",
       " '__spec__',\n",
       " 'date',\n",
       " 'datetime',\n",
       " 'datetime_CAPI',\n",
       " 'sys',\n",
       " 'time',\n",
       " 'timedelta',\n",
       " 'timezone',\n",
       " 'tzinfo']"
      ]
     },
     "execution_count": 37,
     "metadata": {},
     "output_type": "execute_result"
    }
   ],
   "source": [
    "dir(datetime)"
   ]
  },
  {
   "cell_type": "code",
   "execution_count": 38,
   "id": "245905f4",
   "metadata": {},
   "outputs": [
    {
     "data": {
      "text/plain": [
       "datetime.date(1956, 1, 31)"
      ]
     },
     "execution_count": 38,
     "metadata": {},
     "output_type": "execute_result"
    }
   ],
   "source": [
    "gvr = datetime.date(1956,1,31)\n",
    "gvr"
   ]
  },
  {
   "cell_type": "code",
   "execution_count": 39,
   "id": "703f6383",
   "metadata": {},
   "outputs": [
    {
     "data": {
      "text/plain": [
       "1956"
      ]
     },
     "execution_count": 39,
     "metadata": {},
     "output_type": "execute_result"
    }
   ],
   "source": [
    "gvr.year"
   ]
  },
  {
   "cell_type": "code",
   "execution_count": 40,
   "id": "23e1bfd7",
   "metadata": {},
   "outputs": [
    {
     "data": {
      "text/plain": [
       "1"
      ]
     },
     "execution_count": 40,
     "metadata": {},
     "output_type": "execute_result"
    }
   ],
   "source": [
    "gvr.month"
   ]
  },
  {
   "cell_type": "code",
   "execution_count": 41,
   "id": "1b325b32",
   "metadata": {},
   "outputs": [
    {
     "data": {
      "text/plain": [
       "31"
      ]
     },
     "execution_count": 41,
     "metadata": {},
     "output_type": "execute_result"
    }
   ],
   "source": [
    "gvr.day"
   ]
  },
  {
   "cell_type": "code",
   "execution_count": 42,
   "id": "20c1633d",
   "metadata": {},
   "outputs": [
    {
     "name": "stdout",
     "output_type": "stream",
     "text": [
      "2000-04-10\n"
     ]
    }
   ],
   "source": [
    "mill = datetime.date(2000,1,1)\n",
    "dt = datetime.timedelta(100)\n",
    "print(mill + dt)"
   ]
  },
  {
   "cell_type": "code",
   "execution_count": 43,
   "id": "4c7fff23",
   "metadata": {},
   "outputs": [
    {
     "name": "stdout",
     "output_type": "stream",
     "text": [
      "Tuesday ,January,31,1956\n"
     ]
    }
   ],
   "source": [
    "print(gvr.strftime(\"%A ,%B,%d,%Y\"))"
   ]
  },
  {
   "cell_type": "code",
   "execution_count": 44,
   "id": "5dd43961",
   "metadata": {},
   "outputs": [
    {
     "data": {
      "text/plain": [
       "DatetimeIndex(['2022-01-03', '2022-01-05', '2022-01-07', '2022-01-10',\n",
       "               '2022-01-12', '2022-01-14', '2022-01-17', '2022-01-19',\n",
       "               '2022-01-21', '2022-01-24',\n",
       "               ...\n",
       "               '2022-12-09', '2022-12-12', '2022-12-14', '2022-12-16',\n",
       "               '2022-12-19', '2022-12-21', '2022-12-23', '2022-12-26',\n",
       "               '2022-12-28', '2022-12-30'],\n",
       "              dtype='datetime64[ns]', length=156, freq='C')"
      ]
     },
     "execution_count": 44,
     "metadata": {},
     "output_type": "execute_result"
    }
   ],
   "source": [
    "weekmask = \" Mon Wed Fri \"\n",
    "business_days=pd.bdate_range(start =datetime.datetime(2022,1,1),\n",
    "                            end= datetime.datetime(2022,12,31),\n",
    "                            freq=\"C\",\n",
    "                            weekmask=weekmask\n",
    "                            )\n",
    "business_days"
   ]
  }
 ],
 "metadata": {
  "kernelspec": {
   "display_name": "Python 3 (ipykernel)",
   "language": "python",
   "name": "python3"
  },
  "language_info": {
   "codemirror_mode": {
    "name": "ipython",
    "version": 3
   },
   "file_extension": ".py",
   "mimetype": "text/x-python",
   "name": "python",
   "nbconvert_exporter": "python",
   "pygments_lexer": "ipython3",
   "version": "3.9.12"
  }
 },
 "nbformat": 4,
 "nbformat_minor": 5
}
