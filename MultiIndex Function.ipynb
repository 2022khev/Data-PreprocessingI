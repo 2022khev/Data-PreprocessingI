{
 "cells": [
  {
   "cell_type": "code",
   "execution_count": 1,
   "id": "0b30b102",
   "metadata": {},
   "outputs": [],
   "source": [
    "import pandas as pd\n",
    "import numpy as np"
   ]
  },
  {
   "cell_type": "code",
   "execution_count": 2,
   "id": "973a40f4",
   "metadata": {},
   "outputs": [
    {
     "data": {
      "text/html": [
       "<div>\n",
       "<style scoped>\n",
       "    .dataframe tbody tr th:only-of-type {\n",
       "        vertical-align: middle;\n",
       "    }\n",
       "\n",
       "    .dataframe tbody tr th {\n",
       "        vertical-align: top;\n",
       "    }\n",
       "\n",
       "    .dataframe thead tr th {\n",
       "        text-align: left;\n",
       "    }\n",
       "</style>\n",
       "<table border=\"1\" class=\"dataframe\">\n",
       "  <thead>\n",
       "    <tr>\n",
       "      <th></th>\n",
       "      <th>Finance</th>\n",
       "      <th>Operation</th>\n",
       "    </tr>\n",
       "    <tr>\n",
       "      <th></th>\n",
       "      <th>Operation</th>\n",
       "      <th>Finance</th>\n",
       "    </tr>\n",
       "  </thead>\n",
       "  <tbody>\n",
       "    <tr>\n",
       "      <th>0</th>\n",
       "      <td>200</td>\n",
       "      <td>4</td>\n",
       "    </tr>\n",
       "    <tr>\n",
       "      <th>1</th>\n",
       "      <td>200</td>\n",
       "      <td>5</td>\n",
       "    </tr>\n",
       "    <tr>\n",
       "      <th>2</th>\n",
       "      <td>350</td>\n",
       "      <td>6</td>\n",
       "    </tr>\n",
       "  </tbody>\n",
       "</table>\n",
       "</div>"
      ],
      "text/plain": [
       "    Finance Operation\n",
       "  Operation   Finance\n",
       "0       200         4\n",
       "1       200         5\n",
       "2       350         6"
      ]
     },
     "execution_count": 2,
     "metadata": {},
     "output_type": "execute_result"
    }
   ],
   "source": [
    "df=pd.DataFrame({'Sales':[200,200,350],'Profit':[4,5,6]})\n",
    "\n",
    "columns=[('Finance','Operation'),('Operation','Finance')]\n",
    "df.columns=pd.MultiIndex.from_tuples(columns)\n",
    "df"
   ]
  },
  {
   "cell_type": "code",
   "execution_count": 3,
   "id": "f98b3b0e",
   "metadata": {},
   "outputs": [
    {
     "data": {
      "text/html": [
       "<div>\n",
       "<style scoped>\n",
       "    .dataframe tbody tr th:only-of-type {\n",
       "        vertical-align: middle;\n",
       "    }\n",
       "\n",
       "    .dataframe tbody tr th {\n",
       "        vertical-align: top;\n",
       "    }\n",
       "\n",
       "    .dataframe thead tr th {\n",
       "        text-align: left;\n",
       "    }\n",
       "</style>\n",
       "<table border=\"1\" class=\"dataframe\">\n",
       "  <thead>\n",
       "    <tr>\n",
       "      <th></th>\n",
       "      <th>F</th>\n",
       "      <th>O</th>\n",
       "    </tr>\n",
       "    <tr>\n",
       "      <th></th>\n",
       "      <th>i</th>\n",
       "      <th>p</th>\n",
       "    </tr>\n",
       "    <tr>\n",
       "      <th></th>\n",
       "      <th>n</th>\n",
       "      <th>e</th>\n",
       "    </tr>\n",
       "    <tr>\n",
       "      <th></th>\n",
       "      <th>a</th>\n",
       "      <th>r</th>\n",
       "    </tr>\n",
       "    <tr>\n",
       "      <th></th>\n",
       "      <th>n</th>\n",
       "      <th>a</th>\n",
       "    </tr>\n",
       "    <tr>\n",
       "      <th></th>\n",
       "      <th>c</th>\n",
       "      <th>t</th>\n",
       "    </tr>\n",
       "    <tr>\n",
       "      <th></th>\n",
       "      <th>e</th>\n",
       "      <th>i</th>\n",
       "    </tr>\n",
       "    <tr>\n",
       "      <th></th>\n",
       "      <th>NaN</th>\n",
       "      <th>o</th>\n",
       "    </tr>\n",
       "    <tr>\n",
       "      <th></th>\n",
       "      <th>NaN</th>\n",
       "      <th>n</th>\n",
       "    </tr>\n",
       "  </thead>\n",
       "  <tbody>\n",
       "    <tr>\n",
       "      <th>0</th>\n",
       "      <td>200</td>\n",
       "      <td>4</td>\n",
       "    </tr>\n",
       "    <tr>\n",
       "      <th>1</th>\n",
       "      <td>200</td>\n",
       "      <td>5</td>\n",
       "    </tr>\n",
       "    <tr>\n",
       "      <th>2</th>\n",
       "      <td>350</td>\n",
       "      <td>6</td>\n",
       "    </tr>\n",
       "  </tbody>\n",
       "</table>\n",
       "</div>"
      ],
      "text/plain": [
       "     F  O\n",
       "     i  p\n",
       "     n  e\n",
       "     a  r\n",
       "     n  a\n",
       "     c  t\n",
       "     e  i\n",
       "   NaN  o\n",
       "   NaN  n\n",
       "0  200  4\n",
       "1  200  5\n",
       "2  350  6"
      ]
     },
     "execution_count": 3,
     "metadata": {},
     "output_type": "execute_result"
    }
   ],
   "source": [
    "df=pd.DataFrame({'Sales':[200,200,350],'Profit':[4,5,6]})\n",
    "\n",
    "columns=[('Finance'),('Operation')]\n",
    "df.columns=pd.MultiIndex.from_tuples(columns)\n",
    "df"
   ]
  },
  {
   "cell_type": "code",
   "execution_count": 4,
   "id": "545baf97",
   "metadata": {},
   "outputs": [
    {
     "data": {
      "text/html": [
       "<div>\n",
       "<style scoped>\n",
       "    .dataframe tbody tr th:only-of-type {\n",
       "        vertical-align: middle;\n",
       "    }\n",
       "\n",
       "    .dataframe tbody tr th {\n",
       "        vertical-align: top;\n",
       "    }\n",
       "\n",
       "    .dataframe thead tr th {\n",
       "        text-align: left;\n",
       "    }\n",
       "</style>\n",
       "<table border=\"1\" class=\"dataframe\">\n",
       "  <thead>\n",
       "    <tr>\n",
       "      <th></th>\n",
       "      <th colspan=\"4\" halign=\"left\">Profit</th>\n",
       "    </tr>\n",
       "    <tr>\n",
       "      <th></th>\n",
       "      <th>Finance</th>\n",
       "      <th>Operation</th>\n",
       "      <th>Marketing</th>\n",
       "      <th>Logistics</th>\n",
       "    </tr>\n",
       "  </thead>\n",
       "  <tbody>\n",
       "    <tr>\n",
       "      <th>0</th>\n",
       "      <td>200</td>\n",
       "      <td>300</td>\n",
       "      <td>400</td>\n",
       "      <td>3</td>\n",
       "    </tr>\n",
       "  </tbody>\n",
       "</table>\n",
       "</div>"
      ],
      "text/plain": [
       "   Profit                              \n",
       "  Finance Operation Marketing Logistics\n",
       "0     200       300       400         3"
      ]
     },
     "execution_count": 4,
     "metadata": {},
     "output_type": "execute_result"
    }
   ],
   "source": [
    "df= pd.Series(np.array([200,300,400,3]),index= [\"Finance\",'Operation',\"Marketing\",\"Logistics\"]).to_frame().T\n",
    "df.columns = pd.MultiIndex.from_product([[\"Profit\"],df.columns])\n",
    "df"
   ]
  },
  {
   "cell_type": "code",
   "execution_count": 5,
   "id": "57a3a410",
   "metadata": {},
   "outputs": [
    {
     "data": {
      "text/plain": [
       "MultiIndex([(1,  'red'),\n",
       "            (1, 'blue'),\n",
       "            (2,  'red'),\n",
       "            (2, 'blue')],\n",
       "           names=['number', 'color'])"
      ]
     },
     "execution_count": 5,
     "metadata": {},
     "output_type": "execute_result"
    }
   ],
   "source": [
    "arrays = [[1, 1, 2, 2], ['red', 'blue', 'red', 'blue']]\n",
    "pd.MultiIndex.from_arrays(arrays, names= ('number', 'color'))"
   ]
  },
  {
   "cell_type": "code",
   "execution_count": 6,
   "id": "34bb8e38",
   "metadata": {},
   "outputs": [
    {
     "data": {
      "text/html": [
       "<div>\n",
       "<style scoped>\n",
       "    .dataframe tbody tr th:only-of-type {\n",
       "        vertical-align: middle;\n",
       "    }\n",
       "\n",
       "    .dataframe tbody tr th {\n",
       "        vertical-align: top;\n",
       "    }\n",
       "\n",
       "    .dataframe thead th {\n",
       "        text-align: right;\n",
       "    }\n",
       "</style>\n",
       "<table border=\"1\" class=\"dataframe\">\n",
       "  <thead>\n",
       "    <tr style=\"text-align: right;\">\n",
       "      <th></th>\n",
       "      <th>0</th>\n",
       "      <th>1</th>\n",
       "    </tr>\n",
       "  </thead>\n",
       "  <tbody>\n",
       "    <tr>\n",
       "      <th>0</th>\n",
       "      <td>90</td>\n",
       "      <td>67</td>\n",
       "    </tr>\n",
       "    <tr>\n",
       "      <th>1</th>\n",
       "      <td>96</td>\n",
       "      <td>96</td>\n",
       "    </tr>\n",
       "    <tr>\n",
       "      <th>2</th>\n",
       "      <td>89</td>\n",
       "      <td>96</td>\n",
       "    </tr>\n",
       "    <tr>\n",
       "      <th>3</th>\n",
       "      <td>78</td>\n",
       "      <td>90</td>\n",
       "    </tr>\n",
       "    <tr>\n",
       "      <th>4</th>\n",
       "      <td>78</td>\n",
       "      <td>89</td>\n",
       "    </tr>\n",
       "    <tr>\n",
       "      <th>5</th>\n",
       "      <td>89</td>\n",
       "      <td>67</td>\n",
       "    </tr>\n",
       "  </tbody>\n",
       "</table>\n",
       "</div>"
      ],
      "text/plain": [
       "    0   1\n",
       "0  90  67\n",
       "1  96  96\n",
       "2  89  96\n",
       "3  78  90\n",
       "4  78  89\n",
       "5  89  67"
      ]
     },
     "execution_count": 6,
     "metadata": {},
     "output_type": "execute_result"
    }
   ],
   "source": [
    "data = pd.DataFrame([[90,67],\n",
    "            [96,96],\n",
    "              [89,96],\n",
    "              [78,90],\n",
    "              [78,89],\n",
    "              [89,67]\n",
    "             ])\n",
    "data"
   ]
  },
  {
   "cell_type": "code",
   "execution_count": 7,
   "id": "3aef15a7",
   "metadata": {},
   "outputs": [
    {
     "data": {
      "text/plain": [
       "[['Kelvin', 'Kelvin', 'Kelvin', 'Mary', 'Mary', 'Mary'],\n",
       " [2021, 2022, 2022, 2021, 2022, 2023]]"
      ]
     },
     "execution_count": 7,
     "metadata": {},
     "output_type": "execute_result"
    }
   ],
   "source": [
    "ind =[\n",
    "    [\"Kelvin\",\"Kelvin\",'Kelvin',\"Mary\",\"Mary\",\"Mary\"],\n",
    "      [2021,2022,2022,2021,2022,2023]\n",
    "]\n",
    "ind"
   ]
  },
  {
   "cell_type": "code",
   "execution_count": 8,
   "id": "87b067ac",
   "metadata": {},
   "outputs": [
    {
     "data": {
      "text/html": [
       "<div>\n",
       "<style scoped>\n",
       "    .dataframe tbody tr th:only-of-type {\n",
       "        vertical-align: middle;\n",
       "    }\n",
       "\n",
       "    .dataframe tbody tr th {\n",
       "        vertical-align: top;\n",
       "    }\n",
       "\n",
       "    .dataframe thead th {\n",
       "        text-align: right;\n",
       "    }\n",
       "</style>\n",
       "<table border=\"1\" class=\"dataframe\">\n",
       "  <thead>\n",
       "    <tr style=\"text-align: right;\">\n",
       "      <th></th>\n",
       "      <th></th>\n",
       "      <th>Company A</th>\n",
       "      <th>Company B</th>\n",
       "    </tr>\n",
       "  </thead>\n",
       "  <tbody>\n",
       "    <tr>\n",
       "      <th rowspan=\"3\" valign=\"top\">Kelvin</th>\n",
       "      <th>2021</th>\n",
       "      <td>90</td>\n",
       "      <td>67</td>\n",
       "    </tr>\n",
       "    <tr>\n",
       "      <th>2022</th>\n",
       "      <td>96</td>\n",
       "      <td>96</td>\n",
       "    </tr>\n",
       "    <tr>\n",
       "      <th>2022</th>\n",
       "      <td>89</td>\n",
       "      <td>96</td>\n",
       "    </tr>\n",
       "    <tr>\n",
       "      <th rowspan=\"3\" valign=\"top\">Mary</th>\n",
       "      <th>2021</th>\n",
       "      <td>78</td>\n",
       "      <td>90</td>\n",
       "    </tr>\n",
       "    <tr>\n",
       "      <th>2022</th>\n",
       "      <td>78</td>\n",
       "      <td>89</td>\n",
       "    </tr>\n",
       "    <tr>\n",
       "      <th>2023</th>\n",
       "      <td>89</td>\n",
       "      <td>67</td>\n",
       "    </tr>\n",
       "  </tbody>\n",
       "</table>\n",
       "</div>"
      ],
      "text/plain": [
       "             Company A  Company B\n",
       "Kelvin 2021         90         67\n",
       "       2022         96         96\n",
       "       2022         89         96\n",
       "Mary   2021         78         90\n",
       "       2022         78         89\n",
       "       2023         89         67"
      ]
     },
     "execution_count": 8,
     "metadata": {},
     "output_type": "execute_result"
    }
   ],
   "source": [
    "df = pd.DataFrame(data.values,index = ind, columns  =['Company A','Company B'])\n",
    "df"
   ]
  },
  {
   "cell_type": "code",
   "execution_count": 9,
   "id": "323fa962",
   "metadata": {},
   "outputs": [
    {
     "data": {
      "text/html": [
       "<div>\n",
       "<style scoped>\n",
       "    .dataframe tbody tr th:only-of-type {\n",
       "        vertical-align: middle;\n",
       "    }\n",
       "\n",
       "    .dataframe tbody tr th {\n",
       "        vertical-align: top;\n",
       "    }\n",
       "\n",
       "    .dataframe thead th {\n",
       "        text-align: right;\n",
       "    }\n",
       "</style>\n",
       "<table border=\"1\" class=\"dataframe\">\n",
       "  <thead>\n",
       "    <tr style=\"text-align: right;\">\n",
       "      <th></th>\n",
       "      <th></th>\n",
       "      <th>Company A</th>\n",
       "      <th>Company B</th>\n",
       "    </tr>\n",
       "    <tr>\n",
       "      <th>Name</th>\n",
       "      <th>Year</th>\n",
       "      <th></th>\n",
       "      <th></th>\n",
       "    </tr>\n",
       "  </thead>\n",
       "  <tbody>\n",
       "    <tr>\n",
       "      <th rowspan=\"3\" valign=\"top\">Kelvin</th>\n",
       "      <th>2021</th>\n",
       "      <td>90</td>\n",
       "      <td>67</td>\n",
       "    </tr>\n",
       "    <tr>\n",
       "      <th>2022</th>\n",
       "      <td>96</td>\n",
       "      <td>96</td>\n",
       "    </tr>\n",
       "    <tr>\n",
       "      <th>2022</th>\n",
       "      <td>89</td>\n",
       "      <td>96</td>\n",
       "    </tr>\n",
       "    <tr>\n",
       "      <th rowspan=\"3\" valign=\"top\">Mary</th>\n",
       "      <th>2021</th>\n",
       "      <td>78</td>\n",
       "      <td>90</td>\n",
       "    </tr>\n",
       "    <tr>\n",
       "      <th>2022</th>\n",
       "      <td>78</td>\n",
       "      <td>89</td>\n",
       "    </tr>\n",
       "    <tr>\n",
       "      <th>2023</th>\n",
       "      <td>89</td>\n",
       "      <td>67</td>\n",
       "    </tr>\n",
       "  </tbody>\n",
       "</table>\n",
       "</div>"
      ],
      "text/plain": [
       "             Company A  Company B\n",
       "Name   Year                      \n",
       "Kelvin 2021         90         67\n",
       "       2022         96         96\n",
       "       2022         89         96\n",
       "Mary   2021         78         90\n",
       "       2022         78         89\n",
       "       2023         89         67"
      ]
     },
     "execution_count": 9,
     "metadata": {},
     "output_type": "execute_result"
    }
   ],
   "source": [
    "df.index.names = ['Name','Year']\n",
    "df"
   ]
  },
  {
   "cell_type": "code",
   "execution_count": 10,
   "id": "6e190011",
   "metadata": {},
   "outputs": [
    {
     "data": {
      "text/html": [
       "<div>\n",
       "<style scoped>\n",
       "    .dataframe tbody tr th:only-of-type {\n",
       "        vertical-align: middle;\n",
       "    }\n",
       "\n",
       "    .dataframe tbody tr th {\n",
       "        vertical-align: top;\n",
       "    }\n",
       "\n",
       "    .dataframe thead th {\n",
       "        text-align: right;\n",
       "    }\n",
       "</style>\n",
       "<table border=\"1\" class=\"dataframe\">\n",
       "  <thead>\n",
       "    <tr style=\"text-align: right;\">\n",
       "      <th></th>\n",
       "      <th>0</th>\n",
       "      <th>1</th>\n",
       "      <th>2</th>\n",
       "      <th>3</th>\n",
       "      <th>4</th>\n",
       "      <th>5</th>\n",
       "    </tr>\n",
       "  </thead>\n",
       "  <tbody>\n",
       "    <tr>\n",
       "      <th>0</th>\n",
       "      <td>60.000000</td>\n",
       "      <td>60.857143</td>\n",
       "      <td>61.714286</td>\n",
       "      <td>62.571429</td>\n",
       "      <td>63.428571</td>\n",
       "      <td>64.285714</td>\n",
       "    </tr>\n",
       "    <tr>\n",
       "      <th>1</th>\n",
       "      <td>65.142857</td>\n",
       "      <td>66.000000</td>\n",
       "      <td>66.857143</td>\n",
       "      <td>67.714286</td>\n",
       "      <td>68.571429</td>\n",
       "      <td>69.428571</td>\n",
       "    </tr>\n",
       "    <tr>\n",
       "      <th>2</th>\n",
       "      <td>70.285714</td>\n",
       "      <td>71.142857</td>\n",
       "      <td>72.000000</td>\n",
       "      <td>72.857143</td>\n",
       "      <td>73.714286</td>\n",
       "      <td>74.571429</td>\n",
       "    </tr>\n",
       "    <tr>\n",
       "      <th>3</th>\n",
       "      <td>75.428571</td>\n",
       "      <td>76.285714</td>\n",
       "      <td>77.142857</td>\n",
       "      <td>78.000000</td>\n",
       "      <td>78.857143</td>\n",
       "      <td>79.714286</td>\n",
       "    </tr>\n",
       "    <tr>\n",
       "      <th>4</th>\n",
       "      <td>80.571429</td>\n",
       "      <td>81.428571</td>\n",
       "      <td>82.285714</td>\n",
       "      <td>83.142857</td>\n",
       "      <td>84.000000</td>\n",
       "      <td>84.857143</td>\n",
       "    </tr>\n",
       "    <tr>\n",
       "      <th>5</th>\n",
       "      <td>85.714286</td>\n",
       "      <td>86.571429</td>\n",
       "      <td>87.428571</td>\n",
       "      <td>88.285714</td>\n",
       "      <td>89.142857</td>\n",
       "      <td>90.000000</td>\n",
       "    </tr>\n",
       "  </tbody>\n",
       "</table>\n",
       "</div>"
      ],
      "text/plain": [
       "           0          1          2          3          4          5\n",
       "0  60.000000  60.857143  61.714286  62.571429  63.428571  64.285714\n",
       "1  65.142857  66.000000  66.857143  67.714286  68.571429  69.428571\n",
       "2  70.285714  71.142857  72.000000  72.857143  73.714286  74.571429\n",
       "3  75.428571  76.285714  77.142857  78.000000  78.857143  79.714286\n",
       "4  80.571429  81.428571  82.285714  83.142857  84.000000  84.857143\n",
       "5  85.714286  86.571429  87.428571  88.285714  89.142857  90.000000"
      ]
     },
     "execution_count": 10,
     "metadata": {},
     "output_type": "execute_result"
    }
   ],
   "source": [
    "scores = np.linspace(60,90,36).reshape(6,6)\n",
    "data1 =pd.DataFrame(scores)\n",
    "data1"
   ]
  },
  {
   "cell_type": "code",
   "execution_count": 11,
   "id": "925af8c1",
   "metadata": {},
   "outputs": [
    {
     "data": {
      "text/plain": [
       "MultiIndex([('Kelvin', 2021),\n",
       "            ('Kelvin', 2022),\n",
       "            ('Kelvin', 2023),\n",
       "            (  'Jone', 2021),\n",
       "            (  'Jone', 2022),\n",
       "            (  'Jone', 2023)],\n",
       "           )"
      ]
     },
     "execution_count": 11,
     "metadata": {},
     "output_type": "execute_result"
    }
   ],
   "source": [
    "ind1 = pd.MultiIndex.from_product([['Kelvin','Jone'],[2021,2022,2023]])\n",
    "ind1"
   ]
  },
  {
   "cell_type": "code",
   "execution_count": 12,
   "id": "0dce4b5c",
   "metadata": {},
   "outputs": [
    {
     "data": {
      "text/plain": [
       "MultiIndex([('7th grade',    'Math'),\n",
       "            ('7th grade', 'reading'),\n",
       "            ('7th grade', 'writing'),\n",
       "            ('8th grade',    'Math'),\n",
       "            ('8th grade', 'reading'),\n",
       "            ('8th grade', 'writing')],\n",
       "           )"
      ]
     },
     "execution_count": 12,
     "metadata": {},
     "output_type": "execute_result"
    }
   ],
   "source": [
    "cols = pd.MultiIndex.from_product([['7th grade','8th grade'],['Math','reading','writing']])\n",
    "cols"
   ]
  },
  {
   "cell_type": "code",
   "execution_count": 13,
   "id": "56e4f51b",
   "metadata": {},
   "outputs": [
    {
     "data": {
      "text/html": [
       "<div>\n",
       "<style scoped>\n",
       "    .dataframe tbody tr th:only-of-type {\n",
       "        vertical-align: middle;\n",
       "    }\n",
       "\n",
       "    .dataframe tbody tr th {\n",
       "        vertical-align: top;\n",
       "    }\n",
       "\n",
       "    .dataframe thead tr th {\n",
       "        text-align: left;\n",
       "    }\n",
       "</style>\n",
       "<table border=\"1\" class=\"dataframe\">\n",
       "  <thead>\n",
       "    <tr>\n",
       "      <th></th>\n",
       "      <th></th>\n",
       "      <th colspan=\"3\" halign=\"left\">7th grade</th>\n",
       "      <th colspan=\"3\" halign=\"left\">8th grade</th>\n",
       "    </tr>\n",
       "    <tr>\n",
       "      <th></th>\n",
       "      <th></th>\n",
       "      <th>Math</th>\n",
       "      <th>reading</th>\n",
       "      <th>writing</th>\n",
       "      <th>Math</th>\n",
       "      <th>reading</th>\n",
       "      <th>writing</th>\n",
       "    </tr>\n",
       "  </thead>\n",
       "  <tbody>\n",
       "    <tr>\n",
       "      <th rowspan=\"3\" valign=\"top\">Kelvin</th>\n",
       "      <th>2021</th>\n",
       "      <td>60.000000</td>\n",
       "      <td>60.857143</td>\n",
       "      <td>61.714286</td>\n",
       "      <td>62.571429</td>\n",
       "      <td>63.428571</td>\n",
       "      <td>64.285714</td>\n",
       "    </tr>\n",
       "    <tr>\n",
       "      <th>2022</th>\n",
       "      <td>65.142857</td>\n",
       "      <td>66.000000</td>\n",
       "      <td>66.857143</td>\n",
       "      <td>67.714286</td>\n",
       "      <td>68.571429</td>\n",
       "      <td>69.428571</td>\n",
       "    </tr>\n",
       "    <tr>\n",
       "      <th>2023</th>\n",
       "      <td>70.285714</td>\n",
       "      <td>71.142857</td>\n",
       "      <td>72.000000</td>\n",
       "      <td>72.857143</td>\n",
       "      <td>73.714286</td>\n",
       "      <td>74.571429</td>\n",
       "    </tr>\n",
       "    <tr>\n",
       "      <th rowspan=\"3\" valign=\"top\">Jone</th>\n",
       "      <th>2021</th>\n",
       "      <td>75.428571</td>\n",
       "      <td>76.285714</td>\n",
       "      <td>77.142857</td>\n",
       "      <td>78.000000</td>\n",
       "      <td>78.857143</td>\n",
       "      <td>79.714286</td>\n",
       "    </tr>\n",
       "    <tr>\n",
       "      <th>2022</th>\n",
       "      <td>80.571429</td>\n",
       "      <td>81.428571</td>\n",
       "      <td>82.285714</td>\n",
       "      <td>83.142857</td>\n",
       "      <td>84.000000</td>\n",
       "      <td>84.857143</td>\n",
       "    </tr>\n",
       "    <tr>\n",
       "      <th>2023</th>\n",
       "      <td>85.714286</td>\n",
       "      <td>86.571429</td>\n",
       "      <td>87.428571</td>\n",
       "      <td>88.285714</td>\n",
       "      <td>89.142857</td>\n",
       "      <td>90.000000</td>\n",
       "    </tr>\n",
       "  </tbody>\n",
       "</table>\n",
       "</div>"
      ],
      "text/plain": [
       "             7th grade                        8th grade                      \n",
       "                  Math    reading    writing       Math    reading    writing\n",
       "Kelvin 2021  60.000000  60.857143  61.714286  62.571429  63.428571  64.285714\n",
       "       2022  65.142857  66.000000  66.857143  67.714286  68.571429  69.428571\n",
       "       2023  70.285714  71.142857  72.000000  72.857143  73.714286  74.571429\n",
       "Jone   2021  75.428571  76.285714  77.142857  78.000000  78.857143  79.714286\n",
       "       2022  80.571429  81.428571  82.285714  83.142857  84.000000  84.857143\n",
       "       2023  85.714286  86.571429  87.428571  88.285714  89.142857  90.000000"
      ]
     },
     "execution_count": 13,
     "metadata": {},
     "output_type": "execute_result"
    }
   ],
   "source": [
    "df1 =pd.DataFrame(data1.values,ind1,cols)\n",
    "df1"
   ]
  },
  {
   "cell_type": "code",
   "execution_count": null,
   "id": "ec93cbf5",
   "metadata": {},
   "outputs": [],
   "source": []
  },
  {
   "cell_type": "code",
   "execution_count": 14,
   "id": "fe33df80",
   "metadata": {},
   "outputs": [
    {
     "data": {
      "text/html": [
       "<div>\n",
       "<style scoped>\n",
       "    .dataframe tbody tr th:only-of-type {\n",
       "        vertical-align: middle;\n",
       "    }\n",
       "\n",
       "    .dataframe tbody tr th {\n",
       "        vertical-align: top;\n",
       "    }\n",
       "\n",
       "    .dataframe thead tr th {\n",
       "        text-align: left;\n",
       "    }\n",
       "\n",
       "    .dataframe thead tr:last-of-type th {\n",
       "        text-align: right;\n",
       "    }\n",
       "</style>\n",
       "<table border=\"1\" class=\"dataframe\">\n",
       "  <thead>\n",
       "    <tr>\n",
       "      <th></th>\n",
       "      <th>Grades</th>\n",
       "      <th colspan=\"3\" halign=\"left\">7th grade</th>\n",
       "      <th colspan=\"3\" halign=\"left\">8th grade</th>\n",
       "    </tr>\n",
       "    <tr>\n",
       "      <th></th>\n",
       "      <th>Subjects</th>\n",
       "      <th>Math</th>\n",
       "      <th>reading</th>\n",
       "      <th>writing</th>\n",
       "      <th>Math</th>\n",
       "      <th>reading</th>\n",
       "      <th>writing</th>\n",
       "    </tr>\n",
       "    <tr>\n",
       "      <th>Name</th>\n",
       "      <th>Year</th>\n",
       "      <th></th>\n",
       "      <th></th>\n",
       "      <th></th>\n",
       "      <th></th>\n",
       "      <th></th>\n",
       "      <th></th>\n",
       "    </tr>\n",
       "  </thead>\n",
       "  <tbody>\n",
       "    <tr>\n",
       "      <th rowspan=\"3\" valign=\"top\">Kelvin</th>\n",
       "      <th>2021</th>\n",
       "      <td>60.000000</td>\n",
       "      <td>60.857143</td>\n",
       "      <td>61.714286</td>\n",
       "      <td>62.571429</td>\n",
       "      <td>63.428571</td>\n",
       "      <td>64.285714</td>\n",
       "    </tr>\n",
       "    <tr>\n",
       "      <th>2022</th>\n",
       "      <td>65.142857</td>\n",
       "      <td>66.000000</td>\n",
       "      <td>66.857143</td>\n",
       "      <td>67.714286</td>\n",
       "      <td>68.571429</td>\n",
       "      <td>69.428571</td>\n",
       "    </tr>\n",
       "    <tr>\n",
       "      <th>2023</th>\n",
       "      <td>70.285714</td>\n",
       "      <td>71.142857</td>\n",
       "      <td>72.000000</td>\n",
       "      <td>72.857143</td>\n",
       "      <td>73.714286</td>\n",
       "      <td>74.571429</td>\n",
       "    </tr>\n",
       "    <tr>\n",
       "      <th rowspan=\"3\" valign=\"top\">Jone</th>\n",
       "      <th>2021</th>\n",
       "      <td>75.428571</td>\n",
       "      <td>76.285714</td>\n",
       "      <td>77.142857</td>\n",
       "      <td>78.000000</td>\n",
       "      <td>78.857143</td>\n",
       "      <td>79.714286</td>\n",
       "    </tr>\n",
       "    <tr>\n",
       "      <th>2022</th>\n",
       "      <td>80.571429</td>\n",
       "      <td>81.428571</td>\n",
       "      <td>82.285714</td>\n",
       "      <td>83.142857</td>\n",
       "      <td>84.000000</td>\n",
       "      <td>84.857143</td>\n",
       "    </tr>\n",
       "    <tr>\n",
       "      <th>2023</th>\n",
       "      <td>85.714286</td>\n",
       "      <td>86.571429</td>\n",
       "      <td>87.428571</td>\n",
       "      <td>88.285714</td>\n",
       "      <td>89.142857</td>\n",
       "      <td>90.000000</td>\n",
       "    </tr>\n",
       "  </tbody>\n",
       "</table>\n",
       "</div>"
      ],
      "text/plain": [
       "Grades       7th grade                        8th grade                      \n",
       "Subjects          Math    reading    writing       Math    reading    writing\n",
       "Name   Year                                                                  \n",
       "Kelvin 2021  60.000000  60.857143  61.714286  62.571429  63.428571  64.285714\n",
       "       2022  65.142857  66.000000  66.857143  67.714286  68.571429  69.428571\n",
       "       2023  70.285714  71.142857  72.000000  72.857143  73.714286  74.571429\n",
       "Jone   2021  75.428571  76.285714  77.142857  78.000000  78.857143  79.714286\n",
       "       2022  80.571429  81.428571  82.285714  83.142857  84.000000  84.857143\n",
       "       2023  85.714286  86.571429  87.428571  88.285714  89.142857  90.000000"
      ]
     },
     "execution_count": 14,
     "metadata": {},
     "output_type": "execute_result"
    }
   ],
   "source": [
    "df1.index.names = ['Name','Year']\n",
    "df1.columns.names = ['Grades','Subjects']\n",
    "df1"
   ]
  },
  {
   "cell_type": "code",
   "execution_count": null,
   "id": "0643e704",
   "metadata": {},
   "outputs": [],
   "source": []
  },
  {
   "cell_type": "code",
   "execution_count": 15,
   "id": "66cfdc08",
   "metadata": {},
   "outputs": [
    {
     "data": {
      "text/plain": [
       "MultiIndex([(     'Name',        ''),\n",
       "            (     'Year',        ''),\n",
       "            ('7th grade',    'Math'),\n",
       "            ('7th grade', 'reading'),\n",
       "            ('7th grade', 'writing'),\n",
       "            ('8th grade',    'Math'),\n",
       "            ('8th grade', 'reading'),\n",
       "            ('8th grade', 'writing')],\n",
       "           names=['Grades', 'Subjects'])"
      ]
     },
     "execution_count": 15,
     "metadata": {},
     "output_type": "execute_result"
    }
   ],
   "source": [
    "df2 = df1.reset_index(level =['Name','Year'])\n",
    "df2.columns"
   ]
  },
  {
   "cell_type": "code",
   "execution_count": 16,
   "id": "5fffac23",
   "metadata": {},
   "outputs": [
    {
     "data": {
      "text/html": [
       "<div>\n",
       "<style scoped>\n",
       "    .dataframe tbody tr th:only-of-type {\n",
       "        vertical-align: middle;\n",
       "    }\n",
       "\n",
       "    .dataframe tbody tr th {\n",
       "        vertical-align: top;\n",
       "    }\n",
       "\n",
       "    .dataframe thead th {\n",
       "        text-align: right;\n",
       "    }\n",
       "</style>\n",
       "<table border=\"1\" class=\"dataframe\">\n",
       "  <thead>\n",
       "    <tr style=\"text-align: right;\">\n",
       "      <th></th>\n",
       "      <th>Close</th>\n",
       "      <th>Volume</th>\n",
       "      <th>Symbol</th>\n",
       "      <th>Date</th>\n",
       "    </tr>\n",
       "  </thead>\n",
       "  <tbody>\n",
       "    <tr>\n",
       "      <th>0</th>\n",
       "      <td>100</td>\n",
       "      <td>134</td>\n",
       "      <td>CS</td>\n",
       "      <td>01-01-2023</td>\n",
       "    </tr>\n",
       "    <tr>\n",
       "      <th>1</th>\n",
       "      <td>200</td>\n",
       "      <td>124</td>\n",
       "      <td>CD</td>\n",
       "      <td>01-01-2023</td>\n",
       "    </tr>\n",
       "    <tr>\n",
       "      <th>2</th>\n",
       "      <td>300</td>\n",
       "      <td>128</td>\n",
       "      <td>CO</td>\n",
       "      <td>01-01-2023</td>\n",
       "    </tr>\n",
       "    <tr>\n",
       "      <th>3</th>\n",
       "      <td>287</td>\n",
       "      <td>129</td>\n",
       "      <td>CS</td>\n",
       "      <td>02-01-2023</td>\n",
       "    </tr>\n",
       "    <tr>\n",
       "      <th>4</th>\n",
       "      <td>248</td>\n",
       "      <td>130</td>\n",
       "      <td>CD</td>\n",
       "      <td>02-01-2023</td>\n",
       "    </tr>\n",
       "    <tr>\n",
       "      <th>5</th>\n",
       "      <td>239</td>\n",
       "      <td>131</td>\n",
       "      <td>CO</td>\n",
       "      <td>02-01-2023</td>\n",
       "    </tr>\n",
       "    <tr>\n",
       "      <th>6</th>\n",
       "      <td>199</td>\n",
       "      <td>132</td>\n",
       "      <td>CS</td>\n",
       "      <td>03-01-2023</td>\n",
       "    </tr>\n",
       "    <tr>\n",
       "      <th>7</th>\n",
       "      <td>278</td>\n",
       "      <td>126</td>\n",
       "      <td>CD</td>\n",
       "      <td>03-01-2023</td>\n",
       "    </tr>\n",
       "    <tr>\n",
       "      <th>8</th>\n",
       "      <td>245</td>\n",
       "      <td>126</td>\n",
       "      <td>CO</td>\n",
       "      <td>03-01-2023</td>\n",
       "    </tr>\n",
       "  </tbody>\n",
       "</table>\n",
       "</div>"
      ],
      "text/plain": [
       "   Close  Volume Symbol        Date\n",
       "0    100     134     CS  01-01-2023\n",
       "1    200     124     CD  01-01-2023\n",
       "2    300     128     CO  01-01-2023\n",
       "3    287     129     CS  02-01-2023\n",
       "4    248     130     CD  02-01-2023\n",
       "5    239     131     CO  02-01-2023\n",
       "6    199     132     CS  03-01-2023\n",
       "7    278     126     CD  03-01-2023\n",
       "8    245     126     CO  03-01-2023"
      ]
     },
     "execution_count": 16,
     "metadata": {},
     "output_type": "execute_result"
    }
   ],
   "source": [
    "list1=['01-01-2023','01-01-2023','01-01-2023','02-01-2023','02-01-2023','02-01-2023','03-01-2023','03-01-2023','03-01-2023']\n",
    "per1 = pd.DataFrame(list1)\n",
    "df = pd.DataFrame([\n",
    "    (100,134,'CS'),\n",
    "    (200,124,'CD'),\n",
    "    (300,128,'CO'),\n",
    "     (287,129,'CS'),\n",
    "     (248,130,'CD'),\n",
    "    (239,131,'CO'),\n",
    "    ( 199,132,'CS'),\n",
    "    ( 278,126,'CD'),\n",
    "    ( 245,126,'CO')],\n",
    " columns = ['Close','Volume','Symbol']  )\n",
    "\n",
    "df[\"Date\"] = per1\n",
    "df"
   ]
  },
  {
   "cell_type": "code",
   "execution_count": 17,
   "id": "2bfea3d4",
   "metadata": {},
   "outputs": [
    {
     "data": {
      "text/plain": [
       "RangeIndex(start=0, stop=9, step=1)"
      ]
     },
     "execution_count": 17,
     "metadata": {},
     "output_type": "execute_result"
    }
   ],
   "source": [
    "df.index"
   ]
  },
  {
   "cell_type": "code",
   "execution_count": 18,
   "id": "52d0ed3f",
   "metadata": {},
   "outputs": [
    {
     "data": {
      "text/plain": [
       "Symbol\n",
       "CD    242.000000\n",
       "CO    261.333333\n",
       "CS    195.333333\n",
       "Name: Close, dtype: float64"
      ]
     },
     "execution_count": 18,
     "metadata": {},
     "output_type": "execute_result"
    }
   ],
   "source": [
    "df.groupby(['Symbol']).Close.mean()"
   ]
  },
  {
   "cell_type": "code",
   "execution_count": 19,
   "id": "6cd3d356",
   "metadata": {},
   "outputs": [
    {
     "data": {
      "text/plain": [
       "Symbol  Date      \n",
       "CD      01-01-2023    200.0\n",
       "        02-01-2023    248.0\n",
       "        03-01-2023    278.0\n",
       "CO      01-01-2023    300.0\n",
       "        02-01-2023    239.0\n",
       "        03-01-2023    245.0\n",
       "CS      01-01-2023    100.0\n",
       "        02-01-2023    287.0\n",
       "        03-01-2023    199.0\n",
       "Name: Close, dtype: float64"
      ]
     },
     "execution_count": 19,
     "metadata": {},
     "output_type": "execute_result"
    }
   ],
   "source": [
    "ser = df.groupby(['Symbol','Date']).Close.mean()\n",
    "ser"
   ]
  },
  {
   "cell_type": "code",
   "execution_count": 20,
   "id": "90aea998",
   "metadata": {},
   "outputs": [
    {
     "data": {
      "text/plain": [
       "MultiIndex([('CD', '01-01-2023'),\n",
       "            ('CD', '02-01-2023'),\n",
       "            ('CD', '03-01-2023'),\n",
       "            ('CO', '01-01-2023'),\n",
       "            ('CO', '02-01-2023'),\n",
       "            ('CO', '03-01-2023'),\n",
       "            ('CS', '01-01-2023'),\n",
       "            ('CS', '02-01-2023'),\n",
       "            ('CS', '03-01-2023')],\n",
       "           names=['Symbol', 'Date'])"
      ]
     },
     "execution_count": 20,
     "metadata": {},
     "output_type": "execute_result"
    }
   ],
   "source": [
    "ser.index"
   ]
  },
  {
   "cell_type": "code",
   "execution_count": 21,
   "id": "179194e3",
   "metadata": {},
   "outputs": [
    {
     "data": {
      "text/html": [
       "<div>\n",
       "<style scoped>\n",
       "    .dataframe tbody tr th:only-of-type {\n",
       "        vertical-align: middle;\n",
       "    }\n",
       "\n",
       "    .dataframe tbody tr th {\n",
       "        vertical-align: top;\n",
       "    }\n",
       "\n",
       "    .dataframe thead th {\n",
       "        text-align: right;\n",
       "    }\n",
       "</style>\n",
       "<table border=\"1\" class=\"dataframe\">\n",
       "  <thead>\n",
       "    <tr style=\"text-align: right;\">\n",
       "      <th>Date</th>\n",
       "      <th>01-01-2023</th>\n",
       "      <th>02-01-2023</th>\n",
       "      <th>03-01-2023</th>\n",
       "    </tr>\n",
       "    <tr>\n",
       "      <th>Symbol</th>\n",
       "      <th></th>\n",
       "      <th></th>\n",
       "      <th></th>\n",
       "    </tr>\n",
       "  </thead>\n",
       "  <tbody>\n",
       "    <tr>\n",
       "      <th>CD</th>\n",
       "      <td>200.0</td>\n",
       "      <td>248.0</td>\n",
       "      <td>278.0</td>\n",
       "    </tr>\n",
       "    <tr>\n",
       "      <th>CO</th>\n",
       "      <td>300.0</td>\n",
       "      <td>239.0</td>\n",
       "      <td>245.0</td>\n",
       "    </tr>\n",
       "    <tr>\n",
       "      <th>CS</th>\n",
       "      <td>100.0</td>\n",
       "      <td>287.0</td>\n",
       "      <td>199.0</td>\n",
       "    </tr>\n",
       "  </tbody>\n",
       "</table>\n",
       "</div>"
      ],
      "text/plain": [
       "Date    01-01-2023  02-01-2023  03-01-2023\n",
       "Symbol                                    \n",
       "CD           200.0       248.0       278.0\n",
       "CO           300.0       239.0       245.0\n",
       "CS           100.0       287.0       199.0"
      ]
     },
     "execution_count": 21,
     "metadata": {},
     "output_type": "execute_result"
    }
   ],
   "source": [
    "ser.unstack()"
   ]
  },
  {
   "cell_type": "code",
   "execution_count": 22,
   "id": "21ec91ac",
   "metadata": {},
   "outputs": [
    {
     "data": {
      "text/html": [
       "<div>\n",
       "<style scoped>\n",
       "    .dataframe tbody tr th:only-of-type {\n",
       "        vertical-align: middle;\n",
       "    }\n",
       "\n",
       "    .dataframe tbody tr th {\n",
       "        vertical-align: top;\n",
       "    }\n",
       "\n",
       "    .dataframe thead th {\n",
       "        text-align: right;\n",
       "    }\n",
       "</style>\n",
       "<table border=\"1\" class=\"dataframe\">\n",
       "  <thead>\n",
       "    <tr style=\"text-align: right;\">\n",
       "      <th>Date</th>\n",
       "      <th>01-01-2023</th>\n",
       "      <th>02-01-2023</th>\n",
       "      <th>03-01-2023</th>\n",
       "    </tr>\n",
       "    <tr>\n",
       "      <th>Symbol</th>\n",
       "      <th></th>\n",
       "      <th></th>\n",
       "      <th></th>\n",
       "    </tr>\n",
       "  </thead>\n",
       "  <tbody>\n",
       "    <tr>\n",
       "      <th>CD</th>\n",
       "      <td>200</td>\n",
       "      <td>248</td>\n",
       "      <td>278</td>\n",
       "    </tr>\n",
       "    <tr>\n",
       "      <th>CO</th>\n",
       "      <td>300</td>\n",
       "      <td>239</td>\n",
       "      <td>245</td>\n",
       "    </tr>\n",
       "    <tr>\n",
       "      <th>CS</th>\n",
       "      <td>100</td>\n",
       "      <td>287</td>\n",
       "      <td>199</td>\n",
       "    </tr>\n",
       "  </tbody>\n",
       "</table>\n",
       "</div>"
      ],
      "text/plain": [
       "Date    01-01-2023  02-01-2023  03-01-2023\n",
       "Symbol                                    \n",
       "CD             200         248         278\n",
       "CO             300         239         245\n",
       "CS             100         287         199"
      ]
     },
     "execution_count": 22,
     "metadata": {},
     "output_type": "execute_result"
    }
   ],
   "source": [
    "df.pivot_table(values ='Close',index ='Symbol',columns='Date')"
   ]
  },
  {
   "cell_type": "code",
   "execution_count": 23,
   "id": "75bb1825",
   "metadata": {},
   "outputs": [
    {
     "data": {
      "text/plain": [
       "Date\n",
       "01-01-2023    200.0\n",
       "02-01-2023    248.0\n",
       "03-01-2023    278.0\n",
       "Name: Close, dtype: float64"
      ]
     },
     "execution_count": 23,
     "metadata": {},
     "output_type": "execute_result"
    }
   ],
   "source": [
    "ser.loc['CD']"
   ]
  },
  {
   "cell_type": "code",
   "execution_count": 24,
   "id": "9dc0f32d",
   "metadata": {},
   "outputs": [
    {
     "data": {
      "text/plain": [
       "278.0"
      ]
     },
     "execution_count": 24,
     "metadata": {},
     "output_type": "execute_result"
    }
   ],
   "source": [
    "ser.loc['CD','03-01-2023']"
   ]
  },
  {
   "cell_type": "code",
   "execution_count": 25,
   "id": "10d56a0c",
   "metadata": {},
   "outputs": [
    {
     "data": {
      "text/plain": [
       "Symbol\n",
       "CD    278.0\n",
       "CO    245.0\n",
       "CS    199.0\n",
       "Name: Close, dtype: float64"
      ]
     },
     "execution_count": 25,
     "metadata": {},
     "output_type": "execute_result"
    }
   ],
   "source": [
    "ser.loc[:,'03-01-2023']"
   ]
  },
  {
   "cell_type": "code",
   "execution_count": 26,
   "id": "f0372509",
   "metadata": {},
   "outputs": [
    {
     "data": {
      "text/html": [
       "<div>\n",
       "<style scoped>\n",
       "    .dataframe tbody tr th:only-of-type {\n",
       "        vertical-align: middle;\n",
       "    }\n",
       "\n",
       "    .dataframe tbody tr th {\n",
       "        vertical-align: top;\n",
       "    }\n",
       "\n",
       "    .dataframe thead th {\n",
       "        text-align: right;\n",
       "    }\n",
       "</style>\n",
       "<table border=\"1\" class=\"dataframe\">\n",
       "  <thead>\n",
       "    <tr style=\"text-align: right;\">\n",
       "      <th></th>\n",
       "      <th></th>\n",
       "      <th>Close</th>\n",
       "      <th>Volume</th>\n",
       "    </tr>\n",
       "    <tr>\n",
       "      <th>Symbol</th>\n",
       "      <th>Date</th>\n",
       "      <th></th>\n",
       "      <th></th>\n",
       "    </tr>\n",
       "  </thead>\n",
       "  <tbody>\n",
       "    <tr>\n",
       "      <th>CS</th>\n",
       "      <th>01-01-2023</th>\n",
       "      <td>100</td>\n",
       "      <td>134</td>\n",
       "    </tr>\n",
       "    <tr>\n",
       "      <th>CD</th>\n",
       "      <th>01-01-2023</th>\n",
       "      <td>200</td>\n",
       "      <td>124</td>\n",
       "    </tr>\n",
       "    <tr>\n",
       "      <th>CO</th>\n",
       "      <th>01-01-2023</th>\n",
       "      <td>300</td>\n",
       "      <td>128</td>\n",
       "    </tr>\n",
       "    <tr>\n",
       "      <th>CS</th>\n",
       "      <th>02-01-2023</th>\n",
       "      <td>287</td>\n",
       "      <td>129</td>\n",
       "    </tr>\n",
       "    <tr>\n",
       "      <th>CD</th>\n",
       "      <th>02-01-2023</th>\n",
       "      <td>248</td>\n",
       "      <td>130</td>\n",
       "    </tr>\n",
       "    <tr>\n",
       "      <th>CO</th>\n",
       "      <th>02-01-2023</th>\n",
       "      <td>239</td>\n",
       "      <td>131</td>\n",
       "    </tr>\n",
       "    <tr>\n",
       "      <th>CS</th>\n",
       "      <th>03-01-2023</th>\n",
       "      <td>199</td>\n",
       "      <td>132</td>\n",
       "    </tr>\n",
       "    <tr>\n",
       "      <th>CD</th>\n",
       "      <th>03-01-2023</th>\n",
       "      <td>278</td>\n",
       "      <td>126</td>\n",
       "    </tr>\n",
       "    <tr>\n",
       "      <th>CO</th>\n",
       "      <th>03-01-2023</th>\n",
       "      <td>245</td>\n",
       "      <td>126</td>\n",
       "    </tr>\n",
       "  </tbody>\n",
       "</table>\n",
       "</div>"
      ],
      "text/plain": [
       "                   Close  Volume\n",
       "Symbol Date                     \n",
       "CS     01-01-2023    100     134\n",
       "CD     01-01-2023    200     124\n",
       "CO     01-01-2023    300     128\n",
       "CS     02-01-2023    287     129\n",
       "CD     02-01-2023    248     130\n",
       "CO     02-01-2023    239     131\n",
       "CS     03-01-2023    199     132\n",
       "CD     03-01-2023    278     126\n",
       "CO     03-01-2023    245     126"
      ]
     },
     "execution_count": 26,
     "metadata": {},
     "output_type": "execute_result"
    }
   ],
   "source": [
    "df.set_index(['Symbol','Date'],inplace=True)\n",
    "df"
   ]
  },
  {
   "cell_type": "code",
   "execution_count": 27,
   "id": "cd6453ba",
   "metadata": {},
   "outputs": [
    {
     "data": {
      "text/html": [
       "<div>\n",
       "<style scoped>\n",
       "    .dataframe tbody tr th:only-of-type {\n",
       "        vertical-align: middle;\n",
       "    }\n",
       "\n",
       "    .dataframe tbody tr th {\n",
       "        vertical-align: top;\n",
       "    }\n",
       "\n",
       "    .dataframe thead th {\n",
       "        text-align: right;\n",
       "    }\n",
       "</style>\n",
       "<table border=\"1\" class=\"dataframe\">\n",
       "  <thead>\n",
       "    <tr style=\"text-align: right;\">\n",
       "      <th></th>\n",
       "      <th></th>\n",
       "      <th>Close</th>\n",
       "      <th>Volume</th>\n",
       "    </tr>\n",
       "    <tr>\n",
       "      <th>Symbol</th>\n",
       "      <th>Date</th>\n",
       "      <th></th>\n",
       "      <th></th>\n",
       "    </tr>\n",
       "  </thead>\n",
       "  <tbody>\n",
       "    <tr>\n",
       "      <th rowspan=\"3\" valign=\"top\">CD</th>\n",
       "      <th>01-01-2023</th>\n",
       "      <td>200</td>\n",
       "      <td>124</td>\n",
       "    </tr>\n",
       "    <tr>\n",
       "      <th>02-01-2023</th>\n",
       "      <td>248</td>\n",
       "      <td>130</td>\n",
       "    </tr>\n",
       "    <tr>\n",
       "      <th>03-01-2023</th>\n",
       "      <td>278</td>\n",
       "      <td>126</td>\n",
       "    </tr>\n",
       "    <tr>\n",
       "      <th rowspan=\"3\" valign=\"top\">CO</th>\n",
       "      <th>01-01-2023</th>\n",
       "      <td>300</td>\n",
       "      <td>128</td>\n",
       "    </tr>\n",
       "    <tr>\n",
       "      <th>02-01-2023</th>\n",
       "      <td>239</td>\n",
       "      <td>131</td>\n",
       "    </tr>\n",
       "    <tr>\n",
       "      <th>03-01-2023</th>\n",
       "      <td>245</td>\n",
       "      <td>126</td>\n",
       "    </tr>\n",
       "    <tr>\n",
       "      <th rowspan=\"3\" valign=\"top\">CS</th>\n",
       "      <th>01-01-2023</th>\n",
       "      <td>100</td>\n",
       "      <td>134</td>\n",
       "    </tr>\n",
       "    <tr>\n",
       "      <th>02-01-2023</th>\n",
       "      <td>287</td>\n",
       "      <td>129</td>\n",
       "    </tr>\n",
       "    <tr>\n",
       "      <th>03-01-2023</th>\n",
       "      <td>199</td>\n",
       "      <td>132</td>\n",
       "    </tr>\n",
       "  </tbody>\n",
       "</table>\n",
       "</div>"
      ],
      "text/plain": [
       "                   Close  Volume\n",
       "Symbol Date                     \n",
       "CD     01-01-2023    200     124\n",
       "       02-01-2023    248     130\n",
       "       03-01-2023    278     126\n",
       "CO     01-01-2023    300     128\n",
       "       02-01-2023    239     131\n",
       "       03-01-2023    245     126\n",
       "CS     01-01-2023    100     134\n",
       "       02-01-2023    287     129\n",
       "       03-01-2023    199     132"
      ]
     },
     "execution_count": 27,
     "metadata": {},
     "output_type": "execute_result"
    }
   ],
   "source": [
    "df.sort_index()"
   ]
  },
  {
   "cell_type": "code",
   "execution_count": 28,
   "id": "fd3a3980",
   "metadata": {},
   "outputs": [
    {
     "data": {
      "text/html": [
       "<div>\n",
       "<style scoped>\n",
       "    .dataframe tbody tr th:only-of-type {\n",
       "        vertical-align: middle;\n",
       "    }\n",
       "\n",
       "    .dataframe tbody tr th {\n",
       "        vertical-align: top;\n",
       "    }\n",
       "\n",
       "    .dataframe thead th {\n",
       "        text-align: right;\n",
       "    }\n",
       "</style>\n",
       "<table border=\"1\" class=\"dataframe\">\n",
       "  <thead>\n",
       "    <tr style=\"text-align: right;\">\n",
       "      <th></th>\n",
       "      <th>Close</th>\n",
       "      <th>Volume</th>\n",
       "    </tr>\n",
       "    <tr>\n",
       "      <th>Date</th>\n",
       "      <th></th>\n",
       "      <th></th>\n",
       "    </tr>\n",
       "  </thead>\n",
       "  <tbody>\n",
       "    <tr>\n",
       "      <th>01-01-2023</th>\n",
       "      <td>200</td>\n",
       "      <td>124</td>\n",
       "    </tr>\n",
       "    <tr>\n",
       "      <th>02-01-2023</th>\n",
       "      <td>248</td>\n",
       "      <td>130</td>\n",
       "    </tr>\n",
       "    <tr>\n",
       "      <th>03-01-2023</th>\n",
       "      <td>278</td>\n",
       "      <td>126</td>\n",
       "    </tr>\n",
       "  </tbody>\n",
       "</table>\n",
       "</div>"
      ],
      "text/plain": [
       "            Close  Volume\n",
       "Date                     \n",
       "01-01-2023    200     124\n",
       "02-01-2023    248     130\n",
       "03-01-2023    278     126"
      ]
     },
     "execution_count": 28,
     "metadata": {},
     "output_type": "execute_result"
    }
   ],
   "source": [
    "df.loc['CD']"
   ]
  },
  {
   "cell_type": "code",
   "execution_count": 29,
   "id": "a5b34ce0",
   "metadata": {},
   "outputs": [
    {
     "data": {
      "text/plain": [
       "Close     200\n",
       "Volume    124\n",
       "Name: (CD, 01-01-2023), dtype: int64"
      ]
     },
     "execution_count": 29,
     "metadata": {},
     "output_type": "execute_result"
    }
   ],
   "source": [
    "df.loc[('CD','01-01-2023'),:]"
   ]
  },
  {
   "cell_type": "code",
   "execution_count": 30,
   "id": "07bc2d5c",
   "metadata": {},
   "outputs": [
    {
     "data": {
      "text/plain": [
       "200"
      ]
     },
     "execution_count": 30,
     "metadata": {},
     "output_type": "execute_result"
    }
   ],
   "source": [
    "df.loc[('CD','01-01-2023'),'Close']"
   ]
  },
  {
   "cell_type": "code",
   "execution_count": 31,
   "id": "fbc3792a",
   "metadata": {},
   "outputs": [
    {
     "data": {
      "text/plain": [
       "Symbol  Date      \n",
       "CD      01-01-2023    200\n",
       "CO      01-01-2023    300\n",
       "Name: Close, dtype: int64"
      ]
     },
     "execution_count": 31,
     "metadata": {},
     "output_type": "execute_result"
    }
   ],
   "source": [
    "df.loc[(['CD','CO'],'01-01-2023'),'Close']"
   ]
  },
  {
   "cell_type": "code",
   "execution_count": 32,
   "id": "3b94f3ca",
   "metadata": {},
   "outputs": [
    {
     "data": {
      "text/html": [
       "<div>\n",
       "<style scoped>\n",
       "    .dataframe tbody tr th:only-of-type {\n",
       "        vertical-align: middle;\n",
       "    }\n",
       "\n",
       "    .dataframe tbody tr th {\n",
       "        vertical-align: top;\n",
       "    }\n",
       "\n",
       "    .dataframe thead th {\n",
       "        text-align: right;\n",
       "    }\n",
       "</style>\n",
       "<table border=\"1\" class=\"dataframe\">\n",
       "  <thead>\n",
       "    <tr style=\"text-align: right;\">\n",
       "      <th></th>\n",
       "      <th></th>\n",
       "      <th>Close</th>\n",
       "      <th>Volume</th>\n",
       "    </tr>\n",
       "    <tr>\n",
       "      <th>Symbol</th>\n",
       "      <th>Date</th>\n",
       "      <th></th>\n",
       "      <th></th>\n",
       "    </tr>\n",
       "  </thead>\n",
       "  <tbody>\n",
       "    <tr>\n",
       "      <th>CS</th>\n",
       "      <th>01-01-2023</th>\n",
       "      <td>100</td>\n",
       "      <td>134</td>\n",
       "    </tr>\n",
       "    <tr>\n",
       "      <th>CD</th>\n",
       "      <th>01-01-2023</th>\n",
       "      <td>200</td>\n",
       "      <td>124</td>\n",
       "    </tr>\n",
       "    <tr>\n",
       "      <th>CO</th>\n",
       "      <th>01-01-2023</th>\n",
       "      <td>300</td>\n",
       "      <td>128</td>\n",
       "    </tr>\n",
       "    <tr>\n",
       "      <th>CS</th>\n",
       "      <th>03-01-2023</th>\n",
       "      <td>199</td>\n",
       "      <td>132</td>\n",
       "    </tr>\n",
       "    <tr>\n",
       "      <th>CD</th>\n",
       "      <th>03-01-2023</th>\n",
       "      <td>278</td>\n",
       "      <td>126</td>\n",
       "    </tr>\n",
       "    <tr>\n",
       "      <th>CO</th>\n",
       "      <th>03-01-2023</th>\n",
       "      <td>245</td>\n",
       "      <td>126</td>\n",
       "    </tr>\n",
       "  </tbody>\n",
       "</table>\n",
       "</div>"
      ],
      "text/plain": [
       "                   Close  Volume\n",
       "Symbol Date                     \n",
       "CS     01-01-2023    100     134\n",
       "CD     01-01-2023    200     124\n",
       "CO     01-01-2023    300     128\n",
       "CS     03-01-2023    199     132\n",
       "CD     03-01-2023    278     126\n",
       "CO     03-01-2023    245     126"
      ]
     },
     "execution_count": 32,
     "metadata": {},
     "output_type": "execute_result"
    }
   ],
   "source": [
    "df.loc[(slice(None),['01-01-2023','03-01-2023']),:]"
   ]
  },
  {
   "cell_type": "code",
   "execution_count": 33,
   "id": "d8483d78",
   "metadata": {},
   "outputs": [
    {
     "data": {
      "text/html": [
       "<div>\n",
       "<style scoped>\n",
       "    .dataframe tbody tr th:only-of-type {\n",
       "        vertical-align: middle;\n",
       "    }\n",
       "\n",
       "    .dataframe tbody tr th {\n",
       "        vertical-align: top;\n",
       "    }\n",
       "\n",
       "    .dataframe thead th {\n",
       "        text-align: right;\n",
       "    }\n",
       "</style>\n",
       "<table border=\"1\" class=\"dataframe\">\n",
       "  <thead>\n",
       "    <tr style=\"text-align: right;\">\n",
       "      <th></th>\n",
       "      <th>Symbol</th>\n",
       "      <th>Date</th>\n",
       "      <th>Close</th>\n",
       "      <th>Volume</th>\n",
       "    </tr>\n",
       "  </thead>\n",
       "  <tbody>\n",
       "    <tr>\n",
       "      <th>0</th>\n",
       "      <td>CS</td>\n",
       "      <td>01-01-2023</td>\n",
       "      <td>100</td>\n",
       "      <td>134</td>\n",
       "    </tr>\n",
       "    <tr>\n",
       "      <th>1</th>\n",
       "      <td>CD</td>\n",
       "      <td>01-01-2023</td>\n",
       "      <td>200</td>\n",
       "      <td>124</td>\n",
       "    </tr>\n",
       "    <tr>\n",
       "      <th>2</th>\n",
       "      <td>CO</td>\n",
       "      <td>01-01-2023</td>\n",
       "      <td>300</td>\n",
       "      <td>128</td>\n",
       "    </tr>\n",
       "    <tr>\n",
       "      <th>3</th>\n",
       "      <td>CS</td>\n",
       "      <td>02-01-2023</td>\n",
       "      <td>287</td>\n",
       "      <td>129</td>\n",
       "    </tr>\n",
       "    <tr>\n",
       "      <th>4</th>\n",
       "      <td>CD</td>\n",
       "      <td>02-01-2023</td>\n",
       "      <td>248</td>\n",
       "      <td>130</td>\n",
       "    </tr>\n",
       "    <tr>\n",
       "      <th>5</th>\n",
       "      <td>CO</td>\n",
       "      <td>02-01-2023</td>\n",
       "      <td>239</td>\n",
       "      <td>131</td>\n",
       "    </tr>\n",
       "    <tr>\n",
       "      <th>6</th>\n",
       "      <td>CS</td>\n",
       "      <td>03-01-2023</td>\n",
       "      <td>199</td>\n",
       "      <td>132</td>\n",
       "    </tr>\n",
       "    <tr>\n",
       "      <th>7</th>\n",
       "      <td>CD</td>\n",
       "      <td>03-01-2023</td>\n",
       "      <td>278</td>\n",
       "      <td>126</td>\n",
       "    </tr>\n",
       "    <tr>\n",
       "      <th>8</th>\n",
       "      <td>CO</td>\n",
       "      <td>03-01-2023</td>\n",
       "      <td>245</td>\n",
       "      <td>126</td>\n",
       "    </tr>\n",
       "  </tbody>\n",
       "</table>\n",
       "</div>"
      ],
      "text/plain": [
       "  Symbol        Date  Close  Volume\n",
       "0     CS  01-01-2023    100     134\n",
       "1     CD  01-01-2023    200     124\n",
       "2     CO  01-01-2023    300     128\n",
       "3     CS  02-01-2023    287     129\n",
       "4     CD  02-01-2023    248     130\n",
       "5     CO  02-01-2023    239     131\n",
       "6     CS  03-01-2023    199     132\n",
       "7     CD  03-01-2023    278     126\n",
       "8     CO  03-01-2023    245     126"
      ]
     },
     "execution_count": 33,
     "metadata": {},
     "output_type": "execute_result"
    }
   ],
   "source": [
    "df.reset_index()"
   ]
  }
 ],
 "metadata": {
  "kernelspec": {
   "display_name": "Python 3 (ipykernel)",
   "language": "python",
   "name": "python3"
  },
  "language_info": {
   "codemirror_mode": {
    "name": "ipython",
    "version": 3
   },
   "file_extension": ".py",
   "mimetype": "text/x-python",
   "name": "python",
   "nbconvert_exporter": "python",
   "pygments_lexer": "ipython3",
   "version": "3.9.12"
  }
 },
 "nbformat": 4,
 "nbformat_minor": 5
}
