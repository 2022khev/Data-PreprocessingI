{
 "cells": [
  {
   "cell_type": "code",
   "execution_count": 1,
   "id": "4c29769d",
   "metadata": {},
   "outputs": [],
   "source": [
    "import  pandas as pd\n",
    "import numpy as np\n",
    "import matplotlib.pyplot as plt"
   ]
  },
  {
   "cell_type": "code",
   "execution_count": 2,
   "id": "3743cbd4",
   "metadata": {},
   "outputs": [],
   "source": [
    "def wrangle(path):\n",
    "    df=pd.read_csv(path)\n",
    "    print(df.shape)\n",
    "    return df"
   ]
  },
  {
   "cell_type": "code",
   "execution_count": 3,
   "id": "132844cf",
   "metadata": {},
   "outputs": [
    {
     "name": "stdout",
     "output_type": "stream",
     "text": [
      "(10, 4)\n",
      "   Year  United Kingdom  United Sates  Zambia\n",
      "0  2001            0.66           1.0    3.11\n",
      "1  2002            0.70           1.0    3.61\n",
      "2  2003            0.67           1.0    4.40\n",
      "3  2004            0.61           1.0    4.73\n",
      "4  2005            0.55           1.0    4.78\n",
      "5  2006            0.50           1.0    4.47\n",
      "6  2007            0.54           1.0    3.60\n",
      "7  2008            0.50           1.0    4.00\n",
      "8  2009            0.54           1.0    3.50\n",
      "9  2010            0.75           1.0    5.05\n"
     ]
    }
   ],
   "source": [
    "df=wrangle(r'C:\\Users\\kelvin\\OneDrive\\Desktop\\clean.csv')\n",
    "print(df)"
   ]
  },
  {
   "cell_type": "code",
   "execution_count": 4,
   "id": "7ff395af",
   "metadata": {},
   "outputs": [
    {
     "name": "stdout",
     "output_type": "stream",
     "text": [
      "             Year  United Kingdom  United Sates    Zambia\n",
      "count    10.00000       10.000000          10.0  10.00000\n",
      "mean   2005.50000        0.602000           1.0   4.12500\n",
      "std       3.02765        0.088669           0.0   0.65172\n",
      "min    2001.00000        0.500000           1.0   3.11000\n",
      "25%    2003.25000        0.540000           1.0   3.60250\n",
      "50%    2005.50000        0.580000           1.0   4.20000\n",
      "75%    2007.75000        0.667500           1.0   4.66500\n",
      "max    2010.00000        0.750000           1.0   5.05000\n"
     ]
    }
   ],
   "source": [
    "print(df.describe())"
   ]
  },
  {
   "cell_type": "code",
   "execution_count": 5,
   "id": "08513628",
   "metadata": {},
   "outputs": [],
   "source": [
    "for i in  range(df.shape[0]):\n",
    "    if df.loc[i,'United Kingdom']>=0.70 and df.loc[i,'United Kingdom']<=1.0:\n",
    "        df.loc[i,'UK_label'] = 'A'\n",
    "    elif df.loc[i,'United Kingdom']>=0.60 and df.loc[i,'United Kingdom']<=0.70:\n",
    "        df.loc[i,'UK_label'] = 'B'\n",
    "    elif df.loc[i,'United Kingdom']>=0.50 and df.loc[i,'United Kingdom']<=0.60:\n",
    "        df.loc[i,'UK_label'] = 'C'\n",
    "    elif df.loc[i,'United Kingdom']>=0.40 and df.loc[i,'United Kingdom']<=0.50:\n",
    "        df.loc[i,'UK_label'] = 'D'\n",
    "    else:\n",
    "        df.loc[i,'UK_label'] = 'Fail'"
   ]
  },
  {
   "cell_type": "code",
   "execution_count": 6,
   "id": "fad687d5",
   "metadata": {},
   "outputs": [
    {
     "name": "stdout",
     "output_type": "stream",
     "text": [
      "   Year  United Kingdom  United Sates  Zambia UK_label\n",
      "0  2001            0.66           1.0    3.11        B\n",
      "1  2002            0.70           1.0    3.61        A\n",
      "2  2003            0.67           1.0    4.40        B\n",
      "3  2004            0.61           1.0    4.73        B\n",
      "4  2005            0.55           1.0    4.78        C\n",
      "5  2006            0.50           1.0    4.47        C\n",
      "6  2007            0.54           1.0    3.60        C\n",
      "7  2008            0.50           1.0    4.00        C\n",
      "8  2009            0.54           1.0    3.50        C\n",
      "9  2010            0.75           1.0    5.05        A\n"
     ]
    }
   ],
   "source": [
    "print(df)"
   ]
  },
  {
   "cell_type": "code",
   "execution_count": 7,
   "id": "8abc5c1a",
   "metadata": {},
   "outputs": [],
   "source": [
    "store = {}\n",
    "def BMI():\n",
    "    weight = float(input(\"Enter your Weight in Kilograms:\"))\n",
    "    height = float(input(\"Enter your Height in Metres:\"))\n",
    "    bmi_index = (weight/height**2)\n",
    "    store = {\n",
    "             'Weight':weight ,\n",
    "             'Height':height,\n",
    "             'BMI_index':bmi_index}\n",
    "    result = pd.DataFrame.from_dict( store,orient='index').transpose()\n",
    "    \n",
    "    for i in range(result.shape[0]):\n",
    "        if result.loc[i,'BMI_index']>=0.0 and result.loc[i,'BMI_index']<=18.5:\n",
    "            result.loc[i,'BMI Status'] = 'Under Weight'\n",
    "        elif result.loc[i,'BMI_index']>18.5 and result.loc[i,'BMI_index']<= 24.9:\n",
    "            result.loc[i,'BMI Status'] = 'Healthy Weight(Normal)'\n",
    "        elif result.loc[i,'BMI_index']>24.9 and result.loc[i,'BMI_index']<= 29.9:\n",
    "            result.loc[i,'BMI Status'] = 'Over Weight'\n",
    "        else:\n",
    "            result.loc[i,'BMI_Status'] = 'Obese'\n",
    "            print(\"-------Result----------------\")\n",
    "    \n",
    "    return result"
   ]
  },
  {
   "cell_type": "code",
   "execution_count": 8,
   "id": "5ed4e833",
   "metadata": {},
   "outputs": [
    {
     "name": "stdout",
     "output_type": "stream",
     "text": [
      "Enter your Weight in Kilograms:50\n",
      "Enter your Height in Metres:1.7\n"
     ]
    },
    {
     "data": {
      "text/html": [
       "<div>\n",
       "<style scoped>\n",
       "    .dataframe tbody tr th:only-of-type {\n",
       "        vertical-align: middle;\n",
       "    }\n",
       "\n",
       "    .dataframe tbody tr th {\n",
       "        vertical-align: top;\n",
       "    }\n",
       "\n",
       "    .dataframe thead th {\n",
       "        text-align: right;\n",
       "    }\n",
       "</style>\n",
       "<table border=\"1\" class=\"dataframe\">\n",
       "  <thead>\n",
       "    <tr style=\"text-align: right;\">\n",
       "      <th></th>\n",
       "      <th>Weight</th>\n",
       "      <th>Height</th>\n",
       "      <th>BMI_index</th>\n",
       "      <th>BMI Status</th>\n",
       "    </tr>\n",
       "  </thead>\n",
       "  <tbody>\n",
       "    <tr>\n",
       "      <th>0</th>\n",
       "      <td>50.0</td>\n",
       "      <td>1.7</td>\n",
       "      <td>17.301038</td>\n",
       "      <td>Under Weight</td>\n",
       "    </tr>\n",
       "  </tbody>\n",
       "</table>\n",
       "</div>"
      ],
      "text/plain": [
       "   Weight  Height  BMI_index    BMI Status\n",
       "0    50.0     1.7  17.301038  Under Weight"
      ]
     },
     "execution_count": 8,
     "metadata": {},
     "output_type": "execute_result"
    }
   ],
   "source": [
    "BMI()"
   ]
  },
  {
   "cell_type": "code",
   "execution_count": 9,
   "id": "c6d6d764",
   "metadata": {},
   "outputs": [
    {
     "name": "stdout",
     "output_type": "stream",
     "text": [
      "   weight  height\n",
      "0      56    1.53\n",
      "1      89    1.75\n",
      "2      67    1.65\n",
      "3      45    1.67\n",
      "4      70    1.56\n",
      "5      78    1.65\n",
      "6      56    1.75\n",
      "7      67    1.80\n",
      "8      78    1.90\n"
     ]
    }
   ],
   "source": [
    "df=pd.DataFrame({\n",
    "    'weight':[56,  89,    67,  45,  70,  78,  56, 67,78],\n",
    "    'height':[1.53,1.75, 1.65,1.67,1.56,1.65,1.75,1.8,1.9]\n",
    "    \n",
    "})\n",
    "print(df)"
   ]
  },
  {
   "cell_type": "code",
   "execution_count": 10,
   "id": "3563cf42",
   "metadata": {},
   "outputs": [],
   "source": [
    "def BMI_df(df):\n",
    "    weight = df['weight']\n",
    "    height = df['height']\n",
    "    bmi_index = (weight/height**2)\n",
    "    df['BMI_index'] = bmi_index\n",
    "    for i in range(df.shape[0]):\n",
    "        if df.loc[i,'BMI_index']>=0.0 and df.loc[i,'BMI_index']<=18.5:\n",
    "            df.loc[i,'BMI Status'] = 'Under Weight'\n",
    "        elif df.loc[i,'BMI_index']>18.5 and df.loc[i,'BMI_index']<= 24.9:\n",
    "            df.loc[i,'BMI Status'] = 'Healthy Weight(Normal)'\n",
    "        elif df.loc[i,'BMI_index']>24.9 and df.loc[i,'BMI_index']<= 29.9:\n",
    "            df.loc[i,'BMI Status'] = 'Over Weight'\n",
    "        else:\n",
    "            df.loc[i,'BMI_Status'] = 'Obese'\n",
    "            print(\"-------Result----------------\")\n",
    "            print(df)\n",
    "        print(df['BMI Status'].sort_values(ascending=False).value_counts().plot(kind='barh',title='BMI Status',xlabel='Status',ylabel='BMI index'))\n",
    "    \n",
    "    return df"
   ]
  },
  {
   "cell_type": "code",
   "execution_count": 11,
   "id": "c4636fa7",
   "metadata": {},
   "outputs": [
    {
     "name": "stdout",
     "output_type": "stream",
     "text": [
      "AxesSubplot(0.125,0.125;0.775x0.755)\n",
      "AxesSubplot(0.125,0.125;0.775x0.755)\n",
      "AxesSubplot(0.125,0.125;0.775x0.755)\n",
      "AxesSubplot(0.125,0.125;0.775x0.755)\n",
      "AxesSubplot(0.125,0.125;0.775x0.755)\n",
      "AxesSubplot(0.125,0.125;0.775x0.755)\n",
      "AxesSubplot(0.125,0.125;0.775x0.755)\n",
      "AxesSubplot(0.125,0.125;0.775x0.755)\n",
      "AxesSubplot(0.125,0.125;0.775x0.755)\n"
     ]
    },
    {
     "data": {
      "text/html": [
       "<div>\n",
       "<style scoped>\n",
       "    .dataframe tbody tr th:only-of-type {\n",
       "        vertical-align: middle;\n",
       "    }\n",
       "\n",
       "    .dataframe tbody tr th {\n",
       "        vertical-align: top;\n",
       "    }\n",
       "\n",
       "    .dataframe thead th {\n",
       "        text-align: right;\n",
       "    }\n",
       "</style>\n",
       "<table border=\"1\" class=\"dataframe\">\n",
       "  <thead>\n",
       "    <tr style=\"text-align: right;\">\n",
       "      <th></th>\n",
       "      <th>weight</th>\n",
       "      <th>height</th>\n",
       "      <th>BMI_index</th>\n",
       "      <th>BMI Status</th>\n",
       "    </tr>\n",
       "  </thead>\n",
       "  <tbody>\n",
       "    <tr>\n",
       "      <th>0</th>\n",
       "      <td>56</td>\n",
       "      <td>1.53</td>\n",
       "      <td>23.922423</td>\n",
       "      <td>Healthy Weight(Normal)</td>\n",
       "    </tr>\n",
       "    <tr>\n",
       "      <th>1</th>\n",
       "      <td>89</td>\n",
       "      <td>1.75</td>\n",
       "      <td>29.061224</td>\n",
       "      <td>Over Weight</td>\n",
       "    </tr>\n",
       "    <tr>\n",
       "      <th>2</th>\n",
       "      <td>67</td>\n",
       "      <td>1.65</td>\n",
       "      <td>24.609734</td>\n",
       "      <td>Healthy Weight(Normal)</td>\n",
       "    </tr>\n",
       "    <tr>\n",
       "      <th>3</th>\n",
       "      <td>45</td>\n",
       "      <td>1.67</td>\n",
       "      <td>16.135394</td>\n",
       "      <td>Under Weight</td>\n",
       "    </tr>\n",
       "    <tr>\n",
       "      <th>4</th>\n",
       "      <td>70</td>\n",
       "      <td>1.56</td>\n",
       "      <td>28.763971</td>\n",
       "      <td>Over Weight</td>\n",
       "    </tr>\n",
       "    <tr>\n",
       "      <th>5</th>\n",
       "      <td>78</td>\n",
       "      <td>1.65</td>\n",
       "      <td>28.650138</td>\n",
       "      <td>Over Weight</td>\n",
       "    </tr>\n",
       "    <tr>\n",
       "      <th>6</th>\n",
       "      <td>56</td>\n",
       "      <td>1.75</td>\n",
       "      <td>18.285714</td>\n",
       "      <td>Under Weight</td>\n",
       "    </tr>\n",
       "    <tr>\n",
       "      <th>7</th>\n",
       "      <td>67</td>\n",
       "      <td>1.80</td>\n",
       "      <td>20.679012</td>\n",
       "      <td>Healthy Weight(Normal)</td>\n",
       "    </tr>\n",
       "    <tr>\n",
       "      <th>8</th>\n",
       "      <td>78</td>\n",
       "      <td>1.90</td>\n",
       "      <td>21.606648</td>\n",
       "      <td>Healthy Weight(Normal)</td>\n",
       "    </tr>\n",
       "  </tbody>\n",
       "</table>\n",
       "</div>"
      ],
      "text/plain": [
       "   weight  height  BMI_index              BMI Status\n",
       "0      56    1.53  23.922423  Healthy Weight(Normal)\n",
       "1      89    1.75  29.061224             Over Weight\n",
       "2      67    1.65  24.609734  Healthy Weight(Normal)\n",
       "3      45    1.67  16.135394            Under Weight\n",
       "4      70    1.56  28.763971             Over Weight\n",
       "5      78    1.65  28.650138             Over Weight\n",
       "6      56    1.75  18.285714            Under Weight\n",
       "7      67    1.80  20.679012  Healthy Weight(Normal)\n",
       "8      78    1.90  21.606648  Healthy Weight(Normal)"
      ]
     },
     "execution_count": 11,
     "metadata": {},
     "output_type": "execute_result"
    },
    {
     "data": {
      "image/png": "[encoded data removed]",
      "text/plain": [
       "<Figure size 432x288 with 1 Axes>"
      ]
     },
     "metadata": {
      "needs_background": "light"
     },
     "output_type": "display_data"
    }
   ],
   "source": [
    "BMI_df(df)"
   ]
  },
  {
   "cell_type": "code",
   "execution_count": 12,
   "id": "44914c83",
   "metadata": {},
   "outputs": [],
   "source": [
    "import math\n",
    "def quadratic(a,b,c):\n",
    "    dis =(b*b) - (4*a*c)\n",
    "    d = math.sqrt((abs(dis)))\n",
    "   \n",
    "    if dis> 0:\n",
    "        print('The discriminant value is:',dis,'and it is')\n",
    "        print('Real and Different')\n",
    "        print(\"First root:\",(-b+d)/(2*a))\n",
    "        print('Second root:',(-b-d)/(2*a))\n",
    "    elif dis == 0:\n",
    "        print(\"Real and Same Roots\")\n",
    "        print(\"Root:\",-b/(2*a))\n",
    "    else:\n",
    "        print('The discriminant value is:',dis,'and it is')\n",
    "        print('Complex Roots')\n",
    "        print('First Root:',-b/(2*a),\"+i\",d)\n",
    "        print('Second Root:',-b/(2*a),\"-i\",d)\n",
    "def solveQuad():\n",
    "    a=float(input('Enter a coefficient of x^2:'))\n",
    "    b=float(input('Enter b coefficient of x:'))\n",
    "    c=float(input('Enter C constant:'))\n",
    "    if a==0:\n",
    "        print(\"Input Correct Quadratic Equation\")\n",
    "    else:\n",
    "        quadratic(a,b,c)"
   ]
  },
  {
   "cell_type": "code",
   "execution_count": 13,
   "id": "60191073",
   "metadata": {},
   "outputs": [
    {
     "name": "stdout",
     "output_type": "stream",
     "text": [
      "Enter a coefficient of x^2:1\n",
      "Enter b coefficient of x:-6\n",
      "Enter C constant:5\n",
      "The discriminant value is: 16.0 and it is\n",
      "Real and Different\n",
      "First root: 5.0\n",
      "Second root: 1.0\n"
     ]
    }
   ],
   "source": [
    "k=solveQuad()\n",
    "k"
   ]
  }
 ],
 "metadata": {
  "kernelspec": {
   "display_name": "Python 3 (ipykernel)",
   "language": "python",
   "name": "python3"
  },
  "language_info": {
   "codemirror_mode": {
    "name": "ipython",
    "version": 3
   },
   "file_extension": ".py",
   "mimetype": "text/x-python",
   "name": "python",
   "nbconvert_exporter": "python",
   "pygments_lexer": "ipython3",
   "version": "3.9.12"
  }
 },
 "nbformat": 4,
 "nbformat_minor": 5
}
