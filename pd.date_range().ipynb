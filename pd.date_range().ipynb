{
 "cells": [
  {
   "cell_type": "code",
   "execution_count": 3,
   "id": "e2f51019",
   "metadata": {},
   "outputs": [
    {
     "data": {
      "text/plain": [
       "DatetimeIndex(['2018-01-01 00:00:00', '2018-01-01 05:00:00',\n",
       "               '2018-01-01 10:00:00', '2018-01-01 15:00:00',\n",
       "               '2018-01-01 20:00:00', '2018-01-02 01:00:00',\n",
       "               '2018-01-02 06:00:00', '2018-01-02 11:00:00',\n",
       "               '2018-01-02 16:00:00', '2018-01-02 21:00:00',\n",
       "               '2018-01-03 02:00:00', '2018-01-03 07:00:00',\n",
       "               '2018-01-03 12:00:00', '2018-01-03 17:00:00',\n",
       "               '2018-01-03 22:00:00', '2018-01-04 03:00:00',\n",
       "               '2018-01-04 08:00:00', '2018-01-04 13:00:00',\n",
       "               '2018-01-04 18:00:00', '2018-01-04 23:00:00'],\n",
       "              dtype='datetime64[ns]', freq='5H')"
      ]
     },
     "execution_count": 3,
     "metadata": {},
     "output_type": "execute_result"
    }
   ],
   "source": [
    "import pandas as pd\n",
    "per1 = pd.date_range(start ='1-1-2018', \n",
    "         end ='1-05-2018', freq ='5H')\n",
    "per1"
   ]
  },
  {
   "cell_type": "code",
   "execution_count": 4,
   "id": "61fe5aa2",
   "metadata": {},
   "outputs": [
    {
     "data": {
      "text/plain": [
       "DatetimeIndex(['2018-01-01', '2018-01-02', '2018-01-03', '2018-01-04',\n",
       "               '2018-01-05'],\n",
       "              dtype='datetime64[ns]', freq='D')"
      ]
     },
     "execution_count": 4,
     "metadata": {},
     "output_type": "execute_result"
    }
   ],
   "source": [
    "datarange = pd.date_range(start ='1-1-2018', \n",
    "         end ='1-05-2018')\n",
    "datarange"
   ]
  },
  {
   "cell_type": "code",
   "execution_count": 6,
   "id": "f9cdf3b2",
   "metadata": {},
   "outputs": [
    {
     "data": {
      "text/plain": [
       "pandas.core.indexes.datetimes.DatetimeIndex"
      ]
     },
     "execution_count": 6,
     "metadata": {},
     "output_type": "execute_result"
    }
   ],
   "source": [
    "type(datarange)"
   ]
  },
  {
   "cell_type": "code",
   "execution_count": 11,
   "id": "fc80efca",
   "metadata": {},
   "outputs": [
    {
     "data": {
      "text/plain": [
       "DatetimeIndex(['2018-01-31', '2018-02-28', '2018-03-31', '2018-04-30',\n",
       "               '2018-05-31', '2018-06-30', '2018-07-31', '2018-08-31',\n",
       "               '2018-09-30', '2018-10-31', '2018-11-30', '2018-12-31'],\n",
       "              dtype='datetime64[ns]', freq='M')"
      ]
     },
     "execution_count": 11,
     "metadata": {},
     "output_type": "execute_result"
    }
   ],
   "source": [
    "dat1 = pd.date_range(start ='1-1-2018', \n",
    "         end ='1-05-2019',freq=\"M\")\n",
    "dat1"
   ]
  },
  {
   "cell_type": "code",
   "execution_count": 13,
   "id": "4419d60f",
   "metadata": {},
   "outputs": [
    {
     "data": {
      "text/plain": [
       "DatetimeIndex(['2018-01-31', '2018-03-31', '2018-05-31', '2018-07-31',\n",
       "               '2018-09-30', '2018-11-30'],\n",
       "              dtype='datetime64[ns]', freq='2M')"
      ]
     },
     "execution_count": 13,
     "metadata": {},
     "output_type": "execute_result"
    }
   ],
   "source": [
    "pd.date_range(start='1-1-2018',end='1-05-2019',freq=\"2m\")"
   ]
  },
  {
   "cell_type": "code",
   "execution_count": 17,
   "id": "92ccf12b",
   "metadata": {},
   "outputs": [
    {
     "data": {
      "text/plain": [
       "DatetimeIndex(['2018-01-31', '2018-03-31', '2018-05-31', '2018-07-31',\n",
       "               '2018-09-30', '2018-11-30'],\n",
       "              dtype='datetime64[ns]', freq='2M')"
      ]
     },
     "execution_count": 17,
     "metadata": {},
     "output_type": "execute_result"
    }
   ],
   "source": [
    "pd.date_range(start ='1-1-2018',periods=6,freq=\"2M\")"
   ]
  },
  {
   "cell_type": "code",
   "execution_count": 21,
   "id": "c9e2f223",
   "metadata": {},
   "outputs": [
    {
     "data": {
      "text/plain": [
       "DatetimeIndex(['2018-01-01 00:00:00+09:00', '2018-01-02 00:00:00+09:00',\n",
       "               '2018-01-03 00:00:00+09:00', '2018-01-04 00:00:00+09:00',\n",
       "               '2018-01-05 00:00:00+09:00', '2018-01-06 00:00:00+09:00'],\n",
       "              dtype='datetime64[ns, Asia/Tokyo]', freq='D')"
      ]
     },
     "execution_count": 21,
     "metadata": {},
     "output_type": "execute_result"
    }
   ],
   "source": [
    "pd.date_range(start ='1-1-2018',periods=6,tz=\"Asia/Tokyo\")"
   ]
  },
  {
   "cell_type": "code",
   "execution_count": 22,
   "id": "37b764da",
   "metadata": {},
   "outputs": [
    {
     "data": {
      "text/plain": [
       "DatetimeIndex(['2018-01-01 00:00:00', '2018-01-01 00:00:01',\n",
       "               '2018-01-01 00:00:02', '2018-01-01 00:00:03',\n",
       "               '2018-01-01 00:00:04', '2018-01-01 00:00:05'],\n",
       "              dtype='datetime64[ns]', freq='S')"
      ]
     },
     "execution_count": 22,
     "metadata": {},
     "output_type": "execute_result"
    }
   ],
   "source": [
    "pd.date_range(start ='1-1-2018',periods=6,freq=\"S\")"
   ]
  },
  {
   "cell_type": "code",
   "execution_count": null,
   "id": "ae6b7ab8",
   "metadata": {},
   "outputs": [],
   "source": []
  },
  {
   "cell_type": "code",
   "execution_count": 24,
   "id": "f548f070",
   "metadata": {},
   "outputs": [
    {
     "data": {
      "text/plain": [
       "PeriodIndex(['2018-01', '2018-02', '2018-03', '2018-04', '2018-05', '2018-06'], dtype='period[M]')"
      ]
     },
     "execution_count": 24,
     "metadata": {},
     "output_type": "execute_result"
    }
   ],
   "source": [
    "pd.period_range(start ='1-1-2018',periods=6,freq='M')"
   ]
  },
  {
   "cell_type": "code",
   "execution_count": 26,
   "id": "a393a7ad",
   "metadata": {},
   "outputs": [
    {
     "data": {
      "text/plain": [
       "PeriodIndex(['2018', '2019', '2020', '2021', '2022', '2023'], dtype='period[A-DEC]')"
      ]
     },
     "execution_count": 26,
     "metadata": {},
     "output_type": "execute_result"
    }
   ],
   "source": [
    "pd.period_range(start ='1-1-2018',periods=6,freq='Y')"
   ]
  },
  {
   "cell_type": "code",
   "execution_count": 34,
   "id": "50aa39e9",
   "metadata": {},
   "outputs": [
    {
     "data": {
      "text/plain": [
       "PeriodIndex(['2022Q1', '2022Q2'], dtype='period[Q-DEC]')"
      ]
     },
     "execution_count": 34,
     "metadata": {},
     "output_type": "execute_result"
    }
   ],
   "source": [
    "pd.period_range(start=pd.Period(\"2022Q1\",freq=\"Q\"),\n",
    "                end=pd.Period(\"2022Q2\",freq=\"Q\"),\n",
    "                freq=\"Q\")"
   ]
  },
  {
   "cell_type": "code",
   "execution_count": 41,
   "id": "fe19e6a9",
   "metadata": {},
   "outputs": [
    {
     "data": {
      "text/plain": [
       "PeriodIndex(['2022-01', '2022-02', '2022-03', '2022-04', '2022-05', '2022-06',\n",
       "             '2022-07', '2022-08', '2022-09', '2022-10'],\n",
       "            dtype='period[M]')"
      ]
     },
     "execution_count": 41,
     "metadata": {},
     "output_type": "execute_result"
    }
   ],
   "source": [
    "pd.period_range(start=pd.Period(\"2022Q1\",freq=\"M\"),\n",
    "                end=pd.Period(\"2022Q4\",freq=\"M\"),\n",
    "                freq=\"M\")"
   ]
  },
  {
   "cell_type": "code",
   "execution_count": 42,
   "id": "86dce4f7",
   "metadata": {},
   "outputs": [
    {
     "data": {
      "text/plain": [
       "PeriodIndex(['2022-01', '2022-02', '2022-03', '2022-04', '2022-05', '2022-06',\n",
       "             '2022-07', '2022-08', '2022-09', '2022-10'],\n",
       "            dtype='period[M]')"
      ]
     },
     "execution_count": 42,
     "metadata": {},
     "output_type": "execute_result"
    }
   ],
   "source": [
    "pd.period_range(start=\"2022Q1\",end=\"2022Q4\",\n",
    "                freq=\"M\")"
   ]
  },
  {
   "cell_type": "code",
   "execution_count": 52,
   "id": "35e62d7e",
   "metadata": {},
   "outputs": [
    {
     "data": {
      "text/plain": [
       "PeriodIndex(['2020-12-28/2021-01-03', '2021-01-04/2021-01-10',\n",
       "             '2021-01-11/2021-01-17', '2021-01-18/2021-01-24',\n",
       "             '2021-01-25/2021-01-31', '2021-02-01/2021-02-07',\n",
       "             '2021-02-08/2021-02-14', '2021-02-15/2021-02-21',\n",
       "             '2021-02-22/2021-02-28', '2021-03-01/2021-03-07',\n",
       "             ...\n",
       "             '2022-10-24/2022-10-30', '2022-10-31/2022-11-06',\n",
       "             '2022-11-07/2022-11-13', '2022-11-14/2022-11-20',\n",
       "             '2022-11-21/2022-11-27', '2022-11-28/2022-12-04',\n",
       "             '2022-12-05/2022-12-11', '2022-12-12/2022-12-18',\n",
       "             '2022-12-19/2022-12-25', '2022-12-26/2023-01-01'],\n",
       "            dtype='period[W-SUN]', name='WeeklyBasis', length=105)"
      ]
     },
     "execution_count": 52,
     "metadata": {},
     "output_type": "execute_result"
    }
   ],
   "source": [
    "seven_days =pd.period_range(start=\"01-01-2021\",end=\"12-31-2022\",freq=\"W\",\n",
    "                name=\"WeeklyBasis\")\n",
    "seven_days"
   ]
  },
  {
   "cell_type": "code",
   "execution_count": 66,
   "id": "c7046eae",
   "metadata": {},
   "outputs": [
    {
     "name": "stdout",
     "output_type": "stream",
     "text": [
      "6 Sunday\n",
      "6 Sunday\n",
      "2 Wednesday\n",
      "4 Friday\n",
      "0 Monday\n",
      "2 Wednesday\n",
      "5 Saturday\n",
      "1 Tuesday\n",
      "3 Thursday\n",
      "6 Sunday\n",
      "1 Tuesday\n",
      "4 Friday\n"
     ]
    }
   ],
   "source": [
    "seven_days = pd.date_range(start = \"01-01-2021\",periods=12,freq=\"M\")\n",
    "for day in seven_days:\n",
    "    print(day.dayofweek,day.day_name())"
   ]
  },
  {
   "cell_type": "code",
   "execution_count": 67,
   "id": "752c1378",
   "metadata": {},
   "outputs": [
    {
     "name": "stdout",
     "output_type": "stream",
     "text": [
      "1 31 January\n",
      "2 28 February\n",
      "3 31 March\n",
      "4 30 April\n",
      "5 31 May\n",
      "6 30 June\n",
      "7 31 July\n",
      "8 31 August\n",
      "9 30 September\n",
      "10 31 October\n",
      "11 30 November\n",
      "12 31 December\n"
     ]
    }
   ],
   "source": [
    "m = pd.date_range(start = \"01-01-2021\",periods=12,freq=\"M\")\n",
    "for mnth in m:\n",
    "    print(mnth.month,mnth.days_in_month,mnth.month_name())"
   ]
  },
  {
   "cell_type": "code",
   "execution_count": 72,
   "id": "9b2bd568",
   "metadata": {},
   "outputs": [
    {
     "name": "stderr",
     "output_type": "stream",
     "text": [
      "D:\\Stats_software\\Anaconda\\lib\\site-packages\\IPython\\core\\interactiveshell.py:3369: UserWarning: Parsing '31-12-2022' in DD/MM/YYYY format. Provide format or specify infer_datetime_format=True for consistent parsing.\n",
      "  exec(code_obj, self.user_global_ns, self.user_ns)\n"
     ]
    },
    {
     "data": {
      "text/plain": [
       "DatetimeIndex(['2022-01-03', '2022-01-04', '2022-01-05', '2022-01-06',\n",
       "               '2022-01-07', '2022-01-10', '2022-01-11', '2022-01-12',\n",
       "               '2022-01-13', '2022-01-14',\n",
       "               ...\n",
       "               '2022-12-19', '2022-12-20', '2022-12-21', '2022-12-22',\n",
       "               '2022-12-23', '2022-12-26', '2022-12-27', '2022-12-28',\n",
       "               '2022-12-29', '2022-12-30'],\n",
       "              dtype='datetime64[ns]', length=260, freq='B')"
      ]
     },
     "execution_count": 72,
     "metadata": {},
     "output_type": "execute_result"
    }
   ],
   "source": [
    " pd.date_range(start = \"01-01-2022\",end=\"31-12-2022\",freq=\"B\")"
   ]
  },
  {
   "cell_type": "code",
   "execution_count": 73,
   "id": "76dadb3b",
   "metadata": {},
   "outputs": [
    {
     "data": {
      "text/plain": [
       "DatetimeIndex(['2022-01-24', '2022-02-28', '2022-03-28', '2022-04-25',\n",
       "               '2022-05-23', '2022-06-27', '2022-07-25', '2022-08-22',\n",
       "               '2022-09-26', '2022-10-24', '2022-11-28', '2022-12-26'],\n",
       "              dtype='datetime64[ns]', freq='WOM-4MON')"
      ]
     },
     "execution_count": 73,
     "metadata": {},
     "output_type": "execute_result"
    }
   ],
   "source": [
    " pd.date_range(start = \"01-01-2022\",end=\"31-12-2022\",freq=\"WOM-4MON\")"
   ]
  },
  {
   "cell_type": "code",
   "execution_count": 74,
   "id": "c4aca373",
   "metadata": {},
   "outputs": [
    {
     "data": {
      "text/plain": [
       "DatetimeIndex(['2022-01-01 00:00:00', '2022-01-01 02:20:00',\n",
       "               '2022-01-01 04:40:00', '2022-01-01 07:00:00',\n",
       "               '2022-01-01 09:20:00', '2022-01-01 11:40:00',\n",
       "               '2022-01-01 14:00:00', '2022-01-01 16:20:00',\n",
       "               '2022-01-01 18:40:00', '2022-01-01 21:00:00'],\n",
       "              dtype='datetime64[ns]', freq='140T')"
      ]
     },
     "execution_count": 74,
     "metadata": {},
     "output_type": "execute_result"
    }
   ],
   "source": [
    " pd.date_range(start = \"01-01-2022\",periods=10,freq=\"2h20min\")"
   ]
  },
  {
   "cell_type": "code",
   "execution_count": 75,
   "id": "43a31278",
   "metadata": {},
   "outputs": [],
   "source": [
    "import datetime"
   ]
  },
  {
   "cell_type": "code",
   "execution_count": null,
   "id": "1c621790",
   "metadata": {},
   "outputs": [],
   "source": []
  },
  {
   "cell_type": "code",
   "execution_count": null,
   "id": "9cbaa120",
   "metadata": {},
   "outputs": [],
   "source": []
  }
 ],
 "metadata": {
  "kernelspec": {
   "display_name": "Python 3 (ipykernel)",
   "language": "python",
   "name": "python3"
  },
  "language_info": {
   "codemirror_mode": {
    "name": "ipython",
    "version": 3
   },
   "file_extension": ".py",
   "mimetype": "text/x-python",
   "name": "python",
   "nbconvert_exporter": "python",
   "pygments_lexer": "ipython3",
   "version": "3.9.12"
  }
 },
 "nbformat": 4,
 "nbformat_minor": 5
}
