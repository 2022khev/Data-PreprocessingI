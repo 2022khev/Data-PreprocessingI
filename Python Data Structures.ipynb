{
 "cells": [
  {
   "cell_type": "code",
   "execution_count": 1,
   "id": "638199a9",
   "metadata": {},
   "outputs": [],
   "source": [
    "# Data Structures are a way of organizing data so that it can be accessed more efficiently \n",
    "# depending upon the situation. Data Structures are fundamentals of any programming language \n",
    "# around which a program is built. Python helps to learn the fundamental of these data structures\n",
    "# in a simpler way as compared to other programming languages."
   ]
  },
  {
   "cell_type": "code",
   "execution_count": 2,
   "id": "528a9891",
   "metadata": {},
   "outputs": [],
   "source": [
    "# List\n",
    "# list is heterogemeous data types in them\n",
    "#List are mutable\n",
    "# Python Lists are just like the arrays, declared in other languages which is an ordered collection\n",
    "# of data. It is very flexible as the items in a list do not need to be of the same type."
   ]
  },
  {
   "cell_type": "code",
   "execution_count": 3,
   "id": "d55e4edc",
   "metadata": {},
   "outputs": [
    {
     "name": "stdout",
     "output_type": "stream",
     "text": [
      "[1, 2, 3, 'GFG', 2.3]\n"
     ]
    }
   ],
   "source": [
    "List = [1, 2,  3, \"GFG\", 2.3]\n",
    "print(List)"
   ]
  },
  {
   "cell_type": "code",
   "execution_count": 4,
   "id": "45f9884d",
   "metadata": {},
   "outputs": [],
   "source": [
    "# List elements can be accessed by the assigned index. In python starting index of the list, \n",
    "# sequence is 0 and the ending index is (if N elements are there) N-1.\n",
    "# list.append()\n",
    "# list.extend()\n",
    "# list.insert()\n",
    "#del\n",
    "#pop\n",
    "#rem"
   ]
  },
  {
   "cell_type": "code",
   "execution_count": 5,
   "id": "9ad3ba2f",
   "metadata": {},
   "outputs": [
    {
     "data": {
      "text/plain": [
       "[1, 2, 3, 'GFG', 2.3, 2]"
      ]
     },
     "execution_count": 5,
     "metadata": {},
     "output_type": "execute_result"
    }
   ],
   "source": [
    "List.append(2)\n",
    "List"
   ]
  },
  {
   "cell_type": "code",
   "execution_count": 6,
   "id": "a57a2632",
   "metadata": {},
   "outputs": [
    {
     "data": {
      "text/plain": [
       "[1, 2, 3, 'GFG', 2.3, 2, 8]"
      ]
     },
     "execution_count": 6,
     "metadata": {},
     "output_type": "execute_result"
    }
   ],
   "source": [
    "List.insert(8,8)\n",
    "List"
   ]
  },
  {
   "cell_type": "code",
   "execution_count": 1,
   "id": "18581314",
   "metadata": {},
   "outputs": [
    {
     "ename": "NameError",
     "evalue": "name 'List' is not defined",
     "output_type": "error",
     "traceback": [
      "\u001b[1;31m---------------------------------------------------------------------------\u001b[0m",
      "\u001b[1;31mNameError\u001b[0m                                 Traceback (most recent call last)",
      "Cell \u001b[1;32mIn[1], line 1\u001b[0m\n\u001b[1;32m----> 1\u001b[0m \u001b[43mList\u001b[49m\u001b[38;5;241m.\u001b[39mextend(\u001b[38;5;241m2\u001b[39m,\u001b[38;5;241m0\u001b[39m)\n",
      "\u001b[1;31mNameError\u001b[0m: name 'List' is not defined"
     ]
    }
   ],
   "source": []
  },
  {
   "cell_type": "code",
   "execution_count": 7,
   "id": "8a02cb64",
   "metadata": {},
   "outputs": [
    {
     "name": "stdout",
     "output_type": "stream",
     "text": [
      "[2, 3, 'GFG', 2.3, 2, 8]\n"
     ]
    }
   ],
   "source": [
    "del List[0]\n",
    "print(List)"
   ]
  },
  {
   "cell_type": "code",
   "execution_count": 8,
   "id": "4535bd86",
   "metadata": {},
   "outputs": [
    {
     "data": {
      "text/plain": [
       "[3, 'GFG', 2.3, 2, 8]"
      ]
     },
     "execution_count": 8,
     "metadata": {},
     "output_type": "execute_result"
    }
   ],
   "source": [
    "List.remove(2)\n",
    "List"
   ]
  },
  {
   "cell_type": "code",
   "execution_count": 9,
   "id": "e2fc26b8",
   "metadata": {},
   "outputs": [
    {
     "data": {
      "text/plain": [
       "[2.3, 2]"
      ]
     },
     "execution_count": 9,
     "metadata": {},
     "output_type": "execute_result"
    }
   ],
   "source": [
    "List[2:4]"
   ]
  },
  {
   "cell_type": "code",
   "execution_count": 10,
   "id": "12cd842a",
   "metadata": {},
   "outputs": [
    {
     "data": {
      "text/plain": [
       "[3, 2.3, 8]"
      ]
     },
     "execution_count": 10,
     "metadata": {},
     "output_type": "execute_result"
    }
   ],
   "source": [
    "List[::2]"
   ]
  },
  {
   "cell_type": "code",
   "execution_count": 11,
   "id": "ed449eb8",
   "metadata": {},
   "outputs": [
    {
     "data": {
      "text/plain": [
       "[2.3]"
      ]
     },
     "execution_count": 11,
     "metadata": {},
     "output_type": "execute_result"
    }
   ],
   "source": [
    "List[2:4:6]"
   ]
  },
  {
   "cell_type": "code",
   "execution_count": 12,
   "id": "a0efb33b",
   "metadata": {},
   "outputs": [],
   "source": [
    "list1 = [24,35,76,798,89,345,76]"
   ]
  },
  {
   "cell_type": "code",
   "execution_count": 13,
   "id": "da794e2d",
   "metadata": {},
   "outputs": [
    {
     "name": "stdout",
     "output_type": "stream",
     "text": [
      "[24, 35, 76, 76, 89, 345, 798]\n"
     ]
    }
   ],
   "source": [
    "print(sorted(list1))\n",
    "list1.sort(reverse=True)"
   ]
  },
  {
   "cell_type": "code",
   "execution_count": 14,
   "id": "933ab117",
   "metadata": {},
   "outputs": [
    {
     "name": "stdout",
     "output_type": "stream",
     "text": [
      "[24, 35, 76, 76, 89, 345, 798]\n"
     ]
    }
   ],
   "source": [
    "print(sorted(list1))\n",
    "list1.sort(reverse=False)"
   ]
  },
  {
   "cell_type": "code",
   "execution_count": 15,
   "id": "fb3382e4",
   "metadata": {},
   "outputs": [
    {
     "data": {
      "text/plain": [
       "5"
      ]
     },
     "execution_count": 15,
     "metadata": {},
     "output_type": "execute_result"
    }
   ],
   "source": [
    "list1.index(345)"
   ]
  },
  {
   "cell_type": "code",
   "execution_count": 16,
   "id": "0c4e3d15",
   "metadata": {},
   "outputs": [
    {
     "data": {
      "text/plain": [
       "2"
      ]
     },
     "execution_count": 16,
     "metadata": {},
     "output_type": "execute_result"
    }
   ],
   "source": [
    "list1.count(76)"
   ]
  },
  {
   "cell_type": "code",
   "execution_count": 17,
   "id": "ae6b13bb",
   "metadata": {},
   "outputs": [
    {
     "data": {
      "text/plain": [
       "3"
      ]
     },
     "execution_count": 17,
     "metadata": {},
     "output_type": "execute_result"
    }
   ],
   "source": [
    "List[0]"
   ]
  },
  {
   "cell_type": "code",
   "execution_count": 18,
   "id": "b59a3280",
   "metadata": {},
   "outputs": [
    {
     "data": {
      "text/plain": [
       "8"
      ]
     },
     "execution_count": 18,
     "metadata": {},
     "output_type": "execute_result"
    }
   ],
   "source": [
    "List[-1]"
   ]
  },
  {
   "cell_type": "code",
   "execution_count": 19,
   "id": "558bf70d",
   "metadata": {},
   "outputs": [],
   "source": [
    "#Dictionary\n",
    "# Python dictionary is like hash tables in any other language with the time complexity of O(1). It is an unordered collection of data values, used to store data values like a map, which, unlike other Data Types that hold only a single value as an element, Dictionary holds the key:value pair. Key-value is provided in the dictionary to make it more optimized. \n",
    "# Indexing of Python Dictionary is done with the help of keys. These are of any hashable type i.e. \n",
    "# an object whose can never change like strings, numbers, tuples, etc. We can create a dictionary \n",
    "# by using curly braces ({}) or dictionary comprehension.\n",
    "\n",
    "#Hold keys,value \n",
    "#It is mutable"
   ]
  },
  {
   "cell_type": "code",
   "execution_count": 20,
   "id": "500c4f67",
   "metadata": {},
   "outputs": [
    {
     "name": "stdout",
     "output_type": "stream",
     "text": [
      "{'Name': 'Geeks', 1: [1, 2, 3, 4]}\n"
     ]
    }
   ],
   "source": [
    "Dict = {'Name': 'Geeks', 1: [1, 2, 3, 4]}\n",
    "print(Dict)"
   ]
  },
  {
   "cell_type": "code",
   "execution_count": 21,
   "id": "48f24748",
   "metadata": {},
   "outputs": [],
   "source": [
    "Dict[1]='School'"
   ]
  },
  {
   "cell_type": "code",
   "execution_count": 22,
   "id": "9619aad5",
   "metadata": {},
   "outputs": [
    {
     "data": {
      "text/plain": [
       "{'Name': 'Geeks', 1: 'School', 5: 'people'}"
      ]
     },
     "execution_count": 22,
     "metadata": {},
     "output_type": "execute_result"
    }
   ],
   "source": [
    "Dict[5]='people'\n",
    "Dict"
   ]
  },
  {
   "cell_type": "code",
   "execution_count": 23,
   "id": "5844809a",
   "metadata": {
    "scrolled": true
   },
   "outputs": [
    {
     "data": {
      "text/plain": [
       "{'Name': 'Geeks', 5: 'people'}"
      ]
     },
     "execution_count": 23,
     "metadata": {},
     "output_type": "execute_result"
    }
   ],
   "source": [
    "del Dict[1]\n",
    "Dict"
   ]
  },
  {
   "cell_type": "code",
   "execution_count": 24,
   "id": "c7208633",
   "metadata": {
    "scrolled": true
   },
   "outputs": [
    {
     "name": "stdout",
     "output_type": "stream",
     "text": [
      "(5, 'people')\n"
     ]
    }
   ],
   "source": [
    "print(Dict.popitem())"
   ]
  },
  {
   "cell_type": "code",
   "execution_count": null,
   "id": "e6737174",
   "metadata": {},
   "outputs": [],
   "source": []
  },
  {
   "cell_type": "code",
   "execution_count": 26,
   "id": "77c87fdc",
   "metadata": {},
   "outputs": [
    {
     "name": "stdout",
     "output_type": "stream",
     "text": [
      "None\n"
     ]
    }
   ],
   "source": [
    "print(Dict.get(1))"
   ]
  },
  {
   "cell_type": "code",
   "execution_count": 27,
   "id": "fc5b391d",
   "metadata": {},
   "outputs": [
    {
     "data": {
      "text/plain": [
       "'Geeks'"
      ]
     },
     "execution_count": 27,
     "metadata": {},
     "output_type": "execute_result"
    }
   ],
   "source": [
    "Dict['Name']"
   ]
  },
  {
   "cell_type": "code",
   "execution_count": 28,
   "id": "c70efc3e",
   "metadata": {},
   "outputs": [
    {
     "data": {
      "text/plain": [
       "'Geeks'"
      ]
     },
     "execution_count": 28,
     "metadata": {},
     "output_type": "execute_result"
    }
   ],
   "source": [
    "Dict.get('Name')"
   ]
  },
  {
   "cell_type": "code",
   "execution_count": 29,
   "id": "5902255a",
   "metadata": {},
   "outputs": [
    {
     "data": {
      "text/plain": [
       "dict_keys(['Name'])"
      ]
     },
     "execution_count": 29,
     "metadata": {},
     "output_type": "execute_result"
    }
   ],
   "source": [
    "Dict.keys()"
   ]
  },
  {
   "cell_type": "code",
   "execution_count": 30,
   "id": "53b132aa",
   "metadata": {},
   "outputs": [
    {
     "data": {
      "text/plain": [
       "dict_values(['Geeks'])"
      ]
     },
     "execution_count": 30,
     "metadata": {},
     "output_type": "execute_result"
    }
   ],
   "source": [
    "Dict.values()"
   ]
  },
  {
   "cell_type": "code",
   "execution_count": 31,
   "id": "cac99ac5",
   "metadata": {},
   "outputs": [
    {
     "data": {
      "text/plain": [
       "dict_items([('Name', 'Geeks')])"
      ]
     },
     "execution_count": 31,
     "metadata": {},
     "output_type": "execute_result"
    }
   ],
   "source": [
    "Dict.items()"
   ]
  },
  {
   "cell_type": "code",
   "execution_count": 32,
   "id": "dcd0a9e7",
   "metadata": {},
   "outputs": [],
   "source": [
    "if \"Geeks\" in Dict:\n",
    "    print(\"Yes, 'model' is one of the keys in the thisdict dictionary\")"
   ]
  },
  {
   "cell_type": "code",
   "execution_count": 33,
   "id": "500f38c5",
   "metadata": {},
   "outputs": [
    {
     "name": "stdout",
     "output_type": "stream",
     "text": [
      "Yes, 'model' is one of the keys in the thisdict dictionary\n"
     ]
    }
   ],
   "source": [
    "thisdict = {\n",
    "  \"brand\": \"Ford\",\n",
    "  \"model\": \"Mustang\",\n",
    "  \"year\": 1964\n",
    "}\n",
    "if \"model\" in thisdict:\n",
    "  print(\"Yes, 'model' is one of the keys in the thisdict dictionary\")"
   ]
  },
  {
   "cell_type": "code",
   "execution_count": 34,
   "id": "389d6e16",
   "metadata": {},
   "outputs": [],
   "source": [
    "#Tuple\n",
    "# Python Tuple is a collection of Python objects much like a list but Tuples are immutable in \n",
    "# nature i.e. the elements in the tuple cannot be added or removed once created. Just like a List,\n",
    "# a Tuple can also contain elements of various types.In Python, tuples are created by placing a \n",
    "# sequence of values separated by ‘comma’ with or without the use of parentheses for grouping of \n",
    "# the data sequence.Note: Tuples can also be created with a single element, but it is a bit tricky.\n",
    "# Having one element in the parentheses is not sufficient, there must be a trailing ‘comma’ to make\n",
    "# it a tuple.\n",
    "#same as list but not mutable\n",
    "# Faster than the list"
   ]
  },
  {
   "cell_type": "code",
   "execution_count": 35,
   "id": "c56480d5",
   "metadata": {},
   "outputs": [
    {
     "name": "stdout",
     "output_type": "stream",
     "text": [
      "\n",
      "Tuple with the use of String: \n",
      "('Geeks', 'For')\n",
      "\n",
      "Tuple using List: \n",
      "First element of tuple\n",
      "1\n",
      "\n",
      "Last element of tuple\n",
      "6\n",
      "\n",
      "Third last element of tuple\n",
      "4\n"
     ]
    }
   ],
   "source": [
    "# Creating a Tuple with\n",
    "# the use of Strings\n",
    "Tuple = ('Geeks', 'For')\n",
    "print(\"\\nTuple with the use of String: \")\n",
    "print(Tuple)\n",
    "     \n",
    "# Creating a Tuple with\n",
    "# the use of list\n",
    "list1 = [1, 2, 4, 5, 6]\n",
    "print(\"\\nTuple using List: \")\n",
    "Tuple = tuple(list1)\n",
    " \n",
    "# Accessing element using indexing\n",
    "print(\"First element of tuple\")\n",
    "print(Tuple[0])\n",
    " \n",
    "# Accessing element from last\n",
    "# negative indexing\n",
    "print(\"\\nLast element of tuple\")\n",
    "print(Tuple[-1])\n",
    "   \n",
    "print(\"\\nThird last element of tuple\")\n",
    "print(Tuple[-3])"
   ]
  },
  {
   "cell_type": "code",
   "execution_count": 36,
   "id": "a44815fb",
   "metadata": {},
   "outputs": [],
   "source": [
    "#Set\n",
    "# Python Set is an unordered collection of data that is mutable and does not allow any duplicate \n",
    "# element. Sets are basically used to include membership testing and eliminating duplicate entries. The data structure used in this is Hashing, a popular technique to perform insertion, deletion, \n",
    "# and traversal in O(1) on average. If Multiple values are present at the same index position,then \n",
    "# the value is appended to that index position, to form a Linked List. In, CPython Sets are \n",
    "# implemented using a dictionary with dummy variables, where key beings the members set with greater\n",
    "# optimizations to the time complexity.\n",
    "\n",
    "#Unordered collection of unique item\n",
    "#It is mutable it is represented by the curly braces"
   ]
  },
  {
   "cell_type": "code",
   "execution_count": 37,
   "id": "857df2e1",
   "metadata": {},
   "outputs": [
    {
     "data": {
      "text/plain": [
       "{1, 2, 3, 4, 5, 6}"
      ]
     },
     "execution_count": 37,
     "metadata": {},
     "output_type": "execute_result"
    }
   ],
   "source": [
    "set1={1,2,3,4,5,6}\n",
    "set1"
   ]
  },
  {
   "cell_type": "code",
   "execution_count": 38,
   "id": "699436f5",
   "metadata": {},
   "outputs": [
    {
     "name": "stdout",
     "output_type": "stream",
     "text": [
      "{1, 2, 3, 4, 5, 6, 67}\n"
     ]
    }
   ],
   "source": [
    "set1.add(67)\n",
    "print(set1)"
   ]
  },
  {
   "cell_type": "code",
   "execution_count": 39,
   "id": "2ef45f62",
   "metadata": {},
   "outputs": [
    {
     "data": {
      "text/plain": [
       "{3, 4, 5, 6}"
      ]
     },
     "execution_count": 39,
     "metadata": {},
     "output_type": "execute_result"
    }
   ],
   "source": [
    "#union\n",
    "#intersection\n",
    "#difference\n",
    "#symmetric \n",
    "#difference\n",
    "set2 ={3,4,5,6}\n",
    "set2"
   ]
  },
  {
   "cell_type": "code",
   "execution_count": 40,
   "id": "0aa4ddee",
   "metadata": {},
   "outputs": [
    {
     "name": "stdout",
     "output_type": "stream",
     "text": [
      "{1, 2, 3, 4, 5, 6, 67}\n"
     ]
    }
   ],
   "source": [
    "print(set2.union(set1))"
   ]
  },
  {
   "cell_type": "code",
   "execution_count": 41,
   "id": "6dbc76fb",
   "metadata": {},
   "outputs": [
    {
     "name": "stdout",
     "output_type": "stream",
     "text": [
      "{3, 4, 5, 6}\n"
     ]
    }
   ],
   "source": [
    "print(set2.intersection(set1))"
   ]
  },
  {
   "cell_type": "code",
   "execution_count": 42,
   "id": "31135636",
   "metadata": {},
   "outputs": [
    {
     "name": "stdout",
     "output_type": "stream",
     "text": [
      "set()\n"
     ]
    }
   ],
   "source": [
    "print(set2.difference(set1))"
   ]
  },
  {
   "cell_type": "code",
   "execution_count": 43,
   "id": "ab3f460b",
   "metadata": {},
   "outputs": [
    {
     "name": "stdout",
     "output_type": "stream",
     "text": [
      "{1, 2, 67}\n"
     ]
    }
   ],
   "source": [
    "print(set2.symmetric_difference(set1))"
   ]
  },
  {
   "cell_type": "code",
   "execution_count": 44,
   "id": "8a835610",
   "metadata": {},
   "outputs": [
    {
     "name": "stdout",
     "output_type": "stream",
     "text": [
      "\n",
      "Set with the use of Mixed Values\n",
      "{1, 2, 4, 'Geeks', 6, 'For'}\n",
      "\n",
      "Elements of set: \n",
      "1 2 4 Geeks 6 For \n",
      "True\n"
     ]
    }
   ],
   "source": [
    "# Creating a Set with \n",
    "# a mixed type of values\n",
    "# (Having numbers and strings)\n",
    "Set = set([1, 2, 'Geeks', 4, 'For', 6, 'Geeks'])\n",
    "print(\"\\nSet with the use of Mixed Values\")\n",
    "print(Set)\n",
    " \n",
    "# Accessing element using\n",
    "# for loop\n",
    "print(\"\\nElements of set: \")\n",
    "for i in Set:\n",
    "    print(i, end =\" \")\n",
    "print()\n",
    " \n",
    "# Checking the element\n",
    "# using in keyword\n",
    "print(\"Geeks\" in Set)"
   ]
  },
  {
   "cell_type": "code",
   "execution_count": 45,
   "id": "bf0db5cc",
   "metadata": {},
   "outputs": [],
   "source": [
    "# Frozen Sets\n",
    "# Frozen sets in Python are immutable objects that only support methods and operators that produce\n",
    "# a result without affecting the frozen set or sets to which they are applied. While elements of a \n",
    "# set can be modified at any time, elements of the frozen set remain the same after creation.\n",
    "# If no parameters are passed, it returns an empty frozenset."
   ]
  },
  {
   "cell_type": "code",
   "execution_count": null,
   "id": "5338b247",
   "metadata": {},
   "outputs": [],
   "source": []
  },
  {
   "cell_type": "code",
   "execution_count": 46,
   "id": "cefcb03e",
   "metadata": {
    "scrolled": true
   },
   "outputs": [
    {
     "name": "stdout",
     "output_type": "stream",
     "text": [
      "Normal Set\n",
      "{'b', 'a', 'c'}\n",
      "\n",
      "Frozen Set\n",
      "frozenset({'e', 'g', 'f'})\n"
     ]
    }
   ],
   "source": [
    "# Same as {\"a\", \"b\",\"c\"}\n",
    "normal_set = set([\"a\", \"b\",\"c\"])\n",
    " \n",
    "print(\"Normal Set\")\n",
    "print(normal_set)\n",
    " \n",
    "# A frozen set\n",
    "frozen_set = frozenset([\"e\", \"f\", \"g\"])\n",
    " \n",
    "print(\"\\nFrozen Set\")\n",
    "print(frozen_set)\n",
    " \n",
    "# Uncommenting below line would cause error as\n",
    "# we are trying to add element to a frozen set\n",
    "# frozen_set.add(\"h\")"
   ]
  },
  {
   "cell_type": "code",
   "execution_count": 47,
   "id": "d0e4f83c",
   "metadata": {},
   "outputs": [],
   "source": [
    "#String\n",
    "\n",
    "# Python Strings are arrays of bytes representing Unicode characters. In simpler terms,a string is\n",
    "# an immutable array of characters. Python does not have a character data type, a single character \n",
    "# is simply a string with a length of 1.\n",
    "# Note: As strings are immutable, modifying a string will result in creating a new copy."
   ]
  },
  {
   "cell_type": "code",
   "execution_count": 48,
   "id": "57ae7f71",
   "metadata": {},
   "outputs": [
    {
     "name": "stdout",
     "output_type": "stream",
     "text": [
      "Creating String: \n",
      "Welcome to GeeksForGeeks\n",
      "\n",
      "First character of String is: \n",
      "W\n",
      "\n",
      "Last character of String is: \n",
      "s\n"
     ]
    }
   ],
   "source": [
    "String = \"Welcome to GeeksForGeeks\"\n",
    "print(\"Creating String: \")\n",
    "print(String)\n",
    "     \n",
    "# Printing First character\n",
    "print(\"\\nFirst character of String is: \")\n",
    "print(String[0])\n",
    "     \n",
    "# Printing Last character\n",
    "print(\"\\nLast character of String is: \")\n",
    "print(String[-1])"
   ]
  }
 ],
 "metadata": {
  "kernelspec": {
   "display_name": "Python 3 (ipykernel)",
   "language": "python",
   "name": "python3"
  },
  "language_info": {
   "codemirror_mode": {
    "name": "ipython",
    "version": 3
   },
   "file_extension": ".py",
   "mimetype": "text/x-python",
   "name": "python",
   "nbconvert_exporter": "python",
   "pygments_lexer": "ipython3",
   "version": "3.8.16"
  }
 },
 "nbformat": 4,
 "nbformat_minor": 5
}
