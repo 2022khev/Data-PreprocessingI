{
 "cells": [
  {
   "cell_type": "code",
   "execution_count": 1,
   "id": "cfc471d4",
   "metadata": {},
   "outputs": [],
   "source": [
    "import pandas as pd\n",
    "import numpy as np\n",
    "import seaborn as sns\n",
    "import matplotlib.pyplot as plt"
   ]
  },
  {
   "cell_type": "code",
   "execution_count": 2,
   "id": "d16e1620",
   "metadata": {},
   "outputs": [
    {
     "name": "stdout",
     "output_type": "stream",
     "text": [
      "df shape: (35, 6)\n"
     ]
    },
    {
     "data": {
      "text/html": [
       "<div>\n",
       "<style scoped>\n",
       "    .dataframe tbody tr th:only-of-type {\n",
       "        vertical-align: middle;\n",
       "    }\n",
       "\n",
       "    .dataframe tbody tr th {\n",
       "        vertical-align: top;\n",
       "    }\n",
       "\n",
       "    .dataframe thead th {\n",
       "        text-align: right;\n",
       "    }\n",
       "</style>\n",
       "<table border=\"1\" class=\"dataframe\">\n",
       "  <thead>\n",
       "    <tr style=\"text-align: right;\">\n",
       "      <th></th>\n",
       "      <th>ID</th>\n",
       "      <th>Category</th>\n",
       "      <th>Registration</th>\n",
       "      <th>SecodName</th>\n",
       "      <th>FirstName</th>\n",
       "      <th>Surname</th>\n",
       "    </tr>\n",
       "  </thead>\n",
       "  <tbody>\n",
       "    <tr>\n",
       "      <th>0</th>\n",
       "      <td>1</td>\n",
       "      <td>FIRST CLASS</td>\n",
       "      <td>AS263/0524/2018</td>\n",
       "      <td>MUNGAI</td>\n",
       "      <td>TABITHA</td>\n",
       "      <td>NDUTA</td>\n",
       "    </tr>\n",
       "    <tr>\n",
       "      <th>1</th>\n",
       "      <td>2</td>\n",
       "      <td>SECOND UPPER</td>\n",
       "      <td>AS263/0553/2018</td>\n",
       "      <td>OSINDI</td>\n",
       "      <td>BONFACE</td>\n",
       "      <td>NaN</td>\n",
       "    </tr>\n",
       "    <tr>\n",
       "      <th>2</th>\n",
       "      <td>3</td>\n",
       "      <td>SECOND UPPER</td>\n",
       "      <td>AS283/0537/2018</td>\n",
       "      <td>KARIMI</td>\n",
       "      <td>CHRISTINE</td>\n",
       "      <td>NaN</td>\n",
       "    </tr>\n",
       "    <tr>\n",
       "      <th>3</th>\n",
       "      <td>4</td>\n",
       "      <td>SECOND UPPER</td>\n",
       "      <td>AS263/0540/2018</td>\n",
       "      <td>NYAMAI</td>\n",
       "      <td>MUTISO</td>\n",
       "      <td>DANIEL</td>\n",
       "    </tr>\n",
       "    <tr>\n",
       "      <th>4</th>\n",
       "      <td>5</td>\n",
       "      <td>SECOND UPPER</td>\n",
       "      <td>AS263/0517/2018</td>\n",
       "      <td>MURUCHI</td>\n",
       "      <td>STEPHEN</td>\n",
       "      <td>GICHUKI</td>\n",
       "    </tr>\n",
       "  </tbody>\n",
       "</table>\n",
       "</div>"
      ],
      "text/plain": [
       "   ID      Category     Registration SecodName  FirstName  Surname\n",
       "0   1   FIRST CLASS  AS263/0524/2018    MUNGAI    TABITHA    NDUTA\n",
       "1   2  SECOND UPPER  AS263/0553/2018    OSINDI    BONFACE      NaN\n",
       "2   3  SECOND UPPER  AS283/0537/2018    KARIMI  CHRISTINE      NaN\n",
       "3   4  SECOND UPPER  AS263/0540/2018    NYAMAI     MUTISO   DANIEL\n",
       "4   5  SECOND UPPER  AS263/0517/2018   MURUCHI    STEPHEN  GICHUKI"
      ]
     },
     "execution_count": 2,
     "metadata": {},
     "output_type": "execute_result"
    }
   ],
   "source": [
    "df = pd.read_csv(r\"C:\\Users\\kelvin\\OneDrive\\Desktop\\Asp.csv\")\n",
    "print(\"df shape:\",df.shape)\n",
    "df.head()"
   ]
  },
  {
   "cell_type": "markdown",
   "id": "12c2c2f5",
   "metadata": {},
   "source": [
    "df = df.set_index(\"ID\",inplace=True)\n",
    "df"
   ]
  },
  {
   "cell_type": "code",
   "execution_count": 3,
   "id": "6b3c8ab0",
   "metadata": {},
   "outputs": [
    {
     "data": {
      "text/html": [
       "<div>\n",
       "<style scoped>\n",
       "    .dataframe tbody tr th:only-of-type {\n",
       "        vertical-align: middle;\n",
       "    }\n",
       "\n",
       "    .dataframe tbody tr th {\n",
       "        vertical-align: top;\n",
       "    }\n",
       "\n",
       "    .dataframe thead th {\n",
       "        text-align: right;\n",
       "    }\n",
       "</style>\n",
       "<table border=\"1\" class=\"dataframe\">\n",
       "  <thead>\n",
       "    <tr style=\"text-align: right;\">\n",
       "      <th></th>\n",
       "      <th>ID</th>\n",
       "      <th>Category</th>\n",
       "      <th>Registration</th>\n",
       "      <th>SecodName</th>\n",
       "      <th>FirstName</th>\n",
       "      <th>Surname</th>\n",
       "      <th>Admin_Year</th>\n",
       "    </tr>\n",
       "  </thead>\n",
       "  <tbody>\n",
       "    <tr>\n",
       "      <th>0</th>\n",
       "      <td>1</td>\n",
       "      <td>FIRST CLASS</td>\n",
       "      <td>AS263/0524/2018</td>\n",
       "      <td>MUNGAI</td>\n",
       "      <td>TABITHA</td>\n",
       "      <td>NDUTA</td>\n",
       "      <td>2018</td>\n",
       "    </tr>\n",
       "    <tr>\n",
       "      <th>1</th>\n",
       "      <td>2</td>\n",
       "      <td>SECOND UPPER</td>\n",
       "      <td>AS263/0553/2018</td>\n",
       "      <td>OSINDI</td>\n",
       "      <td>BONFACE</td>\n",
       "      <td>NaN</td>\n",
       "      <td>2018</td>\n",
       "    </tr>\n",
       "    <tr>\n",
       "      <th>2</th>\n",
       "      <td>3</td>\n",
       "      <td>SECOND UPPER</td>\n",
       "      <td>AS283/0537/2018</td>\n",
       "      <td>KARIMI</td>\n",
       "      <td>CHRISTINE</td>\n",
       "      <td>NaN</td>\n",
       "      <td>2018</td>\n",
       "    </tr>\n",
       "    <tr>\n",
       "      <th>3</th>\n",
       "      <td>4</td>\n",
       "      <td>SECOND UPPER</td>\n",
       "      <td>AS263/0540/2018</td>\n",
       "      <td>NYAMAI</td>\n",
       "      <td>MUTISO</td>\n",
       "      <td>DANIEL</td>\n",
       "      <td>2018</td>\n",
       "    </tr>\n",
       "    <tr>\n",
       "      <th>4</th>\n",
       "      <td>5</td>\n",
       "      <td>SECOND UPPER</td>\n",
       "      <td>AS263/0517/2018</td>\n",
       "      <td>MURUCHI</td>\n",
       "      <td>STEPHEN</td>\n",
       "      <td>GICHUKI</td>\n",
       "      <td>2018</td>\n",
       "    </tr>\n",
       "  </tbody>\n",
       "</table>\n",
       "</div>"
      ],
      "text/plain": [
       "   ID      Category     Registration SecodName  FirstName  Surname Admin_Year\n",
       "0   1   FIRST CLASS  AS263/0524/2018    MUNGAI    TABITHA    NDUTA       2018\n",
       "1   2  SECOND UPPER  AS263/0553/2018    OSINDI    BONFACE      NaN       2018\n",
       "2   3  SECOND UPPER  AS283/0537/2018    KARIMI  CHRISTINE      NaN       2018\n",
       "3   4  SECOND UPPER  AS263/0540/2018    NYAMAI     MUTISO   DANIEL       2018\n",
       "4   5  SECOND UPPER  AS263/0517/2018   MURUCHI    STEPHEN  GICHUKI       2018"
      ]
     },
     "execution_count": 3,
     "metadata": {},
     "output_type": "execute_result"
    }
   ],
   "source": [
    "df[\"Admin_Year\"] = (df[\"Registration\"].str.split(\"/\", expand=True)[2])\n",
    "df.head()"
   ]
  },
  {
   "cell_type": "code",
   "execution_count": 4,
   "id": "e499537a",
   "metadata": {},
   "outputs": [],
   "source": [
    "df[\"Year_Admssion\"]= df[\"Admin_Year\"]\n",
    "df =df.drop(columns = \"Admin_Year\")\n",
    "df[\"Class_Honour\"]  = df[\"Category\" ]\n",
    "df = df.drop(columns = \"Category\")"
   ]
  },
  {
   "cell_type": "code",
   "execution_count": 5,
   "id": "fbe98e64",
   "metadata": {},
   "outputs": [
    {
     "data": {
      "image/png": "[encoded data removed]",
      "text/plain": [
       "<Figure size 432x288 with 1 Axes>"
      ]
     },
     "metadata": {
      "needs_background": "light"
     },
     "output_type": "display_data"
    }
   ],
   "source": [
    "sns.countplot(y=\"Year_Admssion\", data =df)\n",
    "plt.show()"
   ]
  },
  {
   "cell_type": "code",
   "execution_count": 6,
   "id": "6fe648b9",
   "metadata": {},
   "outputs": [
    {
     "name": "stdout",
     "output_type": "stream",
     "text": [
      "Sex shape: (35, 1)\n"
     ]
    },
    {
     "data": {
      "text/html": [
       "<div>\n",
       "<style scoped>\n",
       "    .dataframe tbody tr th:only-of-type {\n",
       "        vertical-align: middle;\n",
       "    }\n",
       "\n",
       "    .dataframe tbody tr th {\n",
       "        vertical-align: top;\n",
       "    }\n",
       "\n",
       "    .dataframe thead th {\n",
       "        text-align: right;\n",
       "    }\n",
       "</style>\n",
       "<table border=\"1\" class=\"dataframe\">\n",
       "  <thead>\n",
       "    <tr style=\"text-align: right;\">\n",
       "      <th></th>\n",
       "      <th>Sex</th>\n",
       "    </tr>\n",
       "  </thead>\n",
       "  <tbody>\n",
       "    <tr>\n",
       "      <th>0</th>\n",
       "      <td>Female</td>\n",
       "    </tr>\n",
       "    <tr>\n",
       "      <th>1</th>\n",
       "      <td>Male</td>\n",
       "    </tr>\n",
       "    <tr>\n",
       "      <th>2</th>\n",
       "      <td>Female</td>\n",
       "    </tr>\n",
       "    <tr>\n",
       "      <th>3</th>\n",
       "      <td>Male</td>\n",
       "    </tr>\n",
       "    <tr>\n",
       "      <th>4</th>\n",
       "      <td>Male</td>\n",
       "    </tr>\n",
       "  </tbody>\n",
       "</table>\n",
       "</div>"
      ],
      "text/plain": [
       "      Sex\n",
       "0  Female\n",
       "1    Male\n",
       "2  Female\n",
       "3    Male\n",
       "4    Male"
      ]
     },
     "execution_count": 6,
     "metadata": {},
     "output_type": "execute_result"
    }
   ],
   "source": [
    "Sex = pd.read_csv(r\"C:\\Users\\kelvin\\OneDrive\\Desktop\\sex_ASP.csv\")\n",
    "print(\"Sex shape:\",Sex.shape)\n",
    "Sex.head()"
   ]
  },
  {
   "cell_type": "code",
   "execution_count": 7,
   "id": "51cb9c79",
   "metadata": {},
   "outputs": [
    {
     "name": "stdout",
     "output_type": "stream",
     "text": [
      "Number of male: Sex \n",
      "Male    22\n",
      "dtype: int64\n",
      "Number of female: Sex   \n",
      "Female    13\n",
      "dtype: int64\n"
     ]
    }
   ],
   "source": [
    "print(\"Number of male:\", Sex[Sex[\"Sex\"]==\"Male\"].value_counts())\n",
    "print(\"Number of female:\",Sex[Sex[\"Sex\"]==\"Female\"].value_counts())"
   ]
  },
  {
   "cell_type": "code",
   "execution_count": 8,
   "id": "6e33f0e6",
   "metadata": {},
   "outputs": [
    {
     "name": "stdout",
     "output_type": "stream",
     "text": [
      "Sex shape: (35, 8)\n"
     ]
    },
    {
     "data": {
      "text/html": [
       "<div>\n",
       "<style scoped>\n",
       "    .dataframe tbody tr th:only-of-type {\n",
       "        vertical-align: middle;\n",
       "    }\n",
       "\n",
       "    .dataframe tbody tr th {\n",
       "        vertical-align: top;\n",
       "    }\n",
       "\n",
       "    .dataframe thead th {\n",
       "        text-align: right;\n",
       "    }\n",
       "</style>\n",
       "<table border=\"1\" class=\"dataframe\">\n",
       "  <thead>\n",
       "    <tr style=\"text-align: right;\">\n",
       "      <th></th>\n",
       "      <th>ID</th>\n",
       "      <th>Registration</th>\n",
       "      <th>SecodName</th>\n",
       "      <th>FirstName</th>\n",
       "      <th>Surname</th>\n",
       "      <th>Year_Admssion</th>\n",
       "      <th>Class_Honour</th>\n",
       "      <th>Sex</th>\n",
       "    </tr>\n",
       "  </thead>\n",
       "  <tbody>\n",
       "    <tr>\n",
       "      <th>0</th>\n",
       "      <td>1</td>\n",
       "      <td>AS263/0524/2018</td>\n",
       "      <td>MUNGAI</td>\n",
       "      <td>TABITHA</td>\n",
       "      <td>NDUTA</td>\n",
       "      <td>2018</td>\n",
       "      <td>FIRST CLASS</td>\n",
       "      <td>Female</td>\n",
       "    </tr>\n",
       "    <tr>\n",
       "      <th>1</th>\n",
       "      <td>2</td>\n",
       "      <td>AS263/0553/2018</td>\n",
       "      <td>OSINDI</td>\n",
       "      <td>BONFACE</td>\n",
       "      <td>NaN</td>\n",
       "      <td>2018</td>\n",
       "      <td>SECOND UPPER</td>\n",
       "      <td>Male</td>\n",
       "    </tr>\n",
       "    <tr>\n",
       "      <th>2</th>\n",
       "      <td>3</td>\n",
       "      <td>AS283/0537/2018</td>\n",
       "      <td>KARIMI</td>\n",
       "      <td>CHRISTINE</td>\n",
       "      <td>NaN</td>\n",
       "      <td>2018</td>\n",
       "      <td>SECOND UPPER</td>\n",
       "      <td>Female</td>\n",
       "    </tr>\n",
       "    <tr>\n",
       "      <th>3</th>\n",
       "      <td>4</td>\n",
       "      <td>AS263/0540/2018</td>\n",
       "      <td>NYAMAI</td>\n",
       "      <td>MUTISO</td>\n",
       "      <td>DANIEL</td>\n",
       "      <td>2018</td>\n",
       "      <td>SECOND UPPER</td>\n",
       "      <td>Male</td>\n",
       "    </tr>\n",
       "    <tr>\n",
       "      <th>4</th>\n",
       "      <td>5</td>\n",
       "      <td>AS263/0517/2018</td>\n",
       "      <td>MURUCHI</td>\n",
       "      <td>STEPHEN</td>\n",
       "      <td>GICHUKI</td>\n",
       "      <td>2018</td>\n",
       "      <td>SECOND UPPER</td>\n",
       "      <td>Male</td>\n",
       "    </tr>\n",
       "  </tbody>\n",
       "</table>\n",
       "</div>"
      ],
      "text/plain": [
       "   ID     Registration SecodName  FirstName  Surname Year_Admssion  \\\n",
       "0   1  AS263/0524/2018    MUNGAI    TABITHA    NDUTA          2018   \n",
       "1   2  AS263/0553/2018    OSINDI    BONFACE      NaN          2018   \n",
       "2   3  AS283/0537/2018    KARIMI  CHRISTINE      NaN          2018   \n",
       "3   4  AS263/0540/2018    NYAMAI     MUTISO   DANIEL          2018   \n",
       "4   5  AS263/0517/2018   MURUCHI    STEPHEN  GICHUKI          2018   \n",
       "\n",
       "   Class_Honour     Sex  \n",
       "0   FIRST CLASS  Female  \n",
       "1  SECOND UPPER    Male  \n",
       "2  SECOND UPPER  Female  \n",
       "3  SECOND UPPER    Male  \n",
       "4  SECOND UPPER    Male  "
      ]
     },
     "execution_count": 8,
     "metadata": {},
     "output_type": "execute_result"
    }
   ],
   "source": [
    "df = pd.concat([df,Sex],axis =1)\n",
    "print(\"Sex shape:\",df.shape)\n",
    "df.head()"
   ]
  },
  {
   "cell_type": "code",
   "execution_count": 9,
   "id": "18f141bd",
   "metadata": {},
   "outputs": [
    {
     "data": {
      "text/html": [
       "<div>\n",
       "<style scoped>\n",
       "    .dataframe tbody tr th:only-of-type {\n",
       "        vertical-align: middle;\n",
       "    }\n",
       "\n",
       "    .dataframe tbody tr th {\n",
       "        vertical-align: top;\n",
       "    }\n",
       "\n",
       "    .dataframe thead th {\n",
       "        text-align: right;\n",
       "    }\n",
       "</style>\n",
       "<table border=\"1\" class=\"dataframe\">\n",
       "  <thead>\n",
       "    <tr style=\"text-align: right;\">\n",
       "      <th></th>\n",
       "      <th>Sex</th>\n",
       "    </tr>\n",
       "  </thead>\n",
       "  <tbody>\n",
       "    <tr>\n",
       "      <th>6</th>\n",
       "      <td>Male</td>\n",
       "    </tr>\n",
       "  </tbody>\n",
       "</table>\n",
       "</div>"
      ],
      "text/plain": [
       "    Sex\n",
       "6  Male"
      ]
     },
     "execution_count": 9,
     "metadata": {},
     "output_type": "execute_result"
    }
   ],
   "source": [
    "Sex.iloc[\n",
    "        \n",
    "        [6],\n",
    "        :\n",
    "        ]"
   ]
  },
  {
   "cell_type": "code",
   "execution_count": 10,
   "id": "4ed676f4",
   "metadata": {},
   "outputs": [
    {
     "data": {
      "text/plain": [
       "array(['FIRST CLASS', 'SECOND UPPER', 'SECOND LOWER', 'PASS'],\n",
       "      dtype=object)"
      ]
     },
     "execution_count": 10,
     "metadata": {},
     "output_type": "execute_result"
    }
   ],
   "source": [
    "df[\"Class_Honour\"].unique()"
   ]
  },
  {
   "cell_type": "code",
   "execution_count": 11,
   "id": "059e9b0f",
   "metadata": {},
   "outputs": [
    {
     "data": {
      "text/plain": [
       "array(['2018', '2017', '2016'], dtype=object)"
      ]
     },
     "execution_count": 11,
     "metadata": {},
     "output_type": "execute_result"
    }
   ],
   "source": [
    "df[\"Year_Admssion\"].unique()"
   ]
  },
  {
   "cell_type": "code",
   "execution_count": 12,
   "id": "0328defc",
   "metadata": {},
   "outputs": [
    {
     "data": {
      "text/plain": [
       "Class_Honour  Year_Admssion\n",
       "FIRST CLASS   2018              1\n",
       "PASS          2018              1\n",
       "SECOND LOWER  2018              9\n",
       "              2017              6\n",
       "              2016              3\n",
       "SECOND UPPER  2018             14\n",
       "              2017              1\n",
       "Name: Year_Admssion, dtype: int64"
      ]
     },
     "execution_count": 12,
     "metadata": {},
     "output_type": "execute_result"
    }
   ],
   "source": [
    "df.groupby(\"Class_Honour\")[\"Year_Admssion\"].value_counts()"
   ]
  },
  {
   "cell_type": "code",
   "execution_count": 13,
   "id": "321d68bd",
   "metadata": {},
   "outputs": [
    {
     "data": {
      "text/plain": [
       "Class_Honour  Year_Admssion\n",
       "FIRST CLASS   2018              1\n",
       "PASS          2018              1\n",
       "SECOND LOWER  2018              9\n",
       "              2017              6\n",
       "              2016              3\n",
       "SECOND UPPER  2018             14\n",
       "              2017              1\n",
       "Name: Year_Admssion, dtype: int64"
      ]
     },
     "execution_count": 13,
     "metadata": {},
     "output_type": "execute_result"
    }
   ],
   "source": [
    "df.groupby(\"Class_Honour\")[\"Year_Admssion\"].value_counts()"
   ]
  },
  {
   "cell_type": "code",
   "execution_count": 14,
   "id": "ab9bd6b2",
   "metadata": {},
   "outputs": [
    {
     "data": {
      "text/plain": [
       "Class_Honour  Sex   \n",
       "FIRST CLASS   Female     1\n",
       "PASS          Male       1\n",
       "SECOND LOWER  Male      10\n",
       "              Female     8\n",
       "SECOND UPPER  Male      11\n",
       "              Female     4\n",
       "Name: Sex, dtype: int64"
      ]
     },
     "execution_count": 14,
     "metadata": {},
     "output_type": "execute_result"
    }
   ],
   "source": [
    "df.groupby(\"Class_Honour\")[\"Sex\"].value_counts()"
   ]
  },
  {
   "cell_type": "code",
   "execution_count": 15,
   "id": "fae5c422",
   "metadata": {},
   "outputs": [
    {
     "data": {
      "text/plain": [
       "array(['2018', '2017', '2016'], dtype=object)"
      ]
     },
     "execution_count": 15,
     "metadata": {},
     "output_type": "execute_result"
    }
   ],
   "source": [
    "df[\"Year_Admssion\"].unique()"
   ]
  },
  {
   "cell_type": "code",
   "execution_count": 16,
   "id": "24753492",
   "metadata": {},
   "outputs": [],
   "source": [
    "df[\"Year\"] = df[\"Year_Admssion\"].replace([\"2016\",\"2017\"],\"Others\")"
   ]
  },
  {
   "cell_type": "code",
   "execution_count": 17,
   "id": "72b9ed0d",
   "metadata": {},
   "outputs": [
    {
     "data": {
      "text/plain": [
       "Class_Honour  Year  \n",
       "FIRST CLASS   2018       1\n",
       "PASS          2018       1\n",
       "SECOND LOWER  2018       9\n",
       "              Others     9\n",
       "SECOND UPPER  2018      14\n",
       "              Others     1\n",
       "Name: Year, dtype: int64"
      ]
     },
     "execution_count": 17,
     "metadata": {},
     "output_type": "execute_result"
    }
   ],
   "source": [
    "df.groupby(\"Class_Honour\")[\"Year\"].value_counts()"
   ]
  },
  {
   "cell_type": "code",
   "execution_count": 18,
   "id": "c77c7cf4",
   "metadata": {},
   "outputs": [
    {
     "data": {
      "text/html": [
       "<div>\n",
       "<style scoped>\n",
       "    .dataframe tbody tr th:only-of-type {\n",
       "        vertical-align: middle;\n",
       "    }\n",
       "\n",
       "    .dataframe tbody tr th {\n",
       "        vertical-align: top;\n",
       "    }\n",
       "\n",
       "    .dataframe thead th {\n",
       "        text-align: right;\n",
       "    }\n",
       "</style>\n",
       "<table border=\"1\" class=\"dataframe\">\n",
       "  <thead>\n",
       "    <tr style=\"text-align: right;\">\n",
       "      <th></th>\n",
       "      <th>ID</th>\n",
       "      <th>Registration</th>\n",
       "      <th>SecodName</th>\n",
       "      <th>FirstName</th>\n",
       "      <th>Surname</th>\n",
       "      <th>Year_Admssion</th>\n",
       "      <th>Class_Honour</th>\n",
       "      <th>Sex</th>\n",
       "      <th>Year</th>\n",
       "    </tr>\n",
       "  </thead>\n",
       "  <tbody>\n",
       "    <tr>\n",
       "      <th>9</th>\n",
       "      <td>10</td>\n",
       "      <td>AS263/1445/2017</td>\n",
       "      <td>MWANGI</td>\n",
       "      <td>EVANS</td>\n",
       "      <td>MUTUA</td>\n",
       "      <td>2017</td>\n",
       "      <td>SECOND UPPER</td>\n",
       "      <td>Male</td>\n",
       "      <td>Others</td>\n",
       "    </tr>\n",
       "  </tbody>\n",
       "</table>\n",
       "</div>"
      ],
      "text/plain": [
       "   ID     Registration SecodName FirstName Surname Year_Admssion  \\\n",
       "9  10  AS263/1445/2017    MWANGI     EVANS   MUTUA          2017   \n",
       "\n",
       "   Class_Honour   Sex    Year  \n",
       "9  SECOND UPPER  Male  Others  "
      ]
     },
     "execution_count": 18,
     "metadata": {},
     "output_type": "execute_result"
    }
   ],
   "source": [
    "df[  (df[\"Year\"]== \"Others\") & (df[\"Class_Honour\"]== \"SECOND UPPER\" ) ]"
   ]
  },
  {
   "cell_type": "code",
   "execution_count": 19,
   "id": "af015ad8",
   "metadata": {},
   "outputs": [
    {
     "data": {
      "text/plain": [
       "ID                             8\n",
       "Registration     AS263/0546/2018\n",
       "SecodName                KIPSANG\n",
       "FirstName                 KELVIN\n",
       "Surname                      NaN\n",
       "Year_Admssion               2018\n",
       "Class_Honour        SECOND UPPER\n",
       "Sex                         Male\n",
       "Year                        2018\n",
       "Name: 7, dtype: object"
      ]
     },
     "execution_count": 19,
     "metadata": {},
     "output_type": "execute_result"
    }
   ],
   "source": [
    "df.iloc[\n",
    "      7,\n",
    "      \n",
    "]"
   ]
  },
  {
   "cell_type": "code",
   "execution_count": 20,
   "id": "995eb0ba",
   "metadata": {},
   "outputs": [
    {
     "data": {
      "text/html": [
       "<div>\n",
       "<style scoped>\n",
       "    .dataframe tbody tr th:only-of-type {\n",
       "        vertical-align: middle;\n",
       "    }\n",
       "\n",
       "    .dataframe tbody tr th {\n",
       "        vertical-align: top;\n",
       "    }\n",
       "\n",
       "    .dataframe thead th {\n",
       "        text-align: right;\n",
       "    }\n",
       "</style>\n",
       "<table border=\"1\" class=\"dataframe\">\n",
       "  <thead>\n",
       "    <tr style=\"text-align: right;\">\n",
       "      <th></th>\n",
       "      <th>Registration</th>\n",
       "      <th>SecodName</th>\n",
       "      <th>FirstName</th>\n",
       "      <th>Class_Honour</th>\n",
       "    </tr>\n",
       "  </thead>\n",
       "  <tbody>\n",
       "    <tr>\n",
       "      <th>0</th>\n",
       "      <td>AS263/0524/2018</td>\n",
       "      <td>MUNGAI</td>\n",
       "      <td>TABITHA</td>\n",
       "      <td>FIRST CLASS</td>\n",
       "    </tr>\n",
       "    <tr>\n",
       "      <th>1</th>\n",
       "      <td>AS263/0553/2018</td>\n",
       "      <td>OSINDI</td>\n",
       "      <td>BONFACE</td>\n",
       "      <td>SECOND UPPER</td>\n",
       "    </tr>\n",
       "    <tr>\n",
       "      <th>2</th>\n",
       "      <td>AS283/0537/2018</td>\n",
       "      <td>KARIMI</td>\n",
       "      <td>CHRISTINE</td>\n",
       "      <td>SECOND UPPER</td>\n",
       "    </tr>\n",
       "  </tbody>\n",
       "</table>\n",
       "</div>"
      ],
      "text/plain": [
       "      Registration SecodName  FirstName  Class_Honour\n",
       "0  AS263/0524/2018    MUNGAI    TABITHA   FIRST CLASS\n",
       "1  AS263/0553/2018    OSINDI    BONFACE  SECOND UPPER\n",
       "2  AS283/0537/2018    KARIMI  CHRISTINE  SECOND UPPER"
      ]
     },
     "execution_count": 20,
     "metadata": {},
     "output_type": "execute_result"
    }
   ],
   "source": [
    "result = df.iloc[\n",
    "      [0,1,2],\n",
    "      [1,2,3,6]\n",
    "]\n",
    "result.head()"
   ]
  },
  {
   "cell_type": "code",
   "execution_count": 21,
   "id": "05b841aa",
   "metadata": {},
   "outputs": [
    {
     "data": {
      "text/html": [
       "<div>\n",
       "<style scoped>\n",
       "    .dataframe tbody tr th:only-of-type {\n",
       "        vertical-align: middle;\n",
       "    }\n",
       "\n",
       "    .dataframe tbody tr th {\n",
       "        vertical-align: top;\n",
       "    }\n",
       "\n",
       "    .dataframe thead th {\n",
       "        text-align: right;\n",
       "    }\n",
       "</style>\n",
       "<table border=\"1\" class=\"dataframe\">\n",
       "  <thead>\n",
       "    <tr style=\"text-align: right;\">\n",
       "      <th></th>\n",
       "      <th>SecodName</th>\n",
       "      <th>Registration</th>\n",
       "    </tr>\n",
       "  </thead>\n",
       "  <tbody>\n",
       "    <tr>\n",
       "      <th>0</th>\n",
       "      <td>MUNGAI</td>\n",
       "      <td>AS263/0524/2018</td>\n",
       "    </tr>\n",
       "    <tr>\n",
       "      <th>1</th>\n",
       "      <td>OSINDI</td>\n",
       "      <td>AS263/0553/2018</td>\n",
       "    </tr>\n",
       "    <tr>\n",
       "      <th>2</th>\n",
       "      <td>KARIMI</td>\n",
       "      <td>AS283/0537/2018</td>\n",
       "    </tr>\n",
       "    <tr>\n",
       "      <th>3</th>\n",
       "      <td>NYAMAI</td>\n",
       "      <td>AS263/0540/2018</td>\n",
       "    </tr>\n",
       "    <tr>\n",
       "      <th>4</th>\n",
       "      <td>MURUCHI</td>\n",
       "      <td>AS263/0517/2018</td>\n",
       "    </tr>\n",
       "  </tbody>\n",
       "</table>\n",
       "</div>"
      ],
      "text/plain": [
       "  SecodName     Registration\n",
       "0    MUNGAI  AS263/0524/2018\n",
       "1    OSINDI  AS263/0553/2018\n",
       "2    KARIMI  AS283/0537/2018\n",
       "3    NYAMAI  AS263/0540/2018\n",
       "4   MURUCHI  AS263/0517/2018"
      ]
     },
     "execution_count": 21,
     "metadata": {},
     "output_type": "execute_result"
    }
   ],
   "source": [
    "result =df.loc[:,[\"SecodName\",\"Registration\"]\n",
    "      ]\n",
    "result.head()"
   ]
  }
 ],
 "metadata": {
  "kernelspec": {
   "display_name": "Python 3 (ipykernel)",
   "language": "python",
   "name": "python3"
  },
  "language_info": {
   "codemirror_mode": {
    "name": "ipython",
    "version": 3
   },
   "file_extension": ".py",
   "mimetype": "text/x-python",
   "name": "python",
   "nbconvert_exporter": "python",
   "pygments_lexer": "ipython3",
   "version": "3.9.12"
  }
 },
 "nbformat": 4,
 "nbformat_minor": 5
}
